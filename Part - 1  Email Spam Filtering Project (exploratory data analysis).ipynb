{
 "cells": [
  {
   "cell_type": "markdown",
   "id": "6f5eda16",
   "metadata": {},
   "source": [
    "# Spam Filtering Project (exploratory data analysis) by using Naive Bayes Classifier"
   ]
  },
  {
   "cell_type": "code",
   "execution_count": 1,
   "id": "69c3bafb",
   "metadata": {},
   "outputs": [],
   "source": [
    "from os import walk \n",
    "from os.path import join\n",
    "import sys\n",
    "import matplotlib.pyplot as plt\n",
    "import numpy as np \n",
    "import pandas as pd\n",
    "from sklearn.model_selection import train_test_split\n",
    "\n",
    "import nltk\n",
    "from nltk.stem import PorterStemmer\n",
    "from nltk.stem import SnowballStemmer\n",
    "from nltk.corpus import stopwords\n",
    "from nltk.tokenize import word_tokenize\n",
    "from bs4 import BeautifulSoup"
   ]
  },
  {
   "cell_type": "code",
   "execution_count": 2,
   "id": "e49779d0",
   "metadata": {},
   "outputs": [
    {
     "data": {
      "text/plain": [
       "'utf-8'"
      ]
     },
     "execution_count": 2,
     "metadata": {},
     "output_type": "execute_result"
    }
   ],
   "source": [
    "sys.getfilesystemencoding()"
   ]
  },
  {
   "cell_type": "code",
   "execution_count": 3,
   "id": "f6a3873f",
   "metadata": {},
   "outputs": [
    {
     "data": {
      "text/plain": [
       "'SpamData/01_Processing/practice_email.txt'"
      ]
     },
     "execution_count": 3,
     "metadata": {},
     "output_type": "execute_result"
    }
   ],
   "source": [
    "EXAMPLE_FILE = 'SpamData/01_Processing/practice_email.txt'\n",
    "EXAMPLE_FILE"
   ]
  },
  {
   "cell_type": "code",
   "execution_count": 4,
   "id": "06737467",
   "metadata": {},
   "outputs": [],
   "source": [
    "stream = open(EXAMPLE_FILE, encoding = 'latin-1')"
   ]
  },
  {
   "cell_type": "code",
   "execution_count": 5,
   "id": "b7dc3ff6",
   "metadata": {},
   "outputs": [],
   "source": [
    "message = stream.read()"
   ]
  },
  {
   "cell_type": "code",
   "execution_count": 6,
   "id": "71165d76",
   "metadata": {},
   "outputs": [],
   "source": [
    "stream.close()"
   ]
  },
  {
   "cell_type": "code",
   "execution_count": 7,
   "id": "c77bd260",
   "metadata": {
    "scrolled": true
   },
   "outputs": [
    {
     "name": "stdout",
     "output_type": "stream",
     "text": [
      "From exmh-workers-admin@redhat.com  Wed Aug 21 16:46:03 2002\n",
      "Return-Path: <exmh-workers-admin@spamassassin.taint.org>\n",
      "Delivered-To: yyyy@localhost.netnoteinc.com\n",
      "Received: from localhost (localhost [127.0.0.1])\n",
      "\tby phobos.labs.netnoteinc.com (Postfix) with ESMTP id 7B74843C32\n",
      "\tfor <jm@localhost>; Wed, 21 Aug 2002 11:46:03 -0400 (EDT)\n",
      "Received: from phobos [127.0.0.1]\n",
      "\tby localhost with IMAP (fetchmail-5.9.0)\n",
      "\tfor jm@localhost (single-drop); Wed, 21 Aug 2002 16:46:03 +0100 (IST)\n",
      "Received: from listman.spamassassin.taint.org (listman.spamassassin.taint.org [66.187.233.211]) by\n",
      "    dogma.slashnull.org (8.11.6/8.11.6) with ESMTP id g7LFlwZ32032 for\n",
      "    <jm-exmh@jmason.org>; Wed, 21 Aug 2002 16:47:58 +0100\n",
      "Received: from listman.spamassassin.taint.org (localhost.localdomain [127.0.0.1]) by\n",
      "    listman.redhat.com (Postfix) with ESMTP id 8ED1C3F0F1; Wed, 21 Aug 2002\n",
      "    11:48:01 -0400 (EDT)\n",
      "Delivered-To: exmh-workers@listman.spamassassin.taint.org\n",
      "Received: from int-mx1.corp.spamassassin.taint.org (int-mx1.corp.spamassassin.taint.org\n",
      "    [172.16.52.254]) by listman.redhat.com (Postfix) with ESMTP id B092B3F09F\n",
      "    for <exmh-workers@listman.redhat.com>; Wed, 21 Aug 2002 11:47:39 -0400\n",
      "    (EDT)\n",
      "Received: (from mail@localhost) by int-mx1.corp.spamassassin.taint.org (8.11.6/8.11.6)\n",
      "    id g7LFlah29920 for exmh-workers@listman.redhat.com; Wed, 21 Aug 2002\n",
      "    11:47:36 -0400\n",
      "Received: from mx1.spamassassin.taint.org (mx1.spamassassin.taint.org [172.16.48.31]) by\n",
      "    int-mx1.corp.redhat.com (8.11.6/8.11.6) with SMTP id g7LFlaY29916 for\n",
      "    <exmh-workers@redhat.com>; Wed, 21 Aug 2002 11:47:36 -0400\n",
      "Received: from austin-jump.vircio.com\n",
      "    (IDENT:0sRmOSixVxcwiN8rBh2qRymktC2BIreP@jump-austin.vircio.com\n",
      "    [192.12.3.99]) by mx1.redhat.com (8.11.6/8.11.6) with SMTP id g7LFXEl30998\n",
      "    for <exmh-workers@redhat.com>; Wed, 21 Aug 2002 11:33:14 -0400\n",
      "Received: (qmail 29729 invoked by uid 104); 21 Aug 2002 15:47:35 -0000\n",
      "Received: from cwg-exmh@DeepEddy.Com by localhost.localdomain with\n",
      "    qmail-scanner-0.90 (uvscan: v4.1.60/v4218. . Clean. Processed in 0.687936\n",
      "    secs); 21/08/2002 10:47:35\n",
      "Received: from deepeddy.vircio.com ([10.1.2.1]) (envelope-sender\n",
      "    <cwg-exmh@DeepEddy.Com>) by austin-jump.vircio.com (qmail-ldap-1.03) with\n",
      "    SMTP for <exmh-workers@redhat.com>; 21 Aug 2002 15:47:35 -0000\n",
      "Received: (qmail 3148 invoked from network); 21 Aug 2002 15:47:34 -0000\n",
      "Received: from localhost (HELO deepeddy.vircio.com) ([127.0.0.1])\n",
      "    (envelope-sender <cwg-exmh@DeepEddy.Com>) by localhost (qmail-ldap-1.03)\n",
      "    with SMTP for <exmh-workers@redhat.com>; 21 Aug 2002 15:47:34 -0000\n",
      "X-Mailer: exmh version 2.5 07/13/2001 with nmh-1.0.4\n",
      "Cc: Robert Elz <kre@munnari.OZ.AU>, exmh-workers@spamassassin.taint.org\n",
      "Subject: Re: New Sequences Window\n",
      "In-Reply-To: <1029944441.398.TMDA@deepeddy.vircio.com>\n",
      "References: <1029882468.3116.TMDA@deepeddy.vircio.com>\n",
      "    <9627.1029933001@munnari.OZ.AU>\n",
      "    <1029943066.26919.TMDA@deepeddy.vircio.com>\n",
      "    <1029944441.398.TMDA@deepeddy.vircio.com>\n",
      "X-Url: http://www.DeepEddy.Com/~cwg\n",
      "X-Image-Url: http://www.DeepEddy.Com/~cwg/chris.gif\n",
      "MIME-Version: 1.0\n",
      "Content-Type: multipart/signed;\n",
      "    boundary=\"==_Exmh_-2080822444P\";\n",
      "    micalg=pgp-sha1;\n",
      "    protocol=\"application/pgp-signature\"\n",
      "Content-Transfer-Encoding: 7bit\n",
      "Message-Id: <1029944854.3139.TMDA@deepeddy.vircio.com>\n",
      "From: Chris Garrigues <cwg-exmh@DeepEddy.Com>\n",
      "X-Delivery-Agent: TMDA/0.57\n",
      "Reply-To: Chris Garrigues <cwg-dated-1030376854.d4b7b4@DeepEddy.Com>\n",
      "X-Loop: exmh-workers@spamassassin.taint.org\n",
      "Sender: exmh-workers-admin@spamassassin.taint.org\n",
      "Errors-To: exmh-workers-admin@spamassassin.taint.org\n",
      "X-Beenthere: exmh-workers@spamassassin.taint.org\n",
      "X-Mailman-Version: 2.0.1\n",
      "Precedence: bulk\n",
      "List-Help: <mailto:exmh-workers-request@spamassassin.taint.org?subject=help>\n",
      "List-Post: <mailto:exmh-workers@spamassassin.taint.org>\n",
      "List-Subscribe: <https://listman.spamassassin.taint.org/mailman/listinfo/exmh-workers>,\n",
      "    <mailto:exmh-workers-request@redhat.com?subject=subscribe>\n",
      "List-Id: Discussion list for EXMH developers <exmh-workers.spamassassin.taint.org>\n",
      "List-Unsubscribe: <https://listman.spamassassin.taint.org/mailman/listinfo/exmh-workers>,\n",
      "    <mailto:exmh-workers-request@redhat.com?subject=unsubscribe>\n",
      "List-Archive: <https://listman.spamassassin.taint.org/mailman/private/exmh-workers/>\n",
      "Date: Wed, 21 Aug 2002 10:47:32 -0500\n",
      "\n",
      "\n",
      "From:  Robert Elz <kre@munnari.OZ.AU>\n",
      "Date:  Wed, 21 Aug 2002 19:30:01 +0700\n",
      "\n",
      "Second, I've been used to having a key binding which was to Msg_MarkUnseen\n",
      "which doesn't seem to exist any more, and I'm not sure what I should replace\n",
      "that with.   There's obviously a way as the \"Sequences\" menu does this.\n",
      "The \"Mark Unseen\" menu entry in the message \"More\" menu is still wanting\n",
      "that function as well...\n",
      " \n",
      "\n",
      " \n",
      "I'm not sure how I missed the need to fix this in app-defaults for \"Mark \n",
      "Unseen\".  I guess that'll be my next CVS fix.\n",
      "\n",
      "Okay, that was easy...fixed in CVS.\n",
      "\n",
      "Chris\n",
      "\n",
      "\n",
      "\n"
     ]
    }
   ],
   "source": [
    "print(message)"
   ]
  },
  {
   "cell_type": "code",
   "execution_count": 8,
   "id": "ed605a9a",
   "metadata": {},
   "outputs": [],
   "source": [
    "# spam data..."
   ]
  },
  {
   "cell_type": "code",
   "execution_count": 9,
   "id": "8047e54a",
   "metadata": {},
   "outputs": [],
   "source": [
    "SPAM_1_PATH = 'SpamData/01_Processing/spam_assassin_corpus/spam_1'\n",
    "SPAM_CAT = 1"
   ]
  },
  {
   "cell_type": "code",
   "execution_count": 10,
   "id": "1dd5df91",
   "metadata": {},
   "outputs": [],
   "source": [
    "def email_body_generator(path):\n",
    "    \n",
    "    for root, dirnames, filenames in walk(path):\n",
    "        \n",
    "        for file_name in filenames:\n",
    "            \n",
    "            filepath = join(root, file_name)\n",
    "            \n",
    "            stream = open(filepath, encoding = 'latin-1')\n",
    "            \n",
    "            is_body = False\n",
    "            \n",
    "            lines = []\n",
    "            \n",
    "            for line in stream:\n",
    "                \n",
    "                if is_body:\n",
    "                    \n",
    "                    lines.append(line)\n",
    "                    \n",
    "                elif line == '\\n':\n",
    "                    \n",
    "                    is_body = True\n",
    "                    \n",
    "            stream.close()\n",
    "            \n",
    "            email_body = '\\n'.join(lines)\n",
    "            \n",
    "            yield file_name, email_body"
   ]
  },
  {
   "cell_type": "code",
   "execution_count": 11,
   "id": "1d938cff",
   "metadata": {},
   "outputs": [],
   "source": [
    "def df_from_directory(path, classification):\n",
    "    \n",
    "    rows = []\n",
    "    \n",
    "    row_names = []\n",
    "    \n",
    "    for file_name, email_body in email_body_generator(path):\n",
    "        \n",
    "        rows.append({'MESSAGE' : email_body, 'CATEGORY' : classification})\n",
    "        \n",
    "        row_names.append(file_name)\n",
    "        \n",
    "    return pd.DataFrame(rows, index = row_names)"
   ]
  },
  {
   "cell_type": "code",
   "execution_count": 12,
   "id": "40a0f182",
   "metadata": {},
   "outputs": [
    {
     "data": {
      "text/html": [
       "<div>\n",
       "<style scoped>\n",
       "    .dataframe tbody tr th:only-of-type {\n",
       "        vertical-align: middle;\n",
       "    }\n",
       "\n",
       "    .dataframe tbody tr th {\n",
       "        vertical-align: top;\n",
       "    }\n",
       "\n",
       "    .dataframe thead th {\n",
       "        text-align: right;\n",
       "    }\n",
       "</style>\n",
       "<table border=\"1\" class=\"dataframe\">\n",
       "  <thead>\n",
       "    <tr style=\"text-align: right;\">\n",
       "      <th></th>\n",
       "      <th>MESSAGE</th>\n",
       "      <th>CATEGORY</th>\n",
       "    </tr>\n",
       "  </thead>\n",
       "  <tbody>\n",
       "    <tr>\n",
       "      <th>00001.7848dde101aa985090474a91ec93fcf0</th>\n",
       "      <td>&lt;!DOCTYPE HTML PUBLIC \"-//W3C//DTD HTML 4.0 Tr...</td>\n",
       "      <td>1</td>\n",
       "    </tr>\n",
       "    <tr>\n",
       "      <th>00002.d94f1b97e48ed3b553b3508d116e6a09</th>\n",
       "      <td>1) Fight The Risk of Cancer!\\n\\nhttp://www.adc...</td>\n",
       "      <td>1</td>\n",
       "    </tr>\n",
       "    <tr>\n",
       "      <th>00003.2ee33bc6eacdb11f38d052c44819ba6c</th>\n",
       "      <td>1) Fight The Risk of Cancer!\\n\\nhttp://www.adc...</td>\n",
       "      <td>1</td>\n",
       "    </tr>\n",
       "    <tr>\n",
       "      <th>00004.eac8de8d759b7e74154f142194282724</th>\n",
       "      <td>##############################################...</td>\n",
       "      <td>1</td>\n",
       "    </tr>\n",
       "    <tr>\n",
       "      <th>00005.57696a39d7d84318ce497886896bf90d</th>\n",
       "      <td>I thought you might like these:\\n\\n1) Slim Dow...</td>\n",
       "      <td>1</td>\n",
       "    </tr>\n",
       "    <tr>\n",
       "      <th>...</th>\n",
       "      <td>...</td>\n",
       "      <td>...</td>\n",
       "    </tr>\n",
       "    <tr>\n",
       "      <th>00497.ebf699da617b11135f3aa9173b9781b9</th>\n",
       "      <td>&lt;html&gt;\\n\\n&lt;head&gt;\\n\\n&lt;title&gt;Untitled Document&lt;/...</td>\n",
       "      <td>1</td>\n",
       "    </tr>\n",
       "    <tr>\n",
       "      <th>00498.48c3098854d339353f1a28a13b196017</th>\n",
       "      <td>This is an HTML email message.  If you see thi...</td>\n",
       "      <td>1</td>\n",
       "    </tr>\n",
       "    <tr>\n",
       "      <th>00499.988506a852cf86b396771a8bdc8cf839</th>\n",
       "      <td>&lt;html&gt;\\n\\n&lt;head&gt;\\n\\n&lt;/head&gt;\\n\\n  &lt;body backgro...</td>\n",
       "      <td>1</td>\n",
       "    </tr>\n",
       "    <tr>\n",
       "      <th>00500.85b72f09f6778a085dc8b6821965a76f</th>\n",
       "      <td>&lt;STYLE type=\"text/css\"&gt;\\n\\n&lt;!--\\n\\nP{\\n\\n  fon...</td>\n",
       "      <td>1</td>\n",
       "    </tr>\n",
       "    <tr>\n",
       "      <th>cmds</th>\n",
       "      <td></td>\n",
       "      <td>1</td>\n",
       "    </tr>\n",
       "  </tbody>\n",
       "</table>\n",
       "<p>501 rows × 2 columns</p>\n",
       "</div>"
      ],
      "text/plain": [
       "                                                                                  MESSAGE  \\\n",
       "00001.7848dde101aa985090474a91ec93fcf0  <!DOCTYPE HTML PUBLIC \"-//W3C//DTD HTML 4.0 Tr...   \n",
       "00002.d94f1b97e48ed3b553b3508d116e6a09  1) Fight The Risk of Cancer!\\n\\nhttp://www.adc...   \n",
       "00003.2ee33bc6eacdb11f38d052c44819ba6c  1) Fight The Risk of Cancer!\\n\\nhttp://www.adc...   \n",
       "00004.eac8de8d759b7e74154f142194282724  ##############################################...   \n",
       "00005.57696a39d7d84318ce497886896bf90d  I thought you might like these:\\n\\n1) Slim Dow...   \n",
       "...                                                                                   ...   \n",
       "00497.ebf699da617b11135f3aa9173b9781b9  <html>\\n\\n<head>\\n\\n<title>Untitled Document</...   \n",
       "00498.48c3098854d339353f1a28a13b196017  This is an HTML email message.  If you see thi...   \n",
       "00499.988506a852cf86b396771a8bdc8cf839  <html>\\n\\n<head>\\n\\n</head>\\n\\n  <body backgro...   \n",
       "00500.85b72f09f6778a085dc8b6821965a76f  <STYLE type=\"text/css\">\\n\\n<!--\\n\\nP{\\n\\n  fon...   \n",
       "cmds                                                                                        \n",
       "\n",
       "                                        CATEGORY  \n",
       "00001.7848dde101aa985090474a91ec93fcf0         1  \n",
       "00002.d94f1b97e48ed3b553b3508d116e6a09         1  \n",
       "00003.2ee33bc6eacdb11f38d052c44819ba6c         1  \n",
       "00004.eac8de8d759b7e74154f142194282724         1  \n",
       "00005.57696a39d7d84318ce497886896bf90d         1  \n",
       "...                                          ...  \n",
       "00497.ebf699da617b11135f3aa9173b9781b9         1  \n",
       "00498.48c3098854d339353f1a28a13b196017         1  \n",
       "00499.988506a852cf86b396771a8bdc8cf839         1  \n",
       "00500.85b72f09f6778a085dc8b6821965a76f         1  \n",
       "cmds                                           1  \n",
       "\n",
       "[501 rows x 2 columns]"
      ]
     },
     "execution_count": 12,
     "metadata": {},
     "output_type": "execute_result"
    }
   ],
   "source": [
    "df_from_directory(SPAM_1_PATH, SPAM_CAT)"
   ]
  },
  {
   "cell_type": "code",
   "execution_count": 13,
   "id": "9fb249b9",
   "metadata": {},
   "outputs": [],
   "source": [
    "SPAM_2_PATH = 'SpamData/01_Processing/spam_assassin_corpus/spam_2'"
   ]
  },
  {
   "cell_type": "code",
   "execution_count": 14,
   "id": "d9678abd",
   "metadata": {},
   "outputs": [
    {
     "data": {
      "text/html": [
       "<div>\n",
       "<style scoped>\n",
       "    .dataframe tbody tr th:only-of-type {\n",
       "        vertical-align: middle;\n",
       "    }\n",
       "\n",
       "    .dataframe tbody tr th {\n",
       "        vertical-align: top;\n",
       "    }\n",
       "\n",
       "    .dataframe thead th {\n",
       "        text-align: right;\n",
       "    }\n",
       "</style>\n",
       "<table border=\"1\" class=\"dataframe\">\n",
       "  <thead>\n",
       "    <tr style=\"text-align: right;\">\n",
       "      <th></th>\n",
       "      <th>MESSAGE</th>\n",
       "      <th>CATEGORY</th>\n",
       "    </tr>\n",
       "  </thead>\n",
       "  <tbody>\n",
       "    <tr>\n",
       "      <th>00001.317e78fa8ee2f54cd4890fdc09ba8176</th>\n",
       "      <td>Greetings!\\n\\n\\n\\nYou are receiving this lette...</td>\n",
       "      <td>1</td>\n",
       "    </tr>\n",
       "    <tr>\n",
       "      <th>00002.9438920e9a55591b18e60d1ed37d992b</th>\n",
       "      <td>&lt;html&gt;\\n\\n&lt;body&gt;\\n\\n&lt;center&gt;\\n\\n&lt;h3&gt;\\n\\n&lt;font ...</td>\n",
       "      <td>1</td>\n",
       "    </tr>\n",
       "    <tr>\n",
       "      <th>00003.590eff932f8704d8b0fcbe69d023b54d</th>\n",
       "      <td>&lt;html&gt;\\n\\n&lt;body&gt;\\n\\n&lt;center&gt;\\n\\n&lt;b&gt;\\n\\n&lt;font c...</td>\n",
       "      <td>1</td>\n",
       "    </tr>\n",
       "    <tr>\n",
       "      <th>00004.bdcc075fa4beb5157b5dd6cd41d8887b</th>\n",
       "      <td>&lt;html&gt;\\n\\n&lt;body&gt;\\n\\n&lt;center&gt;\\n\\n&lt;b&gt;\\n\\n&lt;font c...</td>\n",
       "      <td>1</td>\n",
       "    </tr>\n",
       "    <tr>\n",
       "      <th>00005.ed0aba4d386c5e62bc737cf3f0ed9589</th>\n",
       "      <td>&lt;html&gt;&lt;xbody&gt;\\n\\n&lt;hr width = \"100%\"&gt;\\n\\n&lt;cente...</td>\n",
       "      <td>1</td>\n",
       "    </tr>\n",
       "    <tr>\n",
       "      <th>...</th>\n",
       "      <td>...</td>\n",
       "      <td>...</td>\n",
       "    </tr>\n",
       "    <tr>\n",
       "      <th>01397.f75f0dd0dd923faefa3e9cc5ecb8c906</th>\n",
       "      <td>This is a multi-part message in MIME format.\\n...</td>\n",
       "      <td>1</td>\n",
       "    </tr>\n",
       "    <tr>\n",
       "      <th>01398.8ca7045aae4184d56e8509dc5ad6d979</th>\n",
       "      <td>Dear Subscriber,\\n\\n\\n\\nIf I could show you a ...</td>\n",
       "      <td>1</td>\n",
       "    </tr>\n",
       "    <tr>\n",
       "      <th>01399.2319643317e2c5193d574e40a71809c2</th>\n",
       "      <td>****Mid-Summer Customer Appreciation SALE!****...</td>\n",
       "      <td>1</td>\n",
       "    </tr>\n",
       "    <tr>\n",
       "      <th>01400.b444b69845db2fa0a4693ca04e6ac5c5</th>\n",
       "      <td>ATTN:SIR/MADAN      \\n\\n\\n\\n                  ...</td>\n",
       "      <td>1</td>\n",
       "    </tr>\n",
       "    <tr>\n",
       "      <th>cmds</th>\n",
       "      <td></td>\n",
       "      <td>1</td>\n",
       "    </tr>\n",
       "  </tbody>\n",
       "</table>\n",
       "<p>1397 rows × 2 columns</p>\n",
       "</div>"
      ],
      "text/plain": [
       "                                                                                  MESSAGE  \\\n",
       "00001.317e78fa8ee2f54cd4890fdc09ba8176  Greetings!\\n\\n\\n\\nYou are receiving this lette...   \n",
       "00002.9438920e9a55591b18e60d1ed37d992b  <html>\\n\\n<body>\\n\\n<center>\\n\\n<h3>\\n\\n<font ...   \n",
       "00003.590eff932f8704d8b0fcbe69d023b54d  <html>\\n\\n<body>\\n\\n<center>\\n\\n<b>\\n\\n<font c...   \n",
       "00004.bdcc075fa4beb5157b5dd6cd41d8887b  <html>\\n\\n<body>\\n\\n<center>\\n\\n<b>\\n\\n<font c...   \n",
       "00005.ed0aba4d386c5e62bc737cf3f0ed9589  <html><xbody>\\n\\n<hr width = \"100%\">\\n\\n<cente...   \n",
       "...                                                                                   ...   \n",
       "01397.f75f0dd0dd923faefa3e9cc5ecb8c906  This is a multi-part message in MIME format.\\n...   \n",
       "01398.8ca7045aae4184d56e8509dc5ad6d979  Dear Subscriber,\\n\\n\\n\\nIf I could show you a ...   \n",
       "01399.2319643317e2c5193d574e40a71809c2  ****Mid-Summer Customer Appreciation SALE!****...   \n",
       "01400.b444b69845db2fa0a4693ca04e6ac5c5  ATTN:SIR/MADAN      \\n\\n\\n\\n                  ...   \n",
       "cmds                                                                                        \n",
       "\n",
       "                                        CATEGORY  \n",
       "00001.317e78fa8ee2f54cd4890fdc09ba8176         1  \n",
       "00002.9438920e9a55591b18e60d1ed37d992b         1  \n",
       "00003.590eff932f8704d8b0fcbe69d023b54d         1  \n",
       "00004.bdcc075fa4beb5157b5dd6cd41d8887b         1  \n",
       "00005.ed0aba4d386c5e62bc737cf3f0ed9589         1  \n",
       "...                                          ...  \n",
       "01397.f75f0dd0dd923faefa3e9cc5ecb8c906         1  \n",
       "01398.8ca7045aae4184d56e8509dc5ad6d979         1  \n",
       "01399.2319643317e2c5193d574e40a71809c2         1  \n",
       "01400.b444b69845db2fa0a4693ca04e6ac5c5         1  \n",
       "cmds                                           1  \n",
       "\n",
       "[1397 rows x 2 columns]"
      ]
     },
     "execution_count": 14,
     "metadata": {},
     "output_type": "execute_result"
    }
   ],
   "source": [
    "df_from_directory(SPAM_2_PATH, SPAM_CAT)"
   ]
  },
  {
   "cell_type": "code",
   "execution_count": 15,
   "id": "b4027e69",
   "metadata": {},
   "outputs": [],
   "source": [
    "spam_emails = df_from_directory(SPAM_1_PATH, 1)"
   ]
  },
  {
   "cell_type": "code",
   "execution_count": 16,
   "id": "28168f01",
   "metadata": {},
   "outputs": [],
   "source": [
    "spam_emails = spam_emails.append(df_from_directory(SPAM_2_PATH, 1))"
   ]
  },
  {
   "cell_type": "code",
   "execution_count": 17,
   "id": "4a82979c",
   "metadata": {
    "scrolled": true
   },
   "outputs": [
    {
     "data": {
      "text/html": [
       "<div>\n",
       "<style scoped>\n",
       "    .dataframe tbody tr th:only-of-type {\n",
       "        vertical-align: middle;\n",
       "    }\n",
       "\n",
       "    .dataframe tbody tr th {\n",
       "        vertical-align: top;\n",
       "    }\n",
       "\n",
       "    .dataframe thead th {\n",
       "        text-align: right;\n",
       "    }\n",
       "</style>\n",
       "<table border=\"1\" class=\"dataframe\">\n",
       "  <thead>\n",
       "    <tr style=\"text-align: right;\">\n",
       "      <th></th>\n",
       "      <th>MESSAGE</th>\n",
       "      <th>CATEGORY</th>\n",
       "    </tr>\n",
       "  </thead>\n",
       "  <tbody>\n",
       "    <tr>\n",
       "      <th>00001.7848dde101aa985090474a91ec93fcf0</th>\n",
       "      <td>&lt;!DOCTYPE HTML PUBLIC \"-//W3C//DTD HTML 4.0 Tr...</td>\n",
       "      <td>1</td>\n",
       "    </tr>\n",
       "    <tr>\n",
       "      <th>00002.d94f1b97e48ed3b553b3508d116e6a09</th>\n",
       "      <td>1) Fight The Risk of Cancer!\\n\\nhttp://www.adc...</td>\n",
       "      <td>1</td>\n",
       "    </tr>\n",
       "    <tr>\n",
       "      <th>00003.2ee33bc6eacdb11f38d052c44819ba6c</th>\n",
       "      <td>1) Fight The Risk of Cancer!\\n\\nhttp://www.adc...</td>\n",
       "      <td>1</td>\n",
       "    </tr>\n",
       "    <tr>\n",
       "      <th>00004.eac8de8d759b7e74154f142194282724</th>\n",
       "      <td>##############################################...</td>\n",
       "      <td>1</td>\n",
       "    </tr>\n",
       "    <tr>\n",
       "      <th>00005.57696a39d7d84318ce497886896bf90d</th>\n",
       "      <td>I thought you might like these:\\n\\n1) Slim Dow...</td>\n",
       "      <td>1</td>\n",
       "    </tr>\n",
       "    <tr>\n",
       "      <th>...</th>\n",
       "      <td>...</td>\n",
       "      <td>...</td>\n",
       "    </tr>\n",
       "    <tr>\n",
       "      <th>01397.f75f0dd0dd923faefa3e9cc5ecb8c906</th>\n",
       "      <td>This is a multi-part message in MIME format.\\n...</td>\n",
       "      <td>1</td>\n",
       "    </tr>\n",
       "    <tr>\n",
       "      <th>01398.8ca7045aae4184d56e8509dc5ad6d979</th>\n",
       "      <td>Dear Subscriber,\\n\\n\\n\\nIf I could show you a ...</td>\n",
       "      <td>1</td>\n",
       "    </tr>\n",
       "    <tr>\n",
       "      <th>01399.2319643317e2c5193d574e40a71809c2</th>\n",
       "      <td>****Mid-Summer Customer Appreciation SALE!****...</td>\n",
       "      <td>1</td>\n",
       "    </tr>\n",
       "    <tr>\n",
       "      <th>01400.b444b69845db2fa0a4693ca04e6ac5c5</th>\n",
       "      <td>ATTN:SIR/MADAN      \\n\\n\\n\\n                  ...</td>\n",
       "      <td>1</td>\n",
       "    </tr>\n",
       "    <tr>\n",
       "      <th>cmds</th>\n",
       "      <td></td>\n",
       "      <td>1</td>\n",
       "    </tr>\n",
       "  </tbody>\n",
       "</table>\n",
       "<p>1898 rows × 2 columns</p>\n",
       "</div>"
      ],
      "text/plain": [
       "                                                                                  MESSAGE  \\\n",
       "00001.7848dde101aa985090474a91ec93fcf0  <!DOCTYPE HTML PUBLIC \"-//W3C//DTD HTML 4.0 Tr...   \n",
       "00002.d94f1b97e48ed3b553b3508d116e6a09  1) Fight The Risk of Cancer!\\n\\nhttp://www.adc...   \n",
       "00003.2ee33bc6eacdb11f38d052c44819ba6c  1) Fight The Risk of Cancer!\\n\\nhttp://www.adc...   \n",
       "00004.eac8de8d759b7e74154f142194282724  ##############################################...   \n",
       "00005.57696a39d7d84318ce497886896bf90d  I thought you might like these:\\n\\n1) Slim Dow...   \n",
       "...                                                                                   ...   \n",
       "01397.f75f0dd0dd923faefa3e9cc5ecb8c906  This is a multi-part message in MIME format.\\n...   \n",
       "01398.8ca7045aae4184d56e8509dc5ad6d979  Dear Subscriber,\\n\\n\\n\\nIf I could show you a ...   \n",
       "01399.2319643317e2c5193d574e40a71809c2  ****Mid-Summer Customer Appreciation SALE!****...   \n",
       "01400.b444b69845db2fa0a4693ca04e6ac5c5  ATTN:SIR/MADAN      \\n\\n\\n\\n                  ...   \n",
       "cmds                                                                                        \n",
       "\n",
       "                                        CATEGORY  \n",
       "00001.7848dde101aa985090474a91ec93fcf0         1  \n",
       "00002.d94f1b97e48ed3b553b3508d116e6a09         1  \n",
       "00003.2ee33bc6eacdb11f38d052c44819ba6c         1  \n",
       "00004.eac8de8d759b7e74154f142194282724         1  \n",
       "00005.57696a39d7d84318ce497886896bf90d         1  \n",
       "...                                          ...  \n",
       "01397.f75f0dd0dd923faefa3e9cc5ecb8c906         1  \n",
       "01398.8ca7045aae4184d56e8509dc5ad6d979         1  \n",
       "01399.2319643317e2c5193d574e40a71809c2         1  \n",
       "01400.b444b69845db2fa0a4693ca04e6ac5c5         1  \n",
       "cmds                                           1  \n",
       "\n",
       "[1898 rows x 2 columns]"
      ]
     },
     "execution_count": 17,
     "metadata": {},
     "output_type": "execute_result"
    }
   ],
   "source": [
    "spam_emails"
   ]
  },
  {
   "cell_type": "code",
   "execution_count": 18,
   "id": "ea035f5d",
   "metadata": {},
   "outputs": [],
   "source": [
    "# non spam data...."
   ]
  },
  {
   "cell_type": "code",
   "execution_count": 19,
   "id": "16e8ff92",
   "metadata": {},
   "outputs": [],
   "source": [
    "EASY_NONSPAM_1_PATH = 'SpamData/01_Processing/spam_assassin_corpus/easy_ham_1'\n",
    "EASY_NONSPAM_2_PATH = 'SpamData/01_Processing/spam_assassin_corpus/easy_ham_2'\n",
    "HAM_CAT = 0"
   ]
  },
  {
   "cell_type": "code",
   "execution_count": 20,
   "id": "7e6e299e",
   "metadata": {},
   "outputs": [],
   "source": [
    "ham_emails = df_from_directory(EASY_NONSPAM_1_PATH, HAM_CAT)"
   ]
  },
  {
   "cell_type": "code",
   "execution_count": 21,
   "id": "0687ee65",
   "metadata": {},
   "outputs": [],
   "source": [
    "ham_emails = ham_emails.append(df_from_directory(EASY_NONSPAM_2_PATH, HAM_CAT))"
   ]
  },
  {
   "cell_type": "code",
   "execution_count": 22,
   "id": "32bad5dd",
   "metadata": {},
   "outputs": [
    {
     "data": {
      "text/html": [
       "<div>\n",
       "<style scoped>\n",
       "    .dataframe tbody tr th:only-of-type {\n",
       "        vertical-align: middle;\n",
       "    }\n",
       "\n",
       "    .dataframe tbody tr th {\n",
       "        vertical-align: top;\n",
       "    }\n",
       "\n",
       "    .dataframe thead th {\n",
       "        text-align: right;\n",
       "    }\n",
       "</style>\n",
       "<table border=\"1\" class=\"dataframe\">\n",
       "  <thead>\n",
       "    <tr style=\"text-align: right;\">\n",
       "      <th></th>\n",
       "      <th>MESSAGE</th>\n",
       "      <th>CATEGORY</th>\n",
       "    </tr>\n",
       "  </thead>\n",
       "  <tbody>\n",
       "    <tr>\n",
       "      <th>00001 (2).7c53336b37003a9286aba55d2945844c</th>\n",
       "      <td>Date:        Wed, 21 Aug 2002 10:54:46 -05...</td>\n",
       "      <td>0</td>\n",
       "    </tr>\n",
       "    <tr>\n",
       "      <th>00001.7c53336b37003a9286aba55d2945844c</th>\n",
       "      <td>Date:        Wed, 21 Aug 2002 10:54:46 -05...</td>\n",
       "      <td>0</td>\n",
       "    </tr>\n",
       "    <tr>\n",
       "      <th>00002 (2).9c4069e25e1ef370c078db7ee85ff9ac</th>\n",
       "      <td>Martin A posted:\\n\\nTassos Papadopoulos, the G...</td>\n",
       "      <td>0</td>\n",
       "    </tr>\n",
       "    <tr>\n",
       "      <th>00002.9c4069e25e1ef370c078db7ee85ff9ac</th>\n",
       "      <td>Martin A posted:\\n\\nTassos Papadopoulos, the G...</td>\n",
       "      <td>0</td>\n",
       "    </tr>\n",
       "    <tr>\n",
       "      <th>00003.860e3c3cee1b42ead714c5c874fe25f7</th>\n",
       "      <td>Man Threatens Explosion In Moscow \\n\\n\\n\\nThur...</td>\n",
       "      <td>0</td>\n",
       "    </tr>\n",
       "    <tr>\n",
       "      <th>...</th>\n",
       "      <td>...</td>\n",
       "      <td>...</td>\n",
       "    </tr>\n",
       "    <tr>\n",
       "      <th>01396.61983fbe6ec43f55fd44e30fce24ffa6</th>\n",
       "      <td>http://news.bbc.co.uk/1/hi/england/2515127.stm...</td>\n",
       "      <td>0</td>\n",
       "    </tr>\n",
       "    <tr>\n",
       "      <th>01397.9f9ef4c2a8dc012d80f2ce2d3473d3b7</th>\n",
       "      <td>&gt; &gt;-- be careful when using this one.) Also, t...</td>\n",
       "      <td>0</td>\n",
       "    </tr>\n",
       "    <tr>\n",
       "      <th>01398.169b51731fe569f42169ae8f948ec676</th>\n",
       "      <td>&gt;&gt;&gt;&gt;&gt; \"SM\" == Skip Montanaro &lt;skip@pobox.com&gt; ...</td>\n",
       "      <td>0</td>\n",
       "    </tr>\n",
       "    <tr>\n",
       "      <th>01399.ca6b00b7b341bbde9a9ea3dd6a7bf896</th>\n",
       "      <td>So then, \"Mark Hammond\" &lt;mhammond@skippinet.co...</td>\n",
       "      <td>0</td>\n",
       "    </tr>\n",
       "    <tr>\n",
       "      <th>01400.f897f0931e461e7b2e964d28e927c35e</th>\n",
       "      <td>Hi there,\\n\\n\\n\\nNow this is probably of no us...</td>\n",
       "      <td>0</td>\n",
       "    </tr>\n",
       "  </tbody>\n",
       "</table>\n",
       "<p>3903 rows × 2 columns</p>\n",
       "</div>"
      ],
      "text/plain": [
       "                                                                                      MESSAGE  \\\n",
       "00001 (2).7c53336b37003a9286aba55d2945844c      Date:        Wed, 21 Aug 2002 10:54:46 -05...   \n",
       "00001.7c53336b37003a9286aba55d2945844c          Date:        Wed, 21 Aug 2002 10:54:46 -05...   \n",
       "00002 (2).9c4069e25e1ef370c078db7ee85ff9ac  Martin A posted:\\n\\nTassos Papadopoulos, the G...   \n",
       "00002.9c4069e25e1ef370c078db7ee85ff9ac      Martin A posted:\\n\\nTassos Papadopoulos, the G...   \n",
       "00003.860e3c3cee1b42ead714c5c874fe25f7      Man Threatens Explosion In Moscow \\n\\n\\n\\nThur...   \n",
       "...                                                                                       ...   \n",
       "01396.61983fbe6ec43f55fd44e30fce24ffa6      http://news.bbc.co.uk/1/hi/england/2515127.stm...   \n",
       "01397.9f9ef4c2a8dc012d80f2ce2d3473d3b7      > >-- be careful when using this one.) Also, t...   \n",
       "01398.169b51731fe569f42169ae8f948ec676      >>>>> \"SM\" == Skip Montanaro <skip@pobox.com> ...   \n",
       "01399.ca6b00b7b341bbde9a9ea3dd6a7bf896      So then, \"Mark Hammond\" <mhammond@skippinet.co...   \n",
       "01400.f897f0931e461e7b2e964d28e927c35e      Hi there,\\n\\n\\n\\nNow this is probably of no us...   \n",
       "\n",
       "                                            CATEGORY  \n",
       "00001 (2).7c53336b37003a9286aba55d2945844c         0  \n",
       "00001.7c53336b37003a9286aba55d2945844c             0  \n",
       "00002 (2).9c4069e25e1ef370c078db7ee85ff9ac         0  \n",
       "00002.9c4069e25e1ef370c078db7ee85ff9ac             0  \n",
       "00003.860e3c3cee1b42ead714c5c874fe25f7             0  \n",
       "...                                              ...  \n",
       "01396.61983fbe6ec43f55fd44e30fce24ffa6             0  \n",
       "01397.9f9ef4c2a8dc012d80f2ce2d3473d3b7             0  \n",
       "01398.169b51731fe569f42169ae8f948ec676             0  \n",
       "01399.ca6b00b7b341bbde9a9ea3dd6a7bf896             0  \n",
       "01400.f897f0931e461e7b2e964d28e927c35e             0  \n",
       "\n",
       "[3903 rows x 2 columns]"
      ]
     },
     "execution_count": 22,
     "metadata": {},
     "output_type": "execute_result"
    }
   ],
   "source": [
    "ham_emails"
   ]
  },
  {
   "cell_type": "code",
   "execution_count": 23,
   "id": "59d76758",
   "metadata": {},
   "outputs": [],
   "source": [
    "# combine the spam and non spam data....."
   ]
  },
  {
   "cell_type": "code",
   "execution_count": 24,
   "id": "9565c9d5",
   "metadata": {},
   "outputs": [
    {
     "data": {
      "text/html": [
       "<div>\n",
       "<style scoped>\n",
       "    .dataframe tbody tr th:only-of-type {\n",
       "        vertical-align: middle;\n",
       "    }\n",
       "\n",
       "    .dataframe tbody tr th {\n",
       "        vertical-align: top;\n",
       "    }\n",
       "\n",
       "    .dataframe thead th {\n",
       "        text-align: right;\n",
       "    }\n",
       "</style>\n",
       "<table border=\"1\" class=\"dataframe\">\n",
       "  <thead>\n",
       "    <tr style=\"text-align: right;\">\n",
       "      <th></th>\n",
       "      <th>MESSAGE</th>\n",
       "      <th>CATEGORY</th>\n",
       "    </tr>\n",
       "  </thead>\n",
       "  <tbody>\n",
       "    <tr>\n",
       "      <th>00001.7848dde101aa985090474a91ec93fcf0</th>\n",
       "      <td>&lt;!DOCTYPE HTML PUBLIC \"-//W3C//DTD HTML 4.0 Tr...</td>\n",
       "      <td>1</td>\n",
       "    </tr>\n",
       "    <tr>\n",
       "      <th>00002.d94f1b97e48ed3b553b3508d116e6a09</th>\n",
       "      <td>1) Fight The Risk of Cancer!\\n\\nhttp://www.adc...</td>\n",
       "      <td>1</td>\n",
       "    </tr>\n",
       "    <tr>\n",
       "      <th>00003.2ee33bc6eacdb11f38d052c44819ba6c</th>\n",
       "      <td>1) Fight The Risk of Cancer!\\n\\nhttp://www.adc...</td>\n",
       "      <td>1</td>\n",
       "    </tr>\n",
       "    <tr>\n",
       "      <th>00004.eac8de8d759b7e74154f142194282724</th>\n",
       "      <td>##############################################...</td>\n",
       "      <td>1</td>\n",
       "    </tr>\n",
       "    <tr>\n",
       "      <th>00005.57696a39d7d84318ce497886896bf90d</th>\n",
       "      <td>I thought you might like these:\\n\\n1) Slim Dow...</td>\n",
       "      <td>1</td>\n",
       "    </tr>\n",
       "    <tr>\n",
       "      <th>...</th>\n",
       "      <td>...</td>\n",
       "      <td>...</td>\n",
       "    </tr>\n",
       "    <tr>\n",
       "      <th>01396.61983fbe6ec43f55fd44e30fce24ffa6</th>\n",
       "      <td>http://news.bbc.co.uk/1/hi/england/2515127.stm...</td>\n",
       "      <td>0</td>\n",
       "    </tr>\n",
       "    <tr>\n",
       "      <th>01397.9f9ef4c2a8dc012d80f2ce2d3473d3b7</th>\n",
       "      <td>&gt; &gt;-- be careful when using this one.) Also, t...</td>\n",
       "      <td>0</td>\n",
       "    </tr>\n",
       "    <tr>\n",
       "      <th>01398.169b51731fe569f42169ae8f948ec676</th>\n",
       "      <td>&gt;&gt;&gt;&gt;&gt; \"SM\" == Skip Montanaro &lt;skip@pobox.com&gt; ...</td>\n",
       "      <td>0</td>\n",
       "    </tr>\n",
       "    <tr>\n",
       "      <th>01399.ca6b00b7b341bbde9a9ea3dd6a7bf896</th>\n",
       "      <td>So then, \"Mark Hammond\" &lt;mhammond@skippinet.co...</td>\n",
       "      <td>0</td>\n",
       "    </tr>\n",
       "    <tr>\n",
       "      <th>01400.f897f0931e461e7b2e964d28e927c35e</th>\n",
       "      <td>Hi there,\\n\\n\\n\\nNow this is probably of no us...</td>\n",
       "      <td>0</td>\n",
       "    </tr>\n",
       "  </tbody>\n",
       "</table>\n",
       "<p>5801 rows × 2 columns</p>\n",
       "</div>"
      ],
      "text/plain": [
       "                                                                                  MESSAGE  \\\n",
       "00001.7848dde101aa985090474a91ec93fcf0  <!DOCTYPE HTML PUBLIC \"-//W3C//DTD HTML 4.0 Tr...   \n",
       "00002.d94f1b97e48ed3b553b3508d116e6a09  1) Fight The Risk of Cancer!\\n\\nhttp://www.adc...   \n",
       "00003.2ee33bc6eacdb11f38d052c44819ba6c  1) Fight The Risk of Cancer!\\n\\nhttp://www.adc...   \n",
       "00004.eac8de8d759b7e74154f142194282724  ##############################################...   \n",
       "00005.57696a39d7d84318ce497886896bf90d  I thought you might like these:\\n\\n1) Slim Dow...   \n",
       "...                                                                                   ...   \n",
       "01396.61983fbe6ec43f55fd44e30fce24ffa6  http://news.bbc.co.uk/1/hi/england/2515127.stm...   \n",
       "01397.9f9ef4c2a8dc012d80f2ce2d3473d3b7  > >-- be careful when using this one.) Also, t...   \n",
       "01398.169b51731fe569f42169ae8f948ec676  >>>>> \"SM\" == Skip Montanaro <skip@pobox.com> ...   \n",
       "01399.ca6b00b7b341bbde9a9ea3dd6a7bf896  So then, \"Mark Hammond\" <mhammond@skippinet.co...   \n",
       "01400.f897f0931e461e7b2e964d28e927c35e  Hi there,\\n\\n\\n\\nNow this is probably of no us...   \n",
       "\n",
       "                                        CATEGORY  \n",
       "00001.7848dde101aa985090474a91ec93fcf0         1  \n",
       "00002.d94f1b97e48ed3b553b3508d116e6a09         1  \n",
       "00003.2ee33bc6eacdb11f38d052c44819ba6c         1  \n",
       "00004.eac8de8d759b7e74154f142194282724         1  \n",
       "00005.57696a39d7d84318ce497886896bf90d         1  \n",
       "...                                          ...  \n",
       "01396.61983fbe6ec43f55fd44e30fce24ffa6         0  \n",
       "01397.9f9ef4c2a8dc012d80f2ce2d3473d3b7         0  \n",
       "01398.169b51731fe569f42169ae8f948ec676         0  \n",
       "01399.ca6b00b7b341bbde9a9ea3dd6a7bf896         0  \n",
       "01400.f897f0931e461e7b2e964d28e927c35e         0  \n",
       "\n",
       "[5801 rows x 2 columns]"
      ]
     },
     "execution_count": 24,
     "metadata": {},
     "output_type": "execute_result"
    }
   ],
   "source": [
    "data = pd.concat([spam_emails, ham_emails])\n",
    "data"
   ]
  },
  {
   "cell_type": "code",
   "execution_count": 25,
   "id": "293eb279",
   "metadata": {},
   "outputs": [
    {
     "data": {
      "text/plain": [
       "(5801, 2)"
      ]
     },
     "execution_count": 25,
     "metadata": {},
     "output_type": "execute_result"
    }
   ],
   "source": [
    "data.shape"
   ]
  },
  {
   "cell_type": "code",
   "execution_count": 26,
   "id": "ac79ceaa",
   "metadata": {},
   "outputs": [
    {
     "data": {
      "text/plain": [
       "pandas.core.frame.DataFrame"
      ]
     },
     "execution_count": 26,
     "metadata": {},
     "output_type": "execute_result"
    }
   ],
   "source": [
    "type(data)"
   ]
  },
  {
   "cell_type": "code",
   "execution_count": 27,
   "id": "274a44af",
   "metadata": {},
   "outputs": [],
   "source": [
    "# check the null values...."
   ]
  },
  {
   "cell_type": "code",
   "execution_count": 28,
   "id": "3048fcaa",
   "metadata": {},
   "outputs": [
    {
     "data": {
      "text/plain": [
       "00001.7848dde101aa985090474a91ec93fcf0    False\n",
       "00002.d94f1b97e48ed3b553b3508d116e6a09    False\n",
       "00003.2ee33bc6eacdb11f38d052c44819ba6c    False\n",
       "00004.eac8de8d759b7e74154f142194282724    False\n",
       "00005.57696a39d7d84318ce497886896bf90d    False\n",
       "                                          ...  \n",
       "01396.61983fbe6ec43f55fd44e30fce24ffa6    False\n",
       "01397.9f9ef4c2a8dc012d80f2ce2d3473d3b7    False\n",
       "01398.169b51731fe569f42169ae8f948ec676    False\n",
       "01399.ca6b00b7b341bbde9a9ea3dd6a7bf896    False\n",
       "01400.f897f0931e461e7b2e964d28e927c35e    False\n",
       "Name: MESSAGE, Length: 5801, dtype: bool"
      ]
     },
     "execution_count": 28,
     "metadata": {},
     "output_type": "execute_result"
    }
   ],
   "source": [
    "data['MESSAGE'].isnull()"
   ]
  },
  {
   "cell_type": "code",
   "execution_count": 29,
   "id": "fccbc684",
   "metadata": {},
   "outputs": [
    {
     "data": {
      "text/plain": [
       "array([False, False, False, ..., False, False, False])"
      ]
     },
     "execution_count": 29,
     "metadata": {},
     "output_type": "execute_result"
    }
   ],
   "source": [
    "data['MESSAGE'].isnull().values"
   ]
  },
  {
   "cell_type": "code",
   "execution_count": 30,
   "id": "4ea03526",
   "metadata": {},
   "outputs": [
    {
     "data": {
      "text/plain": [
       "0"
      ]
     },
     "execution_count": 30,
     "metadata": {},
     "output_type": "execute_result"
    }
   ],
   "source": [
    "data['MESSAGE'].isnull().sum()"
   ]
  },
  {
   "cell_type": "code",
   "execution_count": 31,
   "id": "9e96a04c",
   "metadata": {},
   "outputs": [],
   "source": [
    "# finding string values in data...."
   ]
  },
  {
   "cell_type": "code",
   "execution_count": 32,
   "id": "b706173c",
   "metadata": {},
   "outputs": [
    {
     "data": {
      "text/plain": [
       "True"
      ]
     },
     "execution_count": 32,
     "metadata": {},
     "output_type": "execute_result"
    }
   ],
   "source": [
    "(data.MESSAGE.str.len() == 0).any() "
   ]
  },
  {
   "cell_type": "code",
   "execution_count": 33,
   "id": "cbfaa691",
   "metadata": {},
   "outputs": [
    {
     "data": {
      "text/plain": [
       "4"
      ]
     },
     "execution_count": 33,
     "metadata": {},
     "output_type": "execute_result"
    }
   ],
   "source": [
    "(data.MESSAGE.str.len() == 0).sum()"
   ]
  },
  {
   "cell_type": "code",
   "execution_count": 34,
   "id": "6033fbfe",
   "metadata": {},
   "outputs": [
    {
     "data": {
      "text/html": [
       "<div>\n",
       "<style scoped>\n",
       "    .dataframe tbody tr th:only-of-type {\n",
       "        vertical-align: middle;\n",
       "    }\n",
       "\n",
       "    .dataframe tbody tr th {\n",
       "        vertical-align: top;\n",
       "    }\n",
       "\n",
       "    .dataframe thead th {\n",
       "        text-align: right;\n",
       "    }\n",
       "</style>\n",
       "<table border=\"1\" class=\"dataframe\">\n",
       "  <thead>\n",
       "    <tr style=\"text-align: right;\">\n",
       "      <th></th>\n",
       "      <th>MESSAGE</th>\n",
       "      <th>CATEGORY</th>\n",
       "    </tr>\n",
       "  </thead>\n",
       "  <tbody>\n",
       "    <tr>\n",
       "      <th>cmds</th>\n",
       "      <td></td>\n",
       "      <td>1</td>\n",
       "    </tr>\n",
       "    <tr>\n",
       "      <th>cmds</th>\n",
       "      <td></td>\n",
       "      <td>1</td>\n",
       "    </tr>\n",
       "    <tr>\n",
       "      <th>cmds</th>\n",
       "      <td></td>\n",
       "      <td>0</td>\n",
       "    </tr>\n",
       "    <tr>\n",
       "      <th>.yestee_antony.txt</th>\n",
       "      <td></td>\n",
       "      <td>0</td>\n",
       "    </tr>\n",
       "  </tbody>\n",
       "</table>\n",
       "</div>"
      ],
      "text/plain": [
       "                   MESSAGE  CATEGORY\n",
       "cmds                               1\n",
       "cmds                               1\n",
       "cmds                               0\n",
       ".yestee_antony.txt                 0"
      ]
     },
     "execution_count": 34,
     "metadata": {},
     "output_type": "execute_result"
    }
   ],
   "source": [
    "data[data.MESSAGE.str.len() == 0]"
   ]
  },
  {
   "cell_type": "code",
   "execution_count": 35,
   "id": "eb8416d8",
   "metadata": {},
   "outputs": [
    {
     "data": {
      "text/plain": [
       "Index(['cmds', 'cmds', 'cmds', '.yestee_antony.txt'], dtype='object')"
      ]
     },
     "execution_count": 35,
     "metadata": {},
     "output_type": "execute_result"
    }
   ],
   "source": [
    "data[data.MESSAGE.str.len() == 0].index"
   ]
  },
  {
   "cell_type": "code",
   "execution_count": 36,
   "id": "99ad765e",
   "metadata": {},
   "outputs": [],
   "source": [
    "# loc and drop the unwanted value... I mean delete the unwanted value...."
   ]
  },
  {
   "cell_type": "code",
   "execution_count": 37,
   "id": "d950ca9b",
   "metadata": {},
   "outputs": [
    {
     "name": "stdout",
     "output_type": "stream",
     "text": [
      "4401\n"
     ]
    }
   ],
   "source": [
    "print(data.index.get_loc('.yestee_antony.txt'))"
   ]
  },
  {
   "cell_type": "code",
   "execution_count": 38,
   "id": "d5be5157",
   "metadata": {},
   "outputs": [
    {
     "data": {
      "text/html": [
       "<div>\n",
       "<style scoped>\n",
       "    .dataframe tbody tr th:only-of-type {\n",
       "        vertical-align: middle;\n",
       "    }\n",
       "\n",
       "    .dataframe tbody tr th {\n",
       "        vertical-align: top;\n",
       "    }\n",
       "\n",
       "    .dataframe thead th {\n",
       "        text-align: right;\n",
       "    }\n",
       "</style>\n",
       "<table border=\"1\" class=\"dataframe\">\n",
       "  <thead>\n",
       "    <tr style=\"text-align: right;\">\n",
       "      <th></th>\n",
       "      <th>MESSAGE</th>\n",
       "      <th>CATEGORY</th>\n",
       "    </tr>\n",
       "  </thead>\n",
       "  <tbody>\n",
       "    <tr>\n",
       "      <th>cmds</th>\n",
       "      <td></td>\n",
       "      <td>0</td>\n",
       "    </tr>\n",
       "    <tr>\n",
       "      <th>.yestee_antony.txt</th>\n",
       "      <td></td>\n",
       "      <td>0</td>\n",
       "    </tr>\n",
       "    <tr>\n",
       "      <th>00001.1a31cc283af0060967a233d26548a6ce</th>\n",
       "      <td>Date:        Tue, 20 Aug 2002 17:27:47 -05...</td>\n",
       "      <td>0</td>\n",
       "    </tr>\n",
       "    <tr>\n",
       "      <th>00002.5a587ae61666c5aa097c8e866aedcc59</th>\n",
       "      <td>--==_Exmh_-199405358P\\n\\nContent-Type: text/pl...</td>\n",
       "      <td>0</td>\n",
       "    </tr>\n",
       "    <tr>\n",
       "      <th>00003.19be8acd739ad589cd00d8425bac7115</th>\n",
       "      <td>--==_Exmh_-196335410P\\n\\nContent-Type: text/pl...</td>\n",
       "      <td>0</td>\n",
       "    </tr>\n",
       "  </tbody>\n",
       "</table>\n",
       "</div>"
      ],
      "text/plain": [
       "                                                                                  MESSAGE  \\\n",
       "cmds                                                                                        \n",
       ".yestee_antony.txt                                                                          \n",
       "00001.1a31cc283af0060967a233d26548a6ce      Date:        Tue, 20 Aug 2002 17:27:47 -05...   \n",
       "00002.5a587ae61666c5aa097c8e866aedcc59  --==_Exmh_-199405358P\\n\\nContent-Type: text/pl...   \n",
       "00003.19be8acd739ad589cd00d8425bac7115  --==_Exmh_-196335410P\\n\\nContent-Type: text/pl...   \n",
       "\n",
       "                                        CATEGORY  \n",
       "cmds                                           0  \n",
       ".yestee_antony.txt                             0  \n",
       "00001.1a31cc283af0060967a233d26548a6ce         0  \n",
       "00002.5a587ae61666c5aa097c8e866aedcc59         0  \n",
       "00003.19be8acd739ad589cd00d8425bac7115         0  "
      ]
     },
     "execution_count": 38,
     "metadata": {},
     "output_type": "execute_result"
    }
   ],
   "source": [
    "data[4400:4405]"
   ]
  },
  {
   "cell_type": "code",
   "execution_count": 39,
   "id": "5e30bb4e",
   "metadata": {},
   "outputs": [],
   "source": [
    "data.drop(['cmds', '.yestee_antony.txt'], inplace = True)"
   ]
  },
  {
   "cell_type": "code",
   "execution_count": 40,
   "id": "199f8313",
   "metadata": {},
   "outputs": [
    {
     "data": {
      "text/html": [
       "<div>\n",
       "<style scoped>\n",
       "    .dataframe tbody tr th:only-of-type {\n",
       "        vertical-align: middle;\n",
       "    }\n",
       "\n",
       "    .dataframe tbody tr th {\n",
       "        vertical-align: top;\n",
       "    }\n",
       "\n",
       "    .dataframe thead th {\n",
       "        text-align: right;\n",
       "    }\n",
       "</style>\n",
       "<table border=\"1\" class=\"dataframe\">\n",
       "  <thead>\n",
       "    <tr style=\"text-align: right;\">\n",
       "      <th></th>\n",
       "      <th>MESSAGE</th>\n",
       "      <th>CATEGORY</th>\n",
       "    </tr>\n",
       "  </thead>\n",
       "  <tbody>\n",
       "    <tr>\n",
       "      <th>00001.7848dde101aa985090474a91ec93fcf0</th>\n",
       "      <td>&lt;!DOCTYPE HTML PUBLIC \"-//W3C//DTD HTML 4.0 Tr...</td>\n",
       "      <td>1</td>\n",
       "    </tr>\n",
       "    <tr>\n",
       "      <th>00002.d94f1b97e48ed3b553b3508d116e6a09</th>\n",
       "      <td>1) Fight The Risk of Cancer!\\n\\nhttp://www.adc...</td>\n",
       "      <td>1</td>\n",
       "    </tr>\n",
       "    <tr>\n",
       "      <th>00003.2ee33bc6eacdb11f38d052c44819ba6c</th>\n",
       "      <td>1) Fight The Risk of Cancer!\\n\\nhttp://www.adc...</td>\n",
       "      <td>1</td>\n",
       "    </tr>\n",
       "    <tr>\n",
       "      <th>00004.eac8de8d759b7e74154f142194282724</th>\n",
       "      <td>##############################################...</td>\n",
       "      <td>1</td>\n",
       "    </tr>\n",
       "    <tr>\n",
       "      <th>00005.57696a39d7d84318ce497886896bf90d</th>\n",
       "      <td>I thought you might like these:\\n\\n1) Slim Dow...</td>\n",
       "      <td>1</td>\n",
       "    </tr>\n",
       "    <tr>\n",
       "      <th>...</th>\n",
       "      <td>...</td>\n",
       "      <td>...</td>\n",
       "    </tr>\n",
       "    <tr>\n",
       "      <th>01396.61983fbe6ec43f55fd44e30fce24ffa6</th>\n",
       "      <td>http://news.bbc.co.uk/1/hi/england/2515127.stm...</td>\n",
       "      <td>0</td>\n",
       "    </tr>\n",
       "    <tr>\n",
       "      <th>01397.9f9ef4c2a8dc012d80f2ce2d3473d3b7</th>\n",
       "      <td>&gt; &gt;-- be careful when using this one.) Also, t...</td>\n",
       "      <td>0</td>\n",
       "    </tr>\n",
       "    <tr>\n",
       "      <th>01398.169b51731fe569f42169ae8f948ec676</th>\n",
       "      <td>&gt;&gt;&gt;&gt;&gt; \"SM\" == Skip Montanaro &lt;skip@pobox.com&gt; ...</td>\n",
       "      <td>0</td>\n",
       "    </tr>\n",
       "    <tr>\n",
       "      <th>01399.ca6b00b7b341bbde9a9ea3dd6a7bf896</th>\n",
       "      <td>So then, \"Mark Hammond\" &lt;mhammond@skippinet.co...</td>\n",
       "      <td>0</td>\n",
       "    </tr>\n",
       "    <tr>\n",
       "      <th>01400.f897f0931e461e7b2e964d28e927c35e</th>\n",
       "      <td>Hi there,\\n\\n\\n\\nNow this is probably of no us...</td>\n",
       "      <td>0</td>\n",
       "    </tr>\n",
       "  </tbody>\n",
       "</table>\n",
       "<p>5797 rows × 2 columns</p>\n",
       "</div>"
      ],
      "text/plain": [
       "                                                                                  MESSAGE  \\\n",
       "00001.7848dde101aa985090474a91ec93fcf0  <!DOCTYPE HTML PUBLIC \"-//W3C//DTD HTML 4.0 Tr...   \n",
       "00002.d94f1b97e48ed3b553b3508d116e6a09  1) Fight The Risk of Cancer!\\n\\nhttp://www.adc...   \n",
       "00003.2ee33bc6eacdb11f38d052c44819ba6c  1) Fight The Risk of Cancer!\\n\\nhttp://www.adc...   \n",
       "00004.eac8de8d759b7e74154f142194282724  ##############################################...   \n",
       "00005.57696a39d7d84318ce497886896bf90d  I thought you might like these:\\n\\n1) Slim Dow...   \n",
       "...                                                                                   ...   \n",
       "01396.61983fbe6ec43f55fd44e30fce24ffa6  http://news.bbc.co.uk/1/hi/england/2515127.stm...   \n",
       "01397.9f9ef4c2a8dc012d80f2ce2d3473d3b7  > >-- be careful when using this one.) Also, t...   \n",
       "01398.169b51731fe569f42169ae8f948ec676  >>>>> \"SM\" == Skip Montanaro <skip@pobox.com> ...   \n",
       "01399.ca6b00b7b341bbde9a9ea3dd6a7bf896  So then, \"Mark Hammond\" <mhammond@skippinet.co...   \n",
       "01400.f897f0931e461e7b2e964d28e927c35e  Hi there,\\n\\n\\n\\nNow this is probably of no us...   \n",
       "\n",
       "                                        CATEGORY  \n",
       "00001.7848dde101aa985090474a91ec93fcf0         1  \n",
       "00002.d94f1b97e48ed3b553b3508d116e6a09         1  \n",
       "00003.2ee33bc6eacdb11f38d052c44819ba6c         1  \n",
       "00004.eac8de8d759b7e74154f142194282724         1  \n",
       "00005.57696a39d7d84318ce497886896bf90d         1  \n",
       "...                                          ...  \n",
       "01396.61983fbe6ec43f55fd44e30fce24ffa6         0  \n",
       "01397.9f9ef4c2a8dc012d80f2ce2d3473d3b7         0  \n",
       "01398.169b51731fe569f42169ae8f948ec676         0  \n",
       "01399.ca6b00b7b341bbde9a9ea3dd6a7bf896         0  \n",
       "01400.f897f0931e461e7b2e964d28e927c35e         0  \n",
       "\n",
       "[5797 rows x 2 columns]"
      ]
     },
     "execution_count": 40,
     "metadata": {},
     "output_type": "execute_result"
    }
   ],
   "source": [
    "data"
   ]
  },
  {
   "cell_type": "code",
   "execution_count": 41,
   "id": "f8752a81",
   "metadata": {},
   "outputs": [],
   "source": [
    "# finding range of data...."
   ]
  },
  {
   "cell_type": "code",
   "execution_count": 42,
   "id": "3475b1de",
   "metadata": {},
   "outputs": [
    {
     "data": {
      "text/plain": [
       "range(0, 5797)"
      ]
     },
     "execution_count": 42,
     "metadata": {},
     "output_type": "execute_result"
    }
   ],
   "source": [
    "document_ids = range(0, len(data.index))\n",
    "document_ids"
   ]
  },
  {
   "cell_type": "code",
   "execution_count": 43,
   "id": "1f9e96c6",
   "metadata": {},
   "outputs": [],
   "source": [
    "# add DOC_ID, FILE_NAME columns in data..."
   ]
  },
  {
   "cell_type": "code",
   "execution_count": 44,
   "id": "3d0fd906",
   "metadata": {},
   "outputs": [],
   "source": [
    "data['DOC_ID'] = document_ids"
   ]
  },
  {
   "cell_type": "code",
   "execution_count": 45,
   "id": "625241af",
   "metadata": {},
   "outputs": [
    {
     "data": {
      "text/html": [
       "<div>\n",
       "<style scoped>\n",
       "    .dataframe tbody tr th:only-of-type {\n",
       "        vertical-align: middle;\n",
       "    }\n",
       "\n",
       "    .dataframe tbody tr th {\n",
       "        vertical-align: top;\n",
       "    }\n",
       "\n",
       "    .dataframe thead th {\n",
       "        text-align: right;\n",
       "    }\n",
       "</style>\n",
       "<table border=\"1\" class=\"dataframe\">\n",
       "  <thead>\n",
       "    <tr style=\"text-align: right;\">\n",
       "      <th></th>\n",
       "      <th>MESSAGE</th>\n",
       "      <th>CATEGORY</th>\n",
       "      <th>DOC_ID</th>\n",
       "    </tr>\n",
       "  </thead>\n",
       "  <tbody>\n",
       "    <tr>\n",
       "      <th>00001.7848dde101aa985090474a91ec93fcf0</th>\n",
       "      <td>&lt;!DOCTYPE HTML PUBLIC \"-//W3C//DTD HTML 4.0 Tr...</td>\n",
       "      <td>1</td>\n",
       "      <td>0</td>\n",
       "    </tr>\n",
       "    <tr>\n",
       "      <th>00002.d94f1b97e48ed3b553b3508d116e6a09</th>\n",
       "      <td>1) Fight The Risk of Cancer!\\n\\nhttp://www.adc...</td>\n",
       "      <td>1</td>\n",
       "      <td>1</td>\n",
       "    </tr>\n",
       "    <tr>\n",
       "      <th>00003.2ee33bc6eacdb11f38d052c44819ba6c</th>\n",
       "      <td>1) Fight The Risk of Cancer!\\n\\nhttp://www.adc...</td>\n",
       "      <td>1</td>\n",
       "      <td>2</td>\n",
       "    </tr>\n",
       "    <tr>\n",
       "      <th>00004.eac8de8d759b7e74154f142194282724</th>\n",
       "      <td>##############################################...</td>\n",
       "      <td>1</td>\n",
       "      <td>3</td>\n",
       "    </tr>\n",
       "    <tr>\n",
       "      <th>00005.57696a39d7d84318ce497886896bf90d</th>\n",
       "      <td>I thought you might like these:\\n\\n1) Slim Dow...</td>\n",
       "      <td>1</td>\n",
       "      <td>4</td>\n",
       "    </tr>\n",
       "    <tr>\n",
       "      <th>...</th>\n",
       "      <td>...</td>\n",
       "      <td>...</td>\n",
       "      <td>...</td>\n",
       "    </tr>\n",
       "    <tr>\n",
       "      <th>01396.61983fbe6ec43f55fd44e30fce24ffa6</th>\n",
       "      <td>http://news.bbc.co.uk/1/hi/england/2515127.stm...</td>\n",
       "      <td>0</td>\n",
       "      <td>5792</td>\n",
       "    </tr>\n",
       "    <tr>\n",
       "      <th>01397.9f9ef4c2a8dc012d80f2ce2d3473d3b7</th>\n",
       "      <td>&gt; &gt;-- be careful when using this one.) Also, t...</td>\n",
       "      <td>0</td>\n",
       "      <td>5793</td>\n",
       "    </tr>\n",
       "    <tr>\n",
       "      <th>01398.169b51731fe569f42169ae8f948ec676</th>\n",
       "      <td>&gt;&gt;&gt;&gt;&gt; \"SM\" == Skip Montanaro &lt;skip@pobox.com&gt; ...</td>\n",
       "      <td>0</td>\n",
       "      <td>5794</td>\n",
       "    </tr>\n",
       "    <tr>\n",
       "      <th>01399.ca6b00b7b341bbde9a9ea3dd6a7bf896</th>\n",
       "      <td>So then, \"Mark Hammond\" &lt;mhammond@skippinet.co...</td>\n",
       "      <td>0</td>\n",
       "      <td>5795</td>\n",
       "    </tr>\n",
       "    <tr>\n",
       "      <th>01400.f897f0931e461e7b2e964d28e927c35e</th>\n",
       "      <td>Hi there,\\n\\n\\n\\nNow this is probably of no us...</td>\n",
       "      <td>0</td>\n",
       "      <td>5796</td>\n",
       "    </tr>\n",
       "  </tbody>\n",
       "</table>\n",
       "<p>5797 rows × 3 columns</p>\n",
       "</div>"
      ],
      "text/plain": [
       "                                                                                  MESSAGE  \\\n",
       "00001.7848dde101aa985090474a91ec93fcf0  <!DOCTYPE HTML PUBLIC \"-//W3C//DTD HTML 4.0 Tr...   \n",
       "00002.d94f1b97e48ed3b553b3508d116e6a09  1) Fight The Risk of Cancer!\\n\\nhttp://www.adc...   \n",
       "00003.2ee33bc6eacdb11f38d052c44819ba6c  1) Fight The Risk of Cancer!\\n\\nhttp://www.adc...   \n",
       "00004.eac8de8d759b7e74154f142194282724  ##############################################...   \n",
       "00005.57696a39d7d84318ce497886896bf90d  I thought you might like these:\\n\\n1) Slim Dow...   \n",
       "...                                                                                   ...   \n",
       "01396.61983fbe6ec43f55fd44e30fce24ffa6  http://news.bbc.co.uk/1/hi/england/2515127.stm...   \n",
       "01397.9f9ef4c2a8dc012d80f2ce2d3473d3b7  > >-- be careful when using this one.) Also, t...   \n",
       "01398.169b51731fe569f42169ae8f948ec676  >>>>> \"SM\" == Skip Montanaro <skip@pobox.com> ...   \n",
       "01399.ca6b00b7b341bbde9a9ea3dd6a7bf896  So then, \"Mark Hammond\" <mhammond@skippinet.co...   \n",
       "01400.f897f0931e461e7b2e964d28e927c35e  Hi there,\\n\\n\\n\\nNow this is probably of no us...   \n",
       "\n",
       "                                        CATEGORY  DOC_ID  \n",
       "00001.7848dde101aa985090474a91ec93fcf0         1       0  \n",
       "00002.d94f1b97e48ed3b553b3508d116e6a09         1       1  \n",
       "00003.2ee33bc6eacdb11f38d052c44819ba6c         1       2  \n",
       "00004.eac8de8d759b7e74154f142194282724         1       3  \n",
       "00005.57696a39d7d84318ce497886896bf90d         1       4  \n",
       "...                                          ...     ...  \n",
       "01396.61983fbe6ec43f55fd44e30fce24ffa6         0    5792  \n",
       "01397.9f9ef4c2a8dc012d80f2ce2d3473d3b7         0    5793  \n",
       "01398.169b51731fe569f42169ae8f948ec676         0    5794  \n",
       "01399.ca6b00b7b341bbde9a9ea3dd6a7bf896         0    5795  \n",
       "01400.f897f0931e461e7b2e964d28e927c35e         0    5796  \n",
       "\n",
       "[5797 rows x 3 columns]"
      ]
     },
     "execution_count": 45,
     "metadata": {},
     "output_type": "execute_result"
    }
   ],
   "source": [
    "data"
   ]
  },
  {
   "cell_type": "code",
   "execution_count": 46,
   "id": "a112bb5b",
   "metadata": {},
   "outputs": [],
   "source": [
    "data['FILE_NAME'] = data.index"
   ]
  },
  {
   "cell_type": "code",
   "execution_count": 47,
   "id": "3765b6cc",
   "metadata": {},
   "outputs": [
    {
     "data": {
      "text/html": [
       "<div>\n",
       "<style scoped>\n",
       "    .dataframe tbody tr th:only-of-type {\n",
       "        vertical-align: middle;\n",
       "    }\n",
       "\n",
       "    .dataframe tbody tr th {\n",
       "        vertical-align: top;\n",
       "    }\n",
       "\n",
       "    .dataframe thead th {\n",
       "        text-align: right;\n",
       "    }\n",
       "</style>\n",
       "<table border=\"1\" class=\"dataframe\">\n",
       "  <thead>\n",
       "    <tr style=\"text-align: right;\">\n",
       "      <th></th>\n",
       "      <th>MESSAGE</th>\n",
       "      <th>CATEGORY</th>\n",
       "      <th>DOC_ID</th>\n",
       "      <th>FILE_NAME</th>\n",
       "    </tr>\n",
       "  </thead>\n",
       "  <tbody>\n",
       "    <tr>\n",
       "      <th>00001.7848dde101aa985090474a91ec93fcf0</th>\n",
       "      <td>&lt;!DOCTYPE HTML PUBLIC \"-//W3C//DTD HTML 4.0 Tr...</td>\n",
       "      <td>1</td>\n",
       "      <td>0</td>\n",
       "      <td>00001.7848dde101aa985090474a91ec93fcf0</td>\n",
       "    </tr>\n",
       "    <tr>\n",
       "      <th>00002.d94f1b97e48ed3b553b3508d116e6a09</th>\n",
       "      <td>1) Fight The Risk of Cancer!\\n\\nhttp://www.adc...</td>\n",
       "      <td>1</td>\n",
       "      <td>1</td>\n",
       "      <td>00002.d94f1b97e48ed3b553b3508d116e6a09</td>\n",
       "    </tr>\n",
       "    <tr>\n",
       "      <th>00003.2ee33bc6eacdb11f38d052c44819ba6c</th>\n",
       "      <td>1) Fight The Risk of Cancer!\\n\\nhttp://www.adc...</td>\n",
       "      <td>1</td>\n",
       "      <td>2</td>\n",
       "      <td>00003.2ee33bc6eacdb11f38d052c44819ba6c</td>\n",
       "    </tr>\n",
       "    <tr>\n",
       "      <th>00004.eac8de8d759b7e74154f142194282724</th>\n",
       "      <td>##############################################...</td>\n",
       "      <td>1</td>\n",
       "      <td>3</td>\n",
       "      <td>00004.eac8de8d759b7e74154f142194282724</td>\n",
       "    </tr>\n",
       "    <tr>\n",
       "      <th>00005.57696a39d7d84318ce497886896bf90d</th>\n",
       "      <td>I thought you might like these:\\n\\n1) Slim Dow...</td>\n",
       "      <td>1</td>\n",
       "      <td>4</td>\n",
       "      <td>00005.57696a39d7d84318ce497886896bf90d</td>\n",
       "    </tr>\n",
       "    <tr>\n",
       "      <th>...</th>\n",
       "      <td>...</td>\n",
       "      <td>...</td>\n",
       "      <td>...</td>\n",
       "      <td>...</td>\n",
       "    </tr>\n",
       "    <tr>\n",
       "      <th>01396.61983fbe6ec43f55fd44e30fce24ffa6</th>\n",
       "      <td>http://news.bbc.co.uk/1/hi/england/2515127.stm...</td>\n",
       "      <td>0</td>\n",
       "      <td>5792</td>\n",
       "      <td>01396.61983fbe6ec43f55fd44e30fce24ffa6</td>\n",
       "    </tr>\n",
       "    <tr>\n",
       "      <th>01397.9f9ef4c2a8dc012d80f2ce2d3473d3b7</th>\n",
       "      <td>&gt; &gt;-- be careful when using this one.) Also, t...</td>\n",
       "      <td>0</td>\n",
       "      <td>5793</td>\n",
       "      <td>01397.9f9ef4c2a8dc012d80f2ce2d3473d3b7</td>\n",
       "    </tr>\n",
       "    <tr>\n",
       "      <th>01398.169b51731fe569f42169ae8f948ec676</th>\n",
       "      <td>&gt;&gt;&gt;&gt;&gt; \"SM\" == Skip Montanaro &lt;skip@pobox.com&gt; ...</td>\n",
       "      <td>0</td>\n",
       "      <td>5794</td>\n",
       "      <td>01398.169b51731fe569f42169ae8f948ec676</td>\n",
       "    </tr>\n",
       "    <tr>\n",
       "      <th>01399.ca6b00b7b341bbde9a9ea3dd6a7bf896</th>\n",
       "      <td>So then, \"Mark Hammond\" &lt;mhammond@skippinet.co...</td>\n",
       "      <td>0</td>\n",
       "      <td>5795</td>\n",
       "      <td>01399.ca6b00b7b341bbde9a9ea3dd6a7bf896</td>\n",
       "    </tr>\n",
       "    <tr>\n",
       "      <th>01400.f897f0931e461e7b2e964d28e927c35e</th>\n",
       "      <td>Hi there,\\n\\n\\n\\nNow this is probably of no us...</td>\n",
       "      <td>0</td>\n",
       "      <td>5796</td>\n",
       "      <td>01400.f897f0931e461e7b2e964d28e927c35e</td>\n",
       "    </tr>\n",
       "  </tbody>\n",
       "</table>\n",
       "<p>5797 rows × 4 columns</p>\n",
       "</div>"
      ],
      "text/plain": [
       "                                                                                  MESSAGE  \\\n",
       "00001.7848dde101aa985090474a91ec93fcf0  <!DOCTYPE HTML PUBLIC \"-//W3C//DTD HTML 4.0 Tr...   \n",
       "00002.d94f1b97e48ed3b553b3508d116e6a09  1) Fight The Risk of Cancer!\\n\\nhttp://www.adc...   \n",
       "00003.2ee33bc6eacdb11f38d052c44819ba6c  1) Fight The Risk of Cancer!\\n\\nhttp://www.adc...   \n",
       "00004.eac8de8d759b7e74154f142194282724  ##############################################...   \n",
       "00005.57696a39d7d84318ce497886896bf90d  I thought you might like these:\\n\\n1) Slim Dow...   \n",
       "...                                                                                   ...   \n",
       "01396.61983fbe6ec43f55fd44e30fce24ffa6  http://news.bbc.co.uk/1/hi/england/2515127.stm...   \n",
       "01397.9f9ef4c2a8dc012d80f2ce2d3473d3b7  > >-- be careful when using this one.) Also, t...   \n",
       "01398.169b51731fe569f42169ae8f948ec676  >>>>> \"SM\" == Skip Montanaro <skip@pobox.com> ...   \n",
       "01399.ca6b00b7b341bbde9a9ea3dd6a7bf896  So then, \"Mark Hammond\" <mhammond@skippinet.co...   \n",
       "01400.f897f0931e461e7b2e964d28e927c35e  Hi there,\\n\\n\\n\\nNow this is probably of no us...   \n",
       "\n",
       "                                        CATEGORY  DOC_ID  \\\n",
       "00001.7848dde101aa985090474a91ec93fcf0         1       0   \n",
       "00002.d94f1b97e48ed3b553b3508d116e6a09         1       1   \n",
       "00003.2ee33bc6eacdb11f38d052c44819ba6c         1       2   \n",
       "00004.eac8de8d759b7e74154f142194282724         1       3   \n",
       "00005.57696a39d7d84318ce497886896bf90d         1       4   \n",
       "...                                          ...     ...   \n",
       "01396.61983fbe6ec43f55fd44e30fce24ffa6         0    5792   \n",
       "01397.9f9ef4c2a8dc012d80f2ce2d3473d3b7         0    5793   \n",
       "01398.169b51731fe569f42169ae8f948ec676         0    5794   \n",
       "01399.ca6b00b7b341bbde9a9ea3dd6a7bf896         0    5795   \n",
       "01400.f897f0931e461e7b2e964d28e927c35e         0    5796   \n",
       "\n",
       "                                                                     FILE_NAME  \n",
       "00001.7848dde101aa985090474a91ec93fcf0  00001.7848dde101aa985090474a91ec93fcf0  \n",
       "00002.d94f1b97e48ed3b553b3508d116e6a09  00002.d94f1b97e48ed3b553b3508d116e6a09  \n",
       "00003.2ee33bc6eacdb11f38d052c44819ba6c  00003.2ee33bc6eacdb11f38d052c44819ba6c  \n",
       "00004.eac8de8d759b7e74154f142194282724  00004.eac8de8d759b7e74154f142194282724  \n",
       "00005.57696a39d7d84318ce497886896bf90d  00005.57696a39d7d84318ce497886896bf90d  \n",
       "...                                                                        ...  \n",
       "01396.61983fbe6ec43f55fd44e30fce24ffa6  01396.61983fbe6ec43f55fd44e30fce24ffa6  \n",
       "01397.9f9ef4c2a8dc012d80f2ce2d3473d3b7  01397.9f9ef4c2a8dc012d80f2ce2d3473d3b7  \n",
       "01398.169b51731fe569f42169ae8f948ec676  01398.169b51731fe569f42169ae8f948ec676  \n",
       "01399.ca6b00b7b341bbde9a9ea3dd6a7bf896  01399.ca6b00b7b341bbde9a9ea3dd6a7bf896  \n",
       "01400.f897f0931e461e7b2e964d28e927c35e  01400.f897f0931e461e7b2e964d28e927c35e  \n",
       "\n",
       "[5797 rows x 4 columns]"
      ]
     },
     "execution_count": 47,
     "metadata": {},
     "output_type": "execute_result"
    }
   ],
   "source": [
    "data"
   ]
  },
  {
   "cell_type": "code",
   "execution_count": 48,
   "id": "3ac75df7",
   "metadata": {},
   "outputs": [],
   "source": [
    "# set the DOC_ID as index column in data..."
   ]
  },
  {
   "cell_type": "code",
   "execution_count": 49,
   "id": "b0f326ce",
   "metadata": {},
   "outputs": [],
   "source": [
    "data.set_index('DOC_ID', inplace = True)"
   ]
  },
  {
   "cell_type": "code",
   "execution_count": 50,
   "id": "1f909391",
   "metadata": {},
   "outputs": [
    {
     "data": {
      "text/html": [
       "<div>\n",
       "<style scoped>\n",
       "    .dataframe tbody tr th:only-of-type {\n",
       "        vertical-align: middle;\n",
       "    }\n",
       "\n",
       "    .dataframe tbody tr th {\n",
       "        vertical-align: top;\n",
       "    }\n",
       "\n",
       "    .dataframe thead th {\n",
       "        text-align: right;\n",
       "    }\n",
       "</style>\n",
       "<table border=\"1\" class=\"dataframe\">\n",
       "  <thead>\n",
       "    <tr style=\"text-align: right;\">\n",
       "      <th></th>\n",
       "      <th>MESSAGE</th>\n",
       "      <th>CATEGORY</th>\n",
       "      <th>FILE_NAME</th>\n",
       "    </tr>\n",
       "    <tr>\n",
       "      <th>DOC_ID</th>\n",
       "      <th></th>\n",
       "      <th></th>\n",
       "      <th></th>\n",
       "    </tr>\n",
       "  </thead>\n",
       "  <tbody>\n",
       "    <tr>\n",
       "      <th>0</th>\n",
       "      <td>&lt;!DOCTYPE HTML PUBLIC \"-//W3C//DTD HTML 4.0 Tr...</td>\n",
       "      <td>1</td>\n",
       "      <td>00001.7848dde101aa985090474a91ec93fcf0</td>\n",
       "    </tr>\n",
       "    <tr>\n",
       "      <th>1</th>\n",
       "      <td>1) Fight The Risk of Cancer!\\n\\nhttp://www.adc...</td>\n",
       "      <td>1</td>\n",
       "      <td>00002.d94f1b97e48ed3b553b3508d116e6a09</td>\n",
       "    </tr>\n",
       "    <tr>\n",
       "      <th>2</th>\n",
       "      <td>1) Fight The Risk of Cancer!\\n\\nhttp://www.adc...</td>\n",
       "      <td>1</td>\n",
       "      <td>00003.2ee33bc6eacdb11f38d052c44819ba6c</td>\n",
       "    </tr>\n",
       "    <tr>\n",
       "      <th>3</th>\n",
       "      <td>##############################################...</td>\n",
       "      <td>1</td>\n",
       "      <td>00004.eac8de8d759b7e74154f142194282724</td>\n",
       "    </tr>\n",
       "    <tr>\n",
       "      <th>4</th>\n",
       "      <td>I thought you might like these:\\n\\n1) Slim Dow...</td>\n",
       "      <td>1</td>\n",
       "      <td>00005.57696a39d7d84318ce497886896bf90d</td>\n",
       "    </tr>\n",
       "    <tr>\n",
       "      <th>...</th>\n",
       "      <td>...</td>\n",
       "      <td>...</td>\n",
       "      <td>...</td>\n",
       "    </tr>\n",
       "    <tr>\n",
       "      <th>5792</th>\n",
       "      <td>http://news.bbc.co.uk/1/hi/england/2515127.stm...</td>\n",
       "      <td>0</td>\n",
       "      <td>01396.61983fbe6ec43f55fd44e30fce24ffa6</td>\n",
       "    </tr>\n",
       "    <tr>\n",
       "      <th>5793</th>\n",
       "      <td>&gt; &gt;-- be careful when using this one.) Also, t...</td>\n",
       "      <td>0</td>\n",
       "      <td>01397.9f9ef4c2a8dc012d80f2ce2d3473d3b7</td>\n",
       "    </tr>\n",
       "    <tr>\n",
       "      <th>5794</th>\n",
       "      <td>&gt;&gt;&gt;&gt;&gt; \"SM\" == Skip Montanaro &lt;skip@pobox.com&gt; ...</td>\n",
       "      <td>0</td>\n",
       "      <td>01398.169b51731fe569f42169ae8f948ec676</td>\n",
       "    </tr>\n",
       "    <tr>\n",
       "      <th>5795</th>\n",
       "      <td>So then, \"Mark Hammond\" &lt;mhammond@skippinet.co...</td>\n",
       "      <td>0</td>\n",
       "      <td>01399.ca6b00b7b341bbde9a9ea3dd6a7bf896</td>\n",
       "    </tr>\n",
       "    <tr>\n",
       "      <th>5796</th>\n",
       "      <td>Hi there,\\n\\n\\n\\nNow this is probably of no us...</td>\n",
       "      <td>0</td>\n",
       "      <td>01400.f897f0931e461e7b2e964d28e927c35e</td>\n",
       "    </tr>\n",
       "  </tbody>\n",
       "</table>\n",
       "<p>5797 rows × 3 columns</p>\n",
       "</div>"
      ],
      "text/plain": [
       "                                                  MESSAGE  CATEGORY  \\\n",
       "DOC_ID                                                                \n",
       "0       <!DOCTYPE HTML PUBLIC \"-//W3C//DTD HTML 4.0 Tr...         1   \n",
       "1       1) Fight The Risk of Cancer!\\n\\nhttp://www.adc...         1   \n",
       "2       1) Fight The Risk of Cancer!\\n\\nhttp://www.adc...         1   \n",
       "3       ##############################################...         1   \n",
       "4       I thought you might like these:\\n\\n1) Slim Dow...         1   \n",
       "...                                                   ...       ...   \n",
       "5792    http://news.bbc.co.uk/1/hi/england/2515127.stm...         0   \n",
       "5793    > >-- be careful when using this one.) Also, t...         0   \n",
       "5794    >>>>> \"SM\" == Skip Montanaro <skip@pobox.com> ...         0   \n",
       "5795    So then, \"Mark Hammond\" <mhammond@skippinet.co...         0   \n",
       "5796    Hi there,\\n\\n\\n\\nNow this is probably of no us...         0   \n",
       "\n",
       "                                     FILE_NAME  \n",
       "DOC_ID                                          \n",
       "0       00001.7848dde101aa985090474a91ec93fcf0  \n",
       "1       00002.d94f1b97e48ed3b553b3508d116e6a09  \n",
       "2       00003.2ee33bc6eacdb11f38d052c44819ba6c  \n",
       "3       00004.eac8de8d759b7e74154f142194282724  \n",
       "4       00005.57696a39d7d84318ce497886896bf90d  \n",
       "...                                        ...  \n",
       "5792    01396.61983fbe6ec43f55fd44e30fce24ffa6  \n",
       "5793    01397.9f9ef4c2a8dc012d80f2ce2d3473d3b7  \n",
       "5794    01398.169b51731fe569f42169ae8f948ec676  \n",
       "5795    01399.ca6b00b7b341bbde9a9ea3dd6a7bf896  \n",
       "5796    01400.f897f0931e461e7b2e964d28e927c35e  \n",
       "\n",
       "[5797 rows x 3 columns]"
      ]
     },
     "execution_count": 50,
     "metadata": {},
     "output_type": "execute_result"
    }
   ],
   "source": [
    "data"
   ]
  },
  {
   "cell_type": "code",
   "execution_count": 51,
   "id": "82f34cb0",
   "metadata": {},
   "outputs": [],
   "source": [
    "# Store data in json file format...."
   ]
  },
  {
   "cell_type": "code",
   "execution_count": 52,
   "id": "0f10f7ad",
   "metadata": {},
   "outputs": [],
   "source": [
    "DATA_JSON_FILE ='SpamData/01_Processing/email-text-data.json'\n",
    "data.to_json(DATA_JSON_FILE)"
   ]
  },
  {
   "cell_type": "code",
   "execution_count": 53,
   "id": "be9807f9",
   "metadata": {},
   "outputs": [],
   "source": [
    "# Data visualization...."
   ]
  },
  {
   "cell_type": "code",
   "execution_count": 54,
   "id": "b3f0c50b",
   "metadata": {},
   "outputs": [],
   "source": [
    "# count the category values of data..."
   ]
  },
  {
   "cell_type": "code",
   "execution_count": 55,
   "id": "de135a76",
   "metadata": {},
   "outputs": [
    {
     "data": {
      "text/plain": [
       "0    3901\n",
       "1    1896\n",
       "Name: CATEGORY, dtype: int64"
      ]
     },
     "execution_count": 55,
     "metadata": {},
     "output_type": "execute_result"
    }
   ],
   "source": [
    "data.CATEGORY.value_counts()"
   ]
  },
  {
   "cell_type": "code",
   "execution_count": 56,
   "id": "8b6de700",
   "metadata": {},
   "outputs": [
    {
     "data": {
      "text/plain": [
       "1896"
      ]
     },
     "execution_count": 56,
     "metadata": {},
     "output_type": "execute_result"
    }
   ],
   "source": [
    "amount_of_spam = data.CATEGORY.value_counts()[1]\n",
    "amount_of_spam"
   ]
  },
  {
   "cell_type": "code",
   "execution_count": 57,
   "id": "697fb51a",
   "metadata": {},
   "outputs": [
    {
     "data": {
      "text/plain": [
       "3901"
      ]
     },
     "execution_count": 57,
     "metadata": {},
     "output_type": "execute_result"
    }
   ],
   "source": [
    "amount_of_ham = data.CATEGORY.value_counts()[0]\n",
    "amount_of_ham"
   ]
  },
  {
   "cell_type": "code",
   "execution_count": 58,
   "id": "df1aca4a",
   "metadata": {},
   "outputs": [
    {
     "data": {
      "image/png": "[encoded data removed]",
      "text/plain": [
       "<Figure size 600x600 with 1 Axes>"
      ]
     },
     "metadata": {},
     "output_type": "display_data"
    }
   ],
   "source": [
    "category_names = ['Spam', 'Legit Mail']\n",
    "sizes = [amount_of_spam, amount_of_ham]\n",
    "custom_colours = ['#046E3A', 'red']\n",
    "plt.figure(figsize = (3,3), dpi = 200)\n",
    "plt.pie(sizes, labels = category_names, textprops = {'fontsize': 10}, startangle = 90, colors = custom_colours, autopct = '%.2f%%', pctdistance = 0.4, explode = [0, 0.05])\n",
    "plt.show()"
   ]
  },
  {
   "cell_type": "code",
   "execution_count": 59,
   "id": "d1897e3e",
   "metadata": {},
   "outputs": [],
   "source": [
    "# scrap the MESSAGE COLUMN in data using beautifulsoup...."
   ]
  },
  {
   "cell_type": "code",
   "execution_count": 60,
   "id": "2c9f51f9",
   "metadata": {},
   "outputs": [
    {
     "data": {
      "text/plain": [
       "'A POWERHOUSE GIFTING PROGRAM You Don\\'t Want To Miss! \\n\\n \\n\\n  GET IN WITH THE FOUNDERS! \\n\\nThe MAJOR PLAYERS are on This ONE\\n\\nFor ONCE be where the PlayerS are\\n\\nThis is YOUR Private Invitation\\n\\n\\n\\nEXPERTS ARE CALLING THIS THE FASTEST WAY \\n\\nTO HUGE CASH FLOW EVER CONCEIVED\\n\\nLeverage $1,000 into $50,000 Over and Over Again\\n\\n\\n\\nTHE QUESTION HERE IS:\\n\\nYOU EITHER WANT TO BE WEALTHY \\n\\nOR YOU DON\\'T!!!\\n\\nWHICH ONE ARE YOU?\\n\\nI am tossing you a financial lifeline and for your sake I \\n\\nHope you GRAB onto it and hold on tight For the Ride of youR life!\\n\\n\\n\\nTestimonials\\n\\n\\n\\nHear what average people are doing their first few days:\\n\\n\\x93We\\'ve received 8,000 in 1 day and we are doing that over and over again!\\' Q.S. in AL\\n\\n \\x93I\\'m a single mother in FL and I\\'ve received 12,000 in the last 4 days.\\x94 D. S. in FL\\n\\n\\x93I was not sure about this when I sent off my $1,000 pledge, but I got back $2,000 the very next day!\\x94 L.L. in KY\\n\\n\\x93I didn\\'t have the money, so I found myself a partner to work this with. We have received $4,000 over the last 2 days. \\n\\nI think I made the right decision; don\\'t you?\\x94 K. C. in FL\\n\\n\\x93I pick up $3,000 my first day and I  they gave me free leads and all the training, you can too!\\x94 J.W. in CA\\n\\n\\n\\nANNOUNCING: We will CLOSE your sales for YOU! And Help you get a Fax Blast IMMEDIATELY Upon Your Entry!!!    YOU Make the MONEY!!!\\n\\nFREE LEADS!!! TRAINING!!!\\n\\n\\n\\n$$DON\\'T WAIT!!! CALL NOW $$\\n\\nFAX BACK TO: 1-800-421-6318 OR Call 1-800-896-6568 \\n\\n\\n\\nName__________________________________Phone___________________________________________\\n\\n\\n\\nFax_____________________________________Email____________________________________________\\n\\n\\n\\nBest Time To Call_________________________Time Zone________________________________________\\n\\n\\n\\nThis message is sent in compliance of the new e-mail bill. \"Per Section 301, Paragraph (a)(2)(C) of S. 1618, further transmissions by the sender of this email may be stopped, at no cost to you, by sending a reply to this email address with the word \"REMOVE\" in the subject line. Errors, omissions, and exceptions excluded.\\n\\n \\n\\nThis is NOT spam! I have compiled this list from our Replicate Database, relative to Seattle Marketing Group, The Gigt, or Turbo Team for the sole purpose of these communications. Your continued inclusion is ONLY by your gracious permission. If you wish to not receive this mail from me, please send an email to tesrewinter@yahoo.com with \"Remove\" in the subject and you will be deleted immediately.\\n\\n\\n\\n\\n\\n\\n'"
      ]
     },
     "execution_count": 60,
     "metadata": {},
     "output_type": "execute_result"
    }
   ],
   "source": [
    "data.at[5, 'MESSAGE']"
   ]
  },
  {
   "cell_type": "code",
   "execution_count": 61,
   "id": "4def6b8e",
   "metadata": {},
   "outputs": [],
   "source": [
    "Soup = BeautifulSoup(data.at[5, 'MESSAGE'], 'html.parser')"
   ]
  },
  {
   "cell_type": "code",
   "execution_count": 62,
   "id": "4fc9ddb4",
   "metadata": {
    "scrolled": true
   },
   "outputs": [
    {
     "name": "stdout",
     "output_type": "stream",
     "text": [
      "A POWERHOUSE GIFTING PROGRAM You Don't Want To Miss! \n",
      "\n",
      " \n",
      "\n",
      "  GET IN WITH THE FOUNDERS! \n",
      "\n",
      "The MAJOR PLAYERS are on This ONE\n",
      "\n",
      "For ONCE be where the PlayerS are\n",
      "\n",
      "This is YOUR Private Invitation\n",
      "\n",
      "\n",
      "\n",
      "EXPERTS ARE CALLING THIS THE FASTEST WAY \n",
      "\n",
      "TO HUGE CASH FLOW EVER CONCEIVED\n",
      "\n",
      "Leverage $1,000 into $50,000 Over and Over Again\n",
      "\n",
      "\n",
      "\n",
      "THE QUESTION HERE IS:\n",
      "\n",
      "YOU EITHER WANT TO BE WEALTHY \n",
      "\n",
      "OR YOU DON'T!!!\n",
      "\n",
      "WHICH ONE ARE YOU?\n",
      "\n",
      "I am tossing you a financial lifeline and for your sake I \n",
      "\n",
      "Hope you GRAB onto it and hold on tight For the Ride of youR life!\n",
      "\n",
      "\n",
      "\n",
      "Testimonials\n",
      "\n",
      "\n",
      "\n",
      "Hear what average people are doing their first few days:\n",
      "\n",
      "We've received 8,000 in 1 day and we are doing that over and over again!' Q.S. in AL\n",
      "\n",
      " I'm a single mother in FL and I've received 12,000 in the last 4 days. D. S. in FL\n",
      "\n",
      "I was not sure about this when I sent off my $1,000 pledge, but I got back $2,000 the very next day! L.L. in KY\n",
      "\n",
      "I didn't have the money, so I found myself a partner to work this with. We have received $4,000 over the last 2 days. \n",
      "\n",
      "I think I made the right decision; don't you? K. C. in FL\n",
      "\n",
      "I pick up $3,000 my first day and I  they gave me free leads and all the training, you can too! J.W. in CA\n",
      "\n",
      "\n",
      "\n",
      "ANNOUNCING: We will CLOSE your sales for YOU! And Help you get a Fax Blast IMMEDIATELY Upon Your Entry!!!    YOU Make the MONEY!!!\n",
      "\n",
      "FREE LEADS!!! TRAINING!!!\n",
      "\n",
      "\n",
      "\n",
      "$$DON'T WAIT!!! CALL NOW $$\n",
      "\n",
      "FAX BACK TO: 1-800-421-6318 OR Call 1-800-896-6568 \n",
      "\n",
      "\n",
      "\n",
      "Name__________________________________Phone___________________________________________\n",
      "\n",
      "\n",
      "\n",
      "Fax_____________________________________Email____________________________________________\n",
      "\n",
      "\n",
      "\n",
      "Best Time To Call_________________________Time Zone________________________________________\n",
      "\n",
      "\n",
      "\n",
      "This message is sent in compliance of the new e-mail bill. \"Per Section 301, Paragraph (a)(2)(C) of S. 1618, further transmissions by the sender of this email may be stopped, at no cost to you, by sending a reply to this email address with the word \"REMOVE\" in the subject line. Errors, omissions, and exceptions excluded.\n",
      "\n",
      " \n",
      "\n",
      "This is NOT spam! I have compiled this list from our Replicate Database, relative to Seattle Marketing Group, The Gigt, or Turbo Team for the sole purpose of these communications. Your continued inclusion is ONLY by your gracious permission. If you wish to not receive this mail from me, please send an email to tesrewinter@yahoo.com with \"Remove\" in the subject and you will be deleted immediately.\n",
      "\n"
     ]
    }
   ],
   "source": [
    "print(Soup.prettify())"
   ]
  },
  {
   "cell_type": "code",
   "execution_count": 63,
   "id": "ab8caf4e",
   "metadata": {},
   "outputs": [],
   "source": [
    "# "
   ]
  },
  {
   "cell_type": "code",
   "execution_count": 64,
   "id": "bd9ff2e6",
   "metadata": {},
   "outputs": [],
   "source": [
    "def clean_msg_no_html(message, stemmer = PorterStemmer(), stop_words = set(stopwords.words('english'))):\n",
    "    \n",
    "    soup = BeautifulSoup(message, 'html.parser')\n",
    "    \n",
    "    cleaned_text = soup.get_text()\n",
    "    \n",
    "    words = word_tokenize(cleaned_text.lower())\n",
    "    \n",
    "    filtered_words = []\n",
    "    \n",
    "    \n",
    "    for word in words:\n",
    "        \n",
    "        if word not in stop_words and word.isalpha():\n",
    "            \n",
    "            \n",
    "            stemmed_word = stemmer.stem(word)\n",
    "            \n",
    "            filtered_words.append(stemmed_word)\n",
    "            \n",
    "            \n",
    "    return filtered_words"
   ]
  },
  {
   "cell_type": "code",
   "execution_count": 65,
   "id": "c6949c6d",
   "metadata": {},
   "outputs": [
    {
     "data": {
      "text/plain": [
       "['hello', 'fish', 'cleaner', 'cleanest']"
      ]
     },
     "execution_count": 65,
     "metadata": {},
     "output_type": "execute_result"
    }
   ],
   "source": [
    "clean_msg_no_html('hello fishing?....How are you doing?....cleaner and cleanest')"
   ]
  },
  {
   "cell_type": "code",
   "execution_count": 66,
   "id": "7a279126",
   "metadata": {},
   "outputs": [],
   "source": [
    "# Actual MESSAGE data....."
   ]
  },
  {
   "cell_type": "code",
   "execution_count": 67,
   "id": "e36b50fb",
   "metadata": {},
   "outputs": [
    {
     "data": {
      "text/plain": [
       "DOC_ID\n",
       "0       <!DOCTYPE HTML PUBLIC \"-//W3C//DTD HTML 4.0 Tr...\n",
       "1       1) Fight The Risk of Cancer!\\n\\nhttp://www.adc...\n",
       "2       1) Fight The Risk of Cancer!\\n\\nhttp://www.adc...\n",
       "3       ##############################################...\n",
       "4       I thought you might like these:\\n\\n1) Slim Dow...\n",
       "                              ...                        \n",
       "5792    http://news.bbc.co.uk/1/hi/england/2515127.stm...\n",
       "5793    > >-- be careful when using this one.) Also, t...\n",
       "5794    >>>>> \"SM\" == Skip Montanaro <skip@pobox.com> ...\n",
       "5795    So then, \"Mark Hammond\" <mhammond@skippinet.co...\n",
       "5796    Hi there,\\n\\n\\n\\nNow this is probably of no us...\n",
       "Name: MESSAGE, Length: 5797, dtype: object"
      ]
     },
     "execution_count": 67,
     "metadata": {},
     "output_type": "execute_result"
    }
   ],
   "source": [
    "data['MESSAGE']"
   ]
  },
  {
   "cell_type": "code",
   "execution_count": 68,
   "id": "2cae8dd3",
   "metadata": {},
   "outputs": [
    {
     "data": {
      "text/plain": [
       "pandas.core.series.Series"
      ]
     },
     "execution_count": 68,
     "metadata": {},
     "output_type": "execute_result"
    }
   ],
   "source": [
    "type(data['MESSAGE'])"
   ]
  },
  {
   "cell_type": "code",
   "execution_count": 69,
   "id": "d9cb3cdd",
   "metadata": {},
   "outputs": [],
   "source": [
    "# Apply the clean_msg_no_html format to MESSAGE data.....( to remove the html format and get the text)"
   ]
  },
  {
   "cell_type": "code",
   "execution_count": 70,
   "id": "62ac2e3f",
   "metadata": {},
   "outputs": [
    {
     "name": "stderr",
     "output_type": "stream",
     "text": [
      "C:\\Users\\MY-PC\\anaconda3\\lib\\site-packages\\bs4\\__init__.py:431: MarkupResemblesLocatorWarning: \"http://www.post-gazette.com/columnists/20020905brian5\n",
      "\" looks like a URL. Beautiful Soup is not an HTTP client. You should probably use an HTTP client like requests to get the document behind the URL, and feed that document to Beautiful Soup.\n",
      "  warnings.warn(\n"
     ]
    },
    {
     "data": {
      "text/plain": [
       "DOC_ID\n",
       "0       [save, life, insur, spend, life, quot, save, g...\n",
       "1       [fight, risk, cancer, http, slim, guarante, lo...\n",
       "2       [fight, risk, cancer, http, slim, guarante, lo...\n",
       "3       [adult, club, offer, free, membership, instant...\n",
       "4       [thought, might, like, slim, guarante, lose, l...\n",
       "                              ...                        \n",
       "5792    [http, bizarr, collect, stuf, anim, could, fet...\n",
       "5793    [care, use, one, also, realli, cute, thing, ja...\n",
       "5794    [sm, skip, montanaro, write, jeremi, put, anot...\n",
       "5795    [mark, hammond, like, given, zodb, sound, attr...\n",
       "5796    [hi, probabl, use, whatsoev, also, problem, re...\n",
       "Name: MESSAGE, Length: 5797, dtype: object"
      ]
     },
     "execution_count": 70,
     "metadata": {},
     "output_type": "execute_result"
    }
   ],
   "source": [
    "nested_list = data['MESSAGE'].apply(clean_msg_no_html)\n",
    "nested_list"
   ]
  },
  {
   "cell_type": "code",
   "execution_count": 71,
   "id": "3308e6e1",
   "metadata": {},
   "outputs": [
    {
     "data": {
      "text/plain": [
       "5797"
      ]
     },
     "execution_count": 71,
     "metadata": {},
     "output_type": "execute_result"
    }
   ],
   "source": [
    "len(nested_list)"
   ]
  },
  {
   "cell_type": "code",
   "execution_count": 72,
   "id": "231a8d75",
   "metadata": {},
   "outputs": [
    {
     "data": {
      "text/plain": [
       "pandas.core.series.Series"
      ]
     },
     "execution_count": 72,
     "metadata": {},
     "output_type": "execute_result"
    }
   ],
   "source": [
    "type(nested_list)"
   ]
  },
  {
   "cell_type": "code",
   "execution_count": 73,
   "id": "2fa019f9",
   "metadata": {},
   "outputs": [],
   "source": [
    "# finding the how many texts in nested_list data....."
   ]
  },
  {
   "cell_type": "code",
   "execution_count": 74,
   "id": "83c6f1ee",
   "metadata": {},
   "outputs": [],
   "source": [
    "flat_nested_list = []\n",
    "\n",
    "for sublist in nested_list:\n",
    "    \n",
    "    for item in sublist:\n",
    "        \n",
    "        flat_nested_list.append(item)"
   ]
  },
  {
   "cell_type": "code",
   "execution_count": 75,
   "id": "5f61f1f5",
   "metadata": {},
   "outputs": [
    {
     "data": {
      "text/plain": [
       "759641"
      ]
     },
     "execution_count": 75,
     "metadata": {},
     "output_type": "execute_result"
    }
   ],
   "source": [
    "len(flat_nested_list)"
   ]
  },
  {
   "cell_type": "code",
   "execution_count": 76,
   "id": "d741af99",
   "metadata": {},
   "outputs": [],
   "source": [
    "# for simplification... take first 10 texts......."
   ]
  },
  {
   "cell_type": "code",
   "execution_count": 77,
   "id": "ba56eb01",
   "metadata": {},
   "outputs": [
    {
     "data": {
      "text/plain": [
       "['save',\n",
       " 'life',\n",
       " 'insur',\n",
       " 'spend',\n",
       " 'life',\n",
       " 'quot',\n",
       " 'save',\n",
       " 'g',\n",
       " 'famili',\n",
       " 'financi']"
      ]
     },
     "execution_count": 77,
     "metadata": {},
     "output_type": "execute_result"
    }
   ],
   "source": [
    "flat_nested_list[:10]"
   ]
  },
  {
   "cell_type": "code",
   "execution_count": 78,
   "id": "0a3033e1",
   "metadata": {},
   "outputs": [],
   "source": [
    "# finding texts in spam and ham......"
   ]
  },
  {
   "cell_type": "code",
   "execution_count": 79,
   "id": "b5dc3e0d",
   "metadata": {},
   "outputs": [
    {
     "data": {
      "text/plain": [
       "Int64Index([   0,    1,    2,    3,    4,    5,    6,    7,    8,    9,\n",
       "            ...\n",
       "            1886, 1887, 1888, 1889, 1890, 1891, 1892, 1893, 1894, 1895],\n",
       "           dtype='int64', name='DOC_ID', length=1896)"
      ]
     },
     "execution_count": 79,
     "metadata": {},
     "output_type": "execute_result"
    }
   ],
   "source": [
    "doc_id_spam = data[data.CATEGORY == 1].index\n",
    "doc_id_spam"
   ]
  },
  {
   "cell_type": "code",
   "execution_count": 80,
   "id": "5c855064",
   "metadata": {},
   "outputs": [
    {
     "data": {
      "text/plain": [
       "Int64Index([1896, 1897, 1898, 1899, 1900, 1901, 1902, 1903, 1904, 1905,\n",
       "            ...\n",
       "            5787, 5788, 5789, 5790, 5791, 5792, 5793, 5794, 5795, 5796],\n",
       "           dtype='int64', name='DOC_ID', length=3901)"
      ]
     },
     "execution_count": 80,
     "metadata": {},
     "output_type": "execute_result"
    }
   ],
   "source": [
    "doc_id_ham = data[data.CATEGORY == 0].index\n",
    "doc_id_ham"
   ]
  },
  {
   "cell_type": "code",
   "execution_count": 81,
   "id": "fb0ff4e6",
   "metadata": {},
   "outputs": [
    {
     "data": {
      "text/plain": [
       "1896"
      ]
     },
     "execution_count": 81,
     "metadata": {},
     "output_type": "execute_result"
    }
   ],
   "source": [
    "len(doc_id_spam)"
   ]
  },
  {
   "cell_type": "code",
   "execution_count": 82,
   "id": "a7ca5f96",
   "metadata": {},
   "outputs": [
    {
     "data": {
      "text/plain": [
       "3901"
      ]
     },
     "execution_count": 82,
     "metadata": {},
     "output_type": "execute_result"
    }
   ],
   "source": [
    "len(doc_id_ham)"
   ]
  },
  {
   "cell_type": "code",
   "execution_count": 83,
   "id": "4ff574a3",
   "metadata": {},
   "outputs": [],
   "source": [
    "# showing with nested_list and doc_id_spam and ham....."
   ]
  },
  {
   "cell_type": "code",
   "execution_count": 84,
   "id": "32968b74",
   "metadata": {},
   "outputs": [
    {
     "data": {
      "text/plain": [
       "DOC_ID\n",
       "0       [save, life, insur, spend, life, quot, save, g...\n",
       "1       [fight, risk, cancer, http, slim, guarante, lo...\n",
       "2       [fight, risk, cancer, http, slim, guarante, lo...\n",
       "3       [adult, club, offer, free, membership, instant...\n",
       "4       [thought, might, like, slim, guarante, lose, l...\n",
       "                              ...                        \n",
       "1891    [want, boss, train, home, studi, thousand, peo...\n",
       "1892    [messag, mime, format, prefer, doctor, order, ...\n",
       "1893    [dear, subscrib, could, show, way, get, visito...\n",
       "1894    [custom, appreci, sale, express, appreci, loya...\n",
       "1895    [attn, strictli, confidenti, pleas, introduc, ...\n",
       "Name: MESSAGE, Length: 1896, dtype: object"
      ]
     },
     "execution_count": 84,
     "metadata": {},
     "output_type": "execute_result"
    }
   ],
   "source": [
    "nested_list_spam = nested_list[doc_id_spam]\n",
    "nested_list_spam"
   ]
  },
  {
   "cell_type": "code",
   "execution_count": 85,
   "id": "1c901499",
   "metadata": {},
   "outputs": [
    {
     "data": {
      "text/plain": [
       "DOC_ID\n",
       "1896    [date, wed, aug, chri, garrigu, ca, reproduc, ...\n",
       "1897    [date, wed, aug, chri, garrigu, ca, reproduc, ...\n",
       "1898    [martin, post, tasso, papadopoulo, greek, scul...\n",
       "1899    [martin, post, tasso, papadopoulo, greek, scul...\n",
       "1900    [man, threaten, explos, moscow, thursday, augu...\n",
       "                              ...                        \n",
       "5792    [http, bizarr, collect, stuf, anim, could, fet...\n",
       "5793    [care, use, one, also, realli, cute, thing, ja...\n",
       "5794    [sm, skip, montanaro, write, jeremi, put, anot...\n",
       "5795    [mark, hammond, like, given, zodb, sound, attr...\n",
       "5796    [hi, probabl, use, whatsoev, also, problem, re...\n",
       "Name: MESSAGE, Length: 3901, dtype: object"
      ]
     },
     "execution_count": 85,
     "metadata": {},
     "output_type": "execute_result"
    }
   ],
   "source": [
    "nested_list_ham = nested_list[doc_id_ham]\n",
    "nested_list_ham"
   ]
  },
  {
   "cell_type": "code",
   "execution_count": 86,
   "id": "0093d72a",
   "metadata": {},
   "outputs": [],
   "source": [
    "# checking lengths whether correct or not..."
   ]
  },
  {
   "cell_type": "code",
   "execution_count": 87,
   "id": "4cdb2a27",
   "metadata": {},
   "outputs": [
    {
     "data": {
      "text/plain": [
       "1896"
      ]
     },
     "execution_count": 87,
     "metadata": {},
     "output_type": "execute_result"
    }
   ],
   "source": [
    "len(nested_list_spam)"
   ]
  },
  {
   "cell_type": "code",
   "execution_count": 88,
   "id": "a84f0750",
   "metadata": {},
   "outputs": [
    {
     "data": {
      "text/plain": [
       "3901"
      ]
     },
     "execution_count": 88,
     "metadata": {},
     "output_type": "execute_result"
    }
   ],
   "source": [
    "len(nested_list_ham)"
   ]
  },
  {
   "cell_type": "code",
   "execution_count": 89,
   "id": "84d17529",
   "metadata": {},
   "outputs": [],
   "source": [
    "# Checking whether flat_list_spam and ham separetly and compare with flat_nested_list...need to be same.."
   ]
  },
  {
   "cell_type": "code",
   "execution_count": 90,
   "id": "461955f0",
   "metadata": {},
   "outputs": [],
   "source": [
    "flat_list_spam = []\n",
    "\n",
    "for sublist in nested_list_spam:\n",
    "    \n",
    "    for item in sublist:\n",
    "        \n",
    "        flat_list_spam.append(item)"
   ]
  },
  {
   "cell_type": "code",
   "execution_count": 91,
   "id": "4b7064c5",
   "metadata": {},
   "outputs": [],
   "source": [
    "flat_list_ham = []\n",
    "\n",
    "for sublist in nested_list_ham:\n",
    "    \n",
    "    for item in sublist:\n",
    "        \n",
    "        flat_list_ham.append(item)"
   ]
  },
  {
   "cell_type": "code",
   "execution_count": 92,
   "id": "e93751f4",
   "metadata": {},
   "outputs": [
    {
     "data": {
      "text/plain": [
       "759641"
      ]
     },
     "execution_count": 92,
     "metadata": {},
     "output_type": "execute_result"
    }
   ],
   "source": [
    "len(flat_list_spam) + len(flat_list_ham)"
   ]
  },
  {
   "cell_type": "code",
   "execution_count": 93,
   "id": "b3e09e5b",
   "metadata": {},
   "outputs": [],
   "source": [
    "# or use list comprehension.... to make nested_list to flat_list....instead of nested for loop.."
   ]
  },
  {
   "cell_type": "code",
   "execution_count": 94,
   "id": "6e810542",
   "metadata": {},
   "outputs": [],
   "source": [
    "flat_list_spam = [item for sublist in nested_list_spam for item in sublist]"
   ]
  },
  {
   "cell_type": "code",
   "execution_count": 95,
   "id": "c65cb7bc",
   "metadata": {},
   "outputs": [
    {
     "data": {
      "text/plain": [
       "317499"
      ]
     },
     "execution_count": 95,
     "metadata": {},
     "output_type": "execute_result"
    }
   ],
   "source": [
    "len(flat_list_spam)"
   ]
  },
  {
   "cell_type": "code",
   "execution_count": 96,
   "id": "1844245e",
   "metadata": {},
   "outputs": [],
   "source": [
    "flat_list_ham = [item for sublist in nested_list_ham for item in sublist]"
   ]
  },
  {
   "cell_type": "code",
   "execution_count": 97,
   "id": "3f1fc52a",
   "metadata": {},
   "outputs": [
    {
     "data": {
      "text/plain": [
       "442142"
      ]
     },
     "execution_count": 97,
     "metadata": {},
     "output_type": "execute_result"
    }
   ],
   "source": [
    "len(flat_list_ham)"
   ]
  },
  {
   "cell_type": "code",
   "execution_count": 98,
   "id": "2809d270",
   "metadata": {},
   "outputs": [],
   "source": [
    "# check with above two lengths...and compare with nested_list..."
   ]
  },
  {
   "cell_type": "code",
   "execution_count": 99,
   "id": "4f53b752",
   "metadata": {},
   "outputs": [
    {
     "data": {
      "text/plain": [
       "759641"
      ]
     },
     "execution_count": 99,
     "metadata": {},
     "output_type": "execute_result"
    }
   ],
   "source": [
    "len(flat_list_spam) + len(flat_list_ham)"
   ]
  },
  {
   "cell_type": "code",
   "execution_count": 100,
   "id": "70c872a3",
   "metadata": {},
   "outputs": [],
   "source": [
    "# finding longest email in nested_list...."
   ]
  },
  {
   "cell_type": "code",
   "execution_count": 101,
   "id": "645503e0",
   "metadata": {},
   "outputs": [],
   "source": [
    "email_lengths = []\n",
    "\n",
    "for sublist in nested_list:\n",
    "    \n",
    "    email_lengths.append(len(sublist))"
   ]
  },
  {
   "cell_type": "code",
   "execution_count": 102,
   "id": "fb74a375",
   "metadata": {},
   "outputs": [
    {
     "data": {
      "text/plain": [
       "[92, 56, 44, 206, 45, 161, 47, 162, 203, 44]"
      ]
     },
     "execution_count": 102,
     "metadata": {},
     "output_type": "execute_result"
    }
   ],
   "source": [
    "email_lengths[:10] # take first 10..."
   ]
  },
  {
   "cell_type": "code",
   "execution_count": 103,
   "id": "391d2409",
   "metadata": {},
   "outputs": [
    {
     "data": {
      "text/plain": [
       "7671"
      ]
     },
     "execution_count": 103,
     "metadata": {},
     "output_type": "execute_result"
    }
   ],
   "source": [
    "max(email_lengths)"
   ]
  },
  {
   "cell_type": "code",
   "execution_count": 104,
   "id": "16243700",
   "metadata": {},
   "outputs": [],
   "source": [
    "# find longest email in total emails.... dataframes"
   ]
  },
  {
   "cell_type": "code",
   "execution_count": 105,
   "id": "1c73f107",
   "metadata": {},
   "outputs": [
    {
     "data": {
      "text/plain": [
       "5776"
      ]
     },
     "execution_count": 105,
     "metadata": {},
     "output_type": "execute_result"
    }
   ],
   "source": [
    "np.argmax(email_lengths)"
   ]
  },
  {
   "cell_type": "code",
   "execution_count": 106,
   "id": "ab185998",
   "metadata": {},
   "outputs": [
    {
     "data": {
      "text/html": [
       "<div>\n",
       "<style scoped>\n",
       "    .dataframe tbody tr th:only-of-type {\n",
       "        vertical-align: middle;\n",
       "    }\n",
       "\n",
       "    .dataframe tbody tr th {\n",
       "        vertical-align: top;\n",
       "    }\n",
       "\n",
       "    .dataframe thead th {\n",
       "        text-align: right;\n",
       "    }\n",
       "</style>\n",
       "<table border=\"1\" class=\"dataframe\">\n",
       "  <thead>\n",
       "    <tr style=\"text-align: right;\">\n",
       "      <th></th>\n",
       "      <th>MESSAGE</th>\n",
       "      <th>CATEGORY</th>\n",
       "      <th>FILE_NAME</th>\n",
       "    </tr>\n",
       "    <tr>\n",
       "      <th>DOC_ID</th>\n",
       "      <th></th>\n",
       "      <th></th>\n",
       "      <th></th>\n",
       "    </tr>\n",
       "  </thead>\n",
       "  <tbody>\n",
       "    <tr>\n",
       "      <th>5774</th>\n",
       "      <td>\\n\\nForwarded-by: Nev Dull &lt;nev@sleepycat.com&gt;...</td>\n",
       "      <td>0</td>\n",
       "      <td>01378.363deaa0f90db14de13a4a676703826d</td>\n",
       "    </tr>\n",
       "    <tr>\n",
       "      <th>5775</th>\n",
       "      <td>use Perl Daily Headline Mailer\\n\\n\\n\\nCall for...</td>\n",
       "      <td>0</td>\n",
       "      <td>01379.7b9367f184ed0a8c46b6c8562b86caf8</td>\n",
       "    </tr>\n",
       "    <tr>\n",
       "      <th>5776</th>\n",
       "      <td>------------------------ Yahoo! Groups Sponsor...</td>\n",
       "      <td>0</td>\n",
       "      <td>01380.e3fad5af747d3a110008f94a046bf31b</td>\n",
       "    </tr>\n",
       "    <tr>\n",
       "      <th>5777</th>\n",
       "      <td>use Perl Daily Newsletter\\n\\n\\n\\nIn this issue...</td>\n",
       "      <td>0</td>\n",
       "      <td>01381.044d1085f7fec8bb04229da3d7887424</td>\n",
       "    </tr>\n",
       "    <tr>\n",
       "      <th>5778</th>\n",
       "      <td>Hi....\\n\\n\\n\\ni installed razor an SpamAssassi...</td>\n",
       "      <td>0</td>\n",
       "      <td>01382.492cd22357b171e9cbbb2ed73f9d551f</td>\n",
       "    </tr>\n",
       "  </tbody>\n",
       "</table>\n",
       "</div>"
      ],
      "text/plain": [
       "                                                  MESSAGE  CATEGORY  \\\n",
       "DOC_ID                                                                \n",
       "5774    \\n\\nForwarded-by: Nev Dull <nev@sleepycat.com>...         0   \n",
       "5775    use Perl Daily Headline Mailer\\n\\n\\n\\nCall for...         0   \n",
       "5776    ------------------------ Yahoo! Groups Sponsor...         0   \n",
       "5777    use Perl Daily Newsletter\\n\\n\\n\\nIn this issue...         0   \n",
       "5778    Hi....\\n\\n\\n\\ni installed razor an SpamAssassi...         0   \n",
       "\n",
       "                                     FILE_NAME  \n",
       "DOC_ID                                          \n",
       "5774    01378.363deaa0f90db14de13a4a676703826d  \n",
       "5775    01379.7b9367f184ed0a8c46b6c8562b86caf8  \n",
       "5776    01380.e3fad5af747d3a110008f94a046bf31b  \n",
       "5777    01381.044d1085f7fec8bb04229da3d7887424  \n",
       "5778    01382.492cd22357b171e9cbbb2ed73f9d551f  "
      ]
     },
     "execution_count": 106,
     "metadata": {},
     "output_type": "execute_result"
    }
   ],
   "source": [
    "data[5774:5779]"
   ]
  },
  {
   "cell_type": "code",
   "execution_count": 107,
   "id": "f7d8a61d",
   "metadata": {},
   "outputs": [],
   "source": [
    "# loc the longest email...."
   ]
  },
  {
   "cell_type": "code",
   "execution_count": 108,
   "id": "ec21d701",
   "metadata": {},
   "outputs": [
    {
     "data": {
      "text/plain": [
       "'------------------------ Yahoo! Groups Sponsor ---------------------~-->\\n\\n4 DVDs Free +s&p Join Now\\n\\nhttp://us.click.yahoo.com/pt6YBB/NXiEAA/Ey.GAA/26EolB/TM\\n\\n---------------------------------------------------------------------~->\\n\\n\\n\\nA new version of unison is now available for testing.  It incorporates\\n\\nseveral small improvements over 2.9.1, but the main change is a fix to\\n\\na bug that had potentially serious safety consequences, but only for\\n\\nthe very small number of users that are in the habit of running more\\n\\nthan one instance of Unison at a time, in parallel.  These users are\\n\\nstrongly encouraged to upgrade.  Others can wait if they wish.\\n\\n\\n\\nThe release includes pre-built executables for Linux and Solaris, but\\n\\nnot Windows.  (We are looking for a Unison-Windows maintainer -- at\\n\\nthe moment, none of the active developers are regularly using Unison\\n\\non Windows, and we do not have a machine that is configured properly\\n\\nfor building executables for export.)\\n\\n\\n\\nGrab it from here:\\n\\n   http://www.cis.upenn.edu/~bcpierce/unison/download.html\\n\\n\\n\\nEnjoy,\\n\\n\\n\\n        -- Benjamin\\n\\n\\n\\n   Changes since 2.9.1:\\n\\n     * Added a preference maxthreads that can be used to limit the number\\n\\n       of simultaneous file transfers.\\n\\n     * Added a backupdir preference, which controls where backup files\\n\\n       are stored.\\n\\n     * Basic support added for OSX. In particular, Unison now recognizes\\n\\n       when one of the hosts being synchronized is running OSX and\\n\\n       switches to a case-insensitive treatment of filenames (i.e., \\'foo\\'\\n\\n       and \\'FOO\\' are considered to be the same file). (OSX is not yet\\n\\n       fully working, however: in particular, files with resource forks\\n\\n       will not be synchronized correctly.)\\n\\n     * The same hash used to form the archive name is now also added to\\n\\n       the names of the temp files created during file transfer. The\\n\\n       reason for this is that, during update detection, we are going to\\n\\n       silently delete any old temp files that we find along the way, and\\n\\n       we want to prevent ourselves from deleting temp files belonging to\\n\\n       other instances of Unison that may be running in parallel, e.g.\\n\\n       synchronizing with a different host. Thanks to Ruslan Ermilov for\\n\\n       this suggestion.\\n\\n     * Several small user interface improvements\\n\\n     * Documentation\\n\\n          + FAQ and bug reporting instructions have been split out as\\n\\n            separate HTML pages, accessible directly from the unison web\\n\\n            page.\\n\\n          + Additions to FAQ, in particular suggestions about performance\\n\\n            tuning.\\n\\n     * Makefile\\n\\n          + Makefile.OCaml now sets UISTYLE=text or UISTYLE=gtk\\n\\n            automatically, depending on whether it finds lablgtk\\n\\n            installed\\n\\n          + Unison should now compile ``out of the box\\'\\' under OSX\\n\\n       \\n\\n   Changes since 2.8.1:\\n\\n     * Changing profile works again under Windows\\n\\n     * File movement optimization: Unison now tries to use local copy\\n\\n       instead of transfer for moved or copied files. It is controled by\\n\\n       a boolean option ``xferbycopying\\'\\'.\\n\\n     * Network statistics window (transfer rate, amount of data\\n\\n       transferred). [NB: not available in Windows-Cygwin version.]\\n\\n     * symlinks work under the cygwin version (which is dynamically\\n\\n       linked).\\n\\n     * Fixed potential deadlock when synchronizing between Windows and\\n\\n       Unix\\n\\n     * Small improvements:\\n\\n          + If neither the\\n\\n            tt USERPROFILE nor the\\n\\n            tt HOME environment variables are set, then Unison will put\\n\\n            its temporary commit log (called\\n\\n            tt DANGER.README) into the directory named by the\\n\\n            tt UNISON environment variable, if any; otherwise it will use\\n\\n            tt C:.\\n\\n          + alternative set of values for fastcheck: yes = true; no =\\n\\n            false; default = auto.\\n\\n          + -silent implies -contactquietly\\n\\n     * Source code:\\n\\n          + Code reorganization and tidying. (Started breaking up some of\\n\\n            the basic utility modules so that the non-unison-specific\\n\\n            stuff can be made available for other projects.)\\n\\n          + several Makefile and docs changes (for release);\\n\\n          + further comments in ``update.ml\\'\\';\\n\\n          + connection information is not stored in global variables\\n\\n            anymore.\\n\\n       \\n\\n   Changes since 2.7.78:\\n\\n     * Small bugfix to textual user interface under Unix (to avoid\\n\\n       leaving the terminal in a bad state where it would not echo inputs\\n\\n       after Unison exited).\\n\\n       \\n\\n   Changes since 2.7.39:\\n\\n     * Improvements to the main web page (stable and beta version docs\\n\\n       are now both accessible).\\n\\n     * User manual revised.\\n\\n     * Added some new preferences:\\n\\n          + ``sshcmd\\'\\' and ``rshcmd\\'\\' for specifying paths to ssh and rsh\\n\\n            programs.\\n\\n          + ``contactquietly\\'\\' for suppressing the ``contacting server\\'\\'\\n\\n            message during Unison startup (under the graphical UI).\\n\\n     * Bug fixes:\\n\\n          + Fixed small bug in UI that neglected to change the displayed\\n\\n            column headers if loading a new profile caused the roots to\\n\\n            change.\\n\\n          + Fixed a bug that would put the text UI into an infinite loop\\n\\n            if it encountered a conflict when run in batch mode.\\n\\n          + Added some code to try to fix the display of non-Ascii\\n\\n            characters in filenames on Windows systems in the GTK UI.\\n\\n            (This code is currently untested---if you\\'re one of the\\n\\n            people that had reported problems with display of non-ascii\\n\\n            filenames, we\\'d appreciate knowing if this actually fixes\\n\\n            things.)\\n\\n          + `-prefer/-force newer\\' works properly now. (The bug was\\n\\n            reported by Sebastian Urbaniak and Sean Fulton.)\\n\\n     * User interface and Unison behavior:\\n\\n          + Renamed `Proceed\\' to `Go\\' in the graphical UI.\\n\\n          + Added exit status for the textual user interface.\\n\\n          + Paths that are not synchronized because of conflicts or\\n\\n            errors during update detection are now noted in the log file.\\n\\n          + [END] messages in log now use a briefer format\\n\\n          + Changed the text UI startup sequence so that\\n\\n            tt ./unison -ui text will use the default profile instead of\\n\\n            failing.\\n\\n          + Made some improvements to the error messages.\\n\\n          + Added some debugging messages to remote.ml.\\n\\n       \\n\\n   Changes since 2.7.7:\\n\\n     * Incorporated, once again, a multi-threaded transport sub-system.\\n\\n       It transfers several files at the same time, thereby making much\\n\\n       more effective use of available network bandwidth. Unlike the\\n\\n       earlier attempt, this time we do not rely on the native thread\\n\\n       library of OCaml. Instead, we implement a light-weight,\\n\\n       non-preemptive multi-thread library in OCaml directly. This\\n\\n       version appears stable.\\n\\n       Some adjustments to unison are made to accommodate the\\n\\n       multi-threaded version. These include, in particular, changes to\\n\\n       the user interface and logging, for example:\\n\\n          + Two log entries for each transferring task, one for the\\n\\n            beginning, one for the end.\\n\\n          + Suppressed warning messages against removing temp files left\\n\\n            by a previous unison run, because warning does not work\\n\\n            nicely under multi-threading. The temp file names are made\\n\\n            less likely to coincide with the name of a file created by\\n\\n            the user. They take the form\\n\\n            .#<filename>.<serial>.unison.tmp.\\n\\n     * Added a new command to the GTK user interface: pressing \\'f\\' causes\\n\\n       Unison to start a new update detection phase, using as paths just\\n\\n       those paths that have been detected as changed and not yet marked\\n\\n       as successfully completed. Use this command to quickly restart\\n\\n       Unison on just the set of paths still needing attention after a\\n\\n       previous run.\\n\\n     * Made the ignorecase preference user-visible, and changed the\\n\\n       initialization code so that it can be manually set to true, even\\n\\n       if neither host is running Windows. (This may be useful, e.g.,\\n\\n       when using Unison running on a Unix system with a FAT volume\\n\\n       mounted.)\\n\\n     * Small improvements and bug fixes:\\n\\n          + Errors in preference files now generate fatal errors rather\\n\\n            than warnings at startup time. (I.e., you can\\'t go on from\\n\\n            them.) Also, we fixed a bug that was preventing these\\n\\n            warnings from appearing in the text UI, so some users who\\n\\n            have been running (unsuspectingly) with garbage in their\\n\\n            prefs files may now get error reports.\\n\\n          + Error reporting for preference files now provides file name\\n\\n            and line number.\\n\\n          + More intelligible message in the case of identical change to\\n\\n            the same files: ``Nothing to do: replicas have been changed\\n\\n            only in identical ways since last sync.\\'\\'\\n\\n          + Files with prefix \\'.#\\' excluded when scanning for preference\\n\\n            files.\\n\\n          + Rsync instructions are send directly instead of first\\n\\n            marshaled.\\n\\n          + Won\\'t try forever to get the fingerprint of a continuously\\n\\n            changing file: unison will give up after certain number of\\n\\n            retries.\\n\\n          + Other bug fixes, including the one reported by Peter Selinger\\n\\n            (force=older preference not working).\\n\\n     * Compilation:\\n\\n          + Upgraded to the new OCaml 3.04 compiler, with the LablGtk\\n\\n            1.2.3 library (patched version used for compiling under\\n\\n            Windows).\\n\\n          + Added the option to compile unison on the Windows platform\\n\\n            with Cygwin GNU C compiler. This option only supports\\n\\n            building dynamically linked unison executables.\\n\\n       \\n\\n   Changes since 2.7.4:\\n\\n     * Fixed a silly (but debilitating) bug in the client startup\\n\\n       sequence.\\n\\n       \\n\\n   Changes since 2.7.1:\\n\\n     * Added addprefsto preference, which (when set) controls which\\n\\n       preference file new preferences (e.g. new ignore patterns) are\\n\\n       added to.\\n\\n     * Bug fix: read the initial connection header one byte at a time, so\\n\\n       that we don\\'t block if the header is shorter than expected. (This\\n\\n       bug did not affect normal operation --- it just made it hard to\\n\\n       tell when you were trying to use Unison incorrectly with an old\\n\\n       version of the server, since it would hang instead of giving an\\n\\n       error message.)\\n\\n       \\n\\n   Changes since 2.6.59:\\n\\n     * Changed fastcheck from a boolean to a string preference. Its legal\\n\\n       values are yes (for a fast check), no (for a safe check), or\\n\\n       default (for a fast check---which also happens to be safe---when\\n\\n       running on Unix and a safe check when on Windows). The default is\\n\\n       default.\\n\\n     * Several preferences have been renamed for consistency. All\\n\\n       preference names are now spelled out in lowercase. For backward\\n\\n       compatibility, the old names still work, but they are not\\n\\n       mentioned in the manual any more.\\n\\n     * The temp files created by the \\'diff\\' and \\'merge\\' commands are now\\n\\n       named by prepending a new prefix to the file name, rather than\\n\\n       appending a suffix. This should avoid confusing diff/merge\\n\\n       programs that depend on the suffix to guess the type of the file\\n\\n       contents.\\n\\n     * We now set the keepalive option on the server socket, to make sure\\n\\n       that the server times out if the communication link is\\n\\n       unexpectedly broken.\\n\\n     * Bug fixes:\\n\\n          + When updating small files, Unison now closes the destination\\n\\n            file.\\n\\n          + File permissions are properly updated when the file is behind\\n\\n            a followed link.\\n\\n          + Several other small fixes.\\n\\n       \\n\\n   Changes since 2.6.38:\\n\\n     * Major Windows performance improvement!\\n\\n       We\\'ve added a preference fastcheck that makes Unison look only at\\n\\n       a file\\'s creation time and last-modified time to check whether it\\n\\n       has changed. This should result in a huge speedup when checking\\n\\n       for updates in large replicas.\\n\\n       When this switch is set, Unison will use file creation times as\\n\\n       \\'pseudo inode numbers\\' when scanning Windows replicas for updates,\\n\\n       instead of reading the full contents of every file. This may cause\\n\\n       Unison to miss propagating an update if the create time,\\n\\n       modification time, and length of the file are all unchanged by the\\n\\n       update (this is not easy to achieve, but it can be done). However,\\n\\n       Unison will never overwrite such an update with a change from the\\n\\n       other replica, since it always does a safe check for updates just\\n\\n       before propagating a change. Thus, it is reasonable to use this\\n\\n       switch most of the time and occasionally run Unison once with\\n\\n       fastcheck set to false, if you are worried that Unison may have\\n\\n       overlooked an update.\\n\\n       Warning: This change is has not yet been thoroughly field-tested.\\n\\n       If you set the fastcheck preference, pay careful attention to what\\n\\n       Unison is doing.\\n\\n     * New functionality: centralized backups and merging\\n\\n          + This version incorporates two pieces of major new\\n\\n            functionality, implemented by Sylvain Roy during a summer\\n\\n            internship at Penn: a centralized backup facility that keeps\\n\\n            a full backup of (selected files in) each replica, and a\\n\\n            merging feature that allows Unison to invoke an external\\n\\n            file-merging tool to resolve conflicting changes to\\n\\n            individual files.\\n\\n          + Centralized backups:\\n\\n               o Unison now maintains full backups of the\\n\\n                 last-synchronized versions of (some of) the files in\\n\\n                 each replica; these function both as backups in the\\n\\n                 usual sense and as the ``common version\\'\\' when invoking\\n\\n                 external merge programs.\\n\\n               o The backed up files are stored in a directory\\n\\n                 /.unison/backup on each host. (The name of this\\n\\n                 directory can be changed by setting the environment\\n\\n                 variable UNISONBACKUPDIR.)\\n\\n               o The predicate backup controls which files are actually\\n\\n                 backed up: giving the preference \\'backup = Path *\\'\\n\\n                 causes backing up of all files.\\n\\n               o Files are added to the backup directory whenever unison\\n\\n                 updates its archive. This means that\\n\\n                    # When unison reconstructs its archive from scratch\\n\\n                      (e.g., because of an upgrade, or because the\\n\\n                      archive files have been manually deleted), all\\n\\n                      files will be backed up.\\n\\n                    # Otherwise, each file will be backed up the first\\n\\n                      time unison propagates an update for it.\\n\\n               o The preference backupversions controls how many previous\\n\\n                 versions of each file are kept. The default is 2 (i.e.,\\n\\n                 the last synchronized version plus one backup).\\n\\n               o For backward compatibility, the backups preference is\\n\\n                 also still supported, but backup is now preferred.\\n\\n               o It is OK to manually delete files from the backup\\n\\n                 directory (or to throw away the directory itself).\\n\\n                 Before unison uses any of these files for anything\\n\\n                 important, it checks that its fingerprint matches the\\n\\n                 one that it expects.\\n\\n          + Merging:\\n\\n               o Both user interfaces offer a new \\'merge\\' command,\\n\\n                 invoked by pressing \\'m\\' (with a changed file selected).\\n\\n               o The actual merging is performed by an external program.\\n\\n                 The preferences merge and merge2 control how this\\n\\n                 program is invoked. If a backup exists for this file\\n\\n                 (see the backup preference), then the merge preference\\n\\n                 is used for this purpose; otherwise merge2 is used. In\\n\\n                 both cases, the value of the preference should be a\\n\\n                 string representing the command that should be passed to\\n\\n                 a shell to invoke the merge program. Within this string,\\n\\n                 the special substrings CURRENT1, CURRENT2, NEW, and OLD\\n\\n                 may appear at any point. Unison will substitute these as\\n\\n                 follows before invoking the command:\\n\\n                    # CURRENT1 is replaced by the name of the local copy\\n\\n                      of the file;\\n\\n                    # CURRENT2 is replaced by the name of a temporary\\n\\n                      file, into which the contents of the remote copy of\\n\\n                      the file have been transferred by Unison prior to\\n\\n                      performing the merge;\\n\\n                    # NEW is replaced by the name of a temporary file\\n\\n                      that Unison expects to be written by the merge\\n\\n                      program when it finishes, giving the desired new\\n\\n                      contents of the file; and\\n\\n                    # OLD is replaced by the name of the backed up copy\\n\\n                      of the original version of the file (i.e., its\\n\\n                      state at the end of the last successful run of\\n\\n                      Unison), if one exists (applies only to merge, not\\n\\n                      merge2).\\n\\n                 For example, on Unix systems setting the merge\\n\\n                 preference to\\n\\n\\n\\n   merge = diff3 -m CURRENT1 OLD CURRENT2 > NEW\\n\\n                 will tell Unison to use the external diff3 program for\\n\\n                 merging.\\n\\n                 A large number of external merging programs are\\n\\n                 available. For example, emacs users may find the\\n\\n                 following convenient:\\n\\n\\n\\n    merge2 = emacs -q --eval \\'(ediff-merge-files \"CURRENT1\" \"CURRENT2\"\\n\\n               nil \"NEW\")\\'\\n\\n    merge = emacs -q --eval \\'(ediff-merge-files-with-ancestor\\n\\n               \"CURRENT1\" \"CURRENT2\" \"OLD\" nil \"NEW\")\\'\\n\\n                 (These commands are displayed here on two lines to avoid\\n\\n                 running off the edge of the page. In your preference\\n\\n                 file, each should be written on a single line.)\\n\\n               o If the external program exits without leaving any file\\n\\n                 at the path NEW, Unison considers the merge to have\\n\\n                 failed. If the merge program writes a file called NEW\\n\\n                 but exits with a non-zero status code, then Unison\\n\\n                 considers the merge to have succeeded but to have\\n\\n                 generated conflicts. In this case, it attempts to invoke\\n\\n                 an external editor so that the user can resolve the\\n\\n                 conflicts. The value of the editor preference controls\\n\\n                 what editor is invoked by Unison. The default is emacs.\\n\\n               o Please send us suggestions for other useful values of\\n\\n                 the merge2 and merge preferences -- we\\'d like to give\\n\\n                 several examples in the manual.\\n\\n     * Smaller changes:\\n\\n          + When one preference file includes another, unison no longer\\n\\n            adds the suffix \\'.prf\\' to the included file by default. If a\\n\\n            file with precisely the given name exists in the .unison\\n\\n            directory, it will be used; otherwise Unison will add .prf,\\n\\n            as it did before. (This change means that included preference\\n\\n            files can be named blah.include instead of blah.prf, so that\\n\\n            unison will not offer them in its \\'choose a preference file\\'\\n\\n            dialog.)\\n\\n          + For Linux systems, we now offer both a statically linked and\\n\\n            a dynamically linked executable. The static one is larger,\\n\\n            but will probably run on more systems, since it doesn\\'t\\n\\n            depend on the same versions of dynamically linked library\\n\\n            modules being available.\\n\\n          + Fixed the force and prefer preferences, which were getting\\n\\n            the propagation direction exactly backwards.\\n\\n          + Fixed a bug in the startup code that would cause unison to\\n\\n            crash when the default profile (~/.unison/default.prf) does\\n\\n            not exist.\\n\\n          + Fixed a bug where, on the run when a profile is first\\n\\n            created, Unison would confusingly display the roots in\\n\\n            reverse order in the user interface.\\n\\n     * For developers:\\n\\n          + We\\'ve added a module dependency diagram to the source\\n\\n            distribution, in src/DEPENDENCIES.ps, to help new prospective\\n\\n            developers with navigating the code.\\n\\n       \\n\\n   Changes since 2.6.11:\\n\\n     * INCOMPATIBLE CHANGE: Archive format has changed.\\n\\n     * INCOMPATIBLE CHANGE: The startup sequence has been completely\\n\\n       rewritten and greatly simplified. The main user-visible change is\\n\\n       that the defaultpath preference has been removed. Its effect can\\n\\n       be approximated by using multiple profiles, with include\\n\\n       directives to incorporate common settings. All uses of defaultpath\\n\\n       in existing profiles should be changed to path.\\n\\n       Another change in startup behavior that will affect some users is\\n\\n       that it is no longer possible to specify roots both in the profile\\n\\n       and on the command line.\\n\\n       You can achieve a similar effect, though, by breaking your profile\\n\\n       into two:\\n\\n\\n\\n\\n\\n  default.prf =\\n\\n      root = blah\\n\\n      root = foo\\n\\n      include common\\n\\n\\n\\n  common.prf =\\n\\n      <everything else>\\n\\n       Now do\\n\\n\\n\\n  unison common root1 root2\\n\\n       when you want to specify roots explicitly.\\n\\n     * The -prefer and -force options have been extended to allow users\\n\\n       to specify that files with more recent modtimes should be\\n\\n       propagated, writing either -prefer newer or -force newer. (For\\n\\n       symmetry, Unison will also accept -prefer older or -force older.)\\n\\n       The -force older/newer options can only be used when -times is\\n\\n       also set.\\n\\n       The graphical user interface provides access to these facilities\\n\\n       on a one-off basis via the Actions menu.\\n\\n     * Names of roots can now be ``aliased\\'\\' to allow replicas to be\\n\\n       relocated without changing the name of the archive file where\\n\\n       Unison stores information between runs. (This feature is for\\n\\n       experts only. See the ``Archive Files\\'\\' section of the manual for\\n\\n       more information.)\\n\\n     * Graphical user-interface:\\n\\n          + A new command is provided in the Synchronization menu for\\n\\n            switching to a new profile without restarting Unison from\\n\\n            scratch.\\n\\n          + The GUI also supports one-key shortcuts for commonly used\\n\\n            profiles. If a profile contains a preference of the form \\'key\\n\\n            = n\\', where n is a single digit, then pressing this key will\\n\\n            cause Unison to immediately switch to this profile and begin\\n\\n            synchronization again from scratch. (Any actions that may\\n\\n            have been selected for a set of changes currently being\\n\\n            displayed will be discarded.)\\n\\n          + Each profile may include a preference \\'label = <string>\\'\\n\\n            giving a descriptive string that described the options\\n\\n            selected in this profile. The string is listed along with the\\n\\n            profile name in the profile selection dialog, and displayed\\n\\n            in the top-right corner of the main Unison window.\\n\\n     * Minor:\\n\\n          + Fixed a bug that would sometimes cause the \\'diff\\' display to\\n\\n            order the files backwards relative to the main user\\n\\n            interface. (Thanks to Pascal Brisset for this fix.)\\n\\n          + On Unix systems, the graphical version of Unison will check\\n\\n            the DISPLAY variable and, if it is not set, automatically\\n\\n            fall back to the textual user interface.\\n\\n          + Synchronization paths (path preferences) are now matched\\n\\n            against the ignore preferences. So if a path is both\\n\\n            specified in a path preference and ignored, it will be\\n\\n            skipped.\\n\\n          + Numerous other bugfixes and small improvements.\\n\\n       \\n\\n   Changes since 2.6.1:\\n\\n     * The synchronization of modification times has been disabled for\\n\\n       directories.\\n\\n     * Preference files may now include lines of the form include <name>,\\n\\n       which will cause name.prf to be read at that point.\\n\\n     * The synchronization of permission between Windows and Unix now\\n\\n       works properly.\\n\\n     * A binding CYGWIN=binmode in now added to the environment so that\\n\\n       the Cygwin port of OpenSSH works properly in a non-Cygwin context.\\n\\n     * The servercmd and addversionno preferences can now be used\\n\\n       together: -addversionno appends an appropriate -NNN to the server\\n\\n       command, which is found by using the value of the -servercmd\\n\\n       preference if there is one, or else just unison.\\n\\n     * Both \\'-pref=val\\' and \\'-pref val\\' are now allowed for boolean\\n\\n       values. (The former can be used to set a preference to false.)\\n\\n     * Lot of small bugs fixed.\\n\\n       \\n\\n   Changes since 2.5.31:\\n\\n     * The log preference is now set to true by default, since the log\\n\\n       file seems useful for most users.\\n\\n     * Several miscellaneous bugfixes (most involving symlinks).\\n\\n       \\n\\n   Changes since 2.5.25:\\n\\n     * INCOMPATIBLE CHANGE: Archive format has changed (again).\\n\\n     * Several significant bugs introduced in 2.5.25 have been fixed.\\n\\n       \\n\\n   Changes since 2.5.1:\\n\\n     * INCOMPATIBLE CHANGE: Archive format has changed. Make sure you\\n\\n       synchronize your replicas before upgrading, to avoid spurious\\n\\n       conflicts. The first sync after upgrading will be slow.\\n\\n     * New functionality:\\n\\n          + Unison now synchronizes file modtimes, user-ids, and\\n\\n            group-ids.\\n\\n            These new features are controlled by a set of new\\n\\n            preferences, all of which are currently false by default.\\n\\n               o When the times preference is set to true, file\\n\\n                 modification times are propaged. (Because the\\n\\n                 representations of time may not have the same\\n\\n                 granularity on both replicas, Unison may not always be\\n\\n                 able to make the modtimes precisely equal, but it will\\n\\n                 get them as close as the operating systems involved\\n\\n                 allow.)\\n\\n               o When the owner preference is set to true, file ownership\\n\\n                 information is synchronized.\\n\\n               o When the group preference is set to true, group\\n\\n                 information is synchronized.\\n\\n               o When the numericIds preference is set to true, owner and\\n\\n                 group information is synchronized numerically. By\\n\\n                 default, owner and group numbers are converted to names\\n\\n                 on each replica and these names are synchronized. (The\\n\\n                 special user id 0 and the special group 0 are never\\n\\n                 mapped via user/group names even if this preference is\\n\\n                 not set.)\\n\\n          + Added an integer-valued preference perms that can be used to\\n\\n            control the propagation of permission bits. The value of this\\n\\n            preference is a mask indicating which permission bits should\\n\\n            be synchronized. It is set by default to 0o1777: all bits but\\n\\n            the set-uid and set-gid bits are synchronised (synchronizing\\n\\n            theses latter bits can be a security hazard). If you want to\\n\\n            synchronize all bits, you can set the value of this\\n\\n            preference to -1.\\n\\n          + Added a log preference (default false), which makes Unison\\n\\n            keep a complete record of the changes it makes to the\\n\\n            replicas. By default, this record is written to a file called\\n\\n            unison.log in the user\\'s home directory (the value of the\\n\\n            HOME environment variable). If you want it someplace else,\\n\\n            set the logfile preference to the full pathname you want\\n\\n            Unison to use.\\n\\n          + Added an ignorenot preference that maintains a set of\\n\\n            patterns for paths that should definitely not be ignored,\\n\\n            whether or not they match an ignore pattern. (That is, a path\\n\\n            will now be ignored iff it matches an ignore pattern and does\\n\\n            not match any ignorenot patterns.)\\n\\n     * User-interface improvements:\\n\\n          + Roots are now displayed in the user interface in the same\\n\\n            order as they were given on the command line or in the\\n\\n            preferences file.\\n\\n          + When the batch preference is set, the graphical user\\n\\n            interface no longer waits for user confirmation when it\\n\\n            displays a warning message: it simply pops up an advisory\\n\\n            window with a Dismiss button at the bottom and keeps on\\n\\n            going.\\n\\n          + Added a new preference for controlling how many status\\n\\n            messages are printed during update detection: statusdepth\\n\\n            controls the maximum depth for paths on the local machine\\n\\n            (longer paths are not displayed, nor are non-directory\\n\\n            paths). The value should be an integer; default is 1.\\n\\n          + Removed the trace and silent preferences. They did not seem\\n\\n            very useful, and there were too many preferences for\\n\\n            controlling output in various ways.\\n\\n          + The text UI now displays just the default command (the one\\n\\n            that will be used if the user just types <return>) instead of\\n\\n            all available commands. Typing ? will print the full list of\\n\\n            possibilities.\\n\\n          + The function that finds the canonical hostname of the local\\n\\n            host (which is used, for example, in calculating the name of\\n\\n            the archive file used to remember which files have been\\n\\n            synchronized) normally uses the gethostname operating system\\n\\n            call. However, if the environment variable\\n\\n            UNISONLOCALHOSTNAME is set, its value will now be used\\n\\n            instead. This makes it easier to use Unison in situations\\n\\n            where a machine\\'s name changes frequently (e.g., because it\\n\\n            is a laptop and gets moved around a lot).\\n\\n          + File owner and group are now displayed in the ``detail\\n\\n            window\\'\\' at the bottom of the screen, when unison is\\n\\n            configured to synchronize them.\\n\\n     * For hackers:\\n\\n          + Updated to Jacques Garrigue\\'s new version of lablgtk, which\\n\\n            means we can throw away our local patched version.\\n\\n            If you\\'re compiling the GTK version of unison from sources,\\n\\n            you\\'ll need to update your copy of lablgtk to the developers\\n\\n            release, available from\\n\\n            http://wwwfun.kurims.kyoto-u.ac.jp/soft/olabl/lablgtk.html\\n\\n            (Warning: installing lablgtk under Windows is currently a bit\\n\\n            challenging.)\\n\\n          + The TODO.txt file (in the source distribution) has been\\n\\n            cleaned up and reorganized. The list of pending tasks should\\n\\n            be much easier to make sense of, for people that may want to\\n\\n            contribute their programming energies. There is also a\\n\\n            separate file BUGS.txt for open bugs.\\n\\n          + The Tk user interface has been removed (it was not being\\n\\n            maintained and no longer compiles).\\n\\n          + The debug preference now prints quite a bit of additional\\n\\n            information that should be useful for identifying sources of\\n\\n            problems.\\n\\n          + The version number of the remote server is now checked right\\n\\n            away during the connection setup handshake, rather than\\n\\n            later. (Somebody sent a bug report of a server crash that\\n\\n            turned out to come from using inconsistent versions: better\\n\\n            to check this earlier and in a way that can\\'t crash either\\n\\n            client or server.)\\n\\n          + Unison now runs correctly on 64-bit architectures (e.g. Alpha\\n\\n            linux). We will not be distributing binaries for these\\n\\n            architectures ourselves (at least for a while) but if someone\\n\\n            would like to make them available, we\\'ll be glad to provide a\\n\\n            link to them.\\n\\n     * Bug fixes:\\n\\n          + Pattern matching (e.g. for ignore) is now case-insensitive\\n\\n            when Unison is in case-insensitive mode (i.e., when one of\\n\\n            the replicas is on a windows machine).\\n\\n          + Some people had trouble with mysterious failures during\\n\\n            propagation of updates, where files would be falsely reported\\n\\n            as having changed during synchronization. This should be\\n\\n            fixed.\\n\\n          + Numerous smaller fixes.\\n\\n       \\n\\n   Changes since 2.4.1:\\n\\n     * Added a number of \\'sorting modes\\' for the user interface. By\\n\\n       default, conflicting changes are displayed at the top, and the\\n\\n       rest of the entries are sorted in alphabetical order. This\\n\\n       behavior can be changed in the following ways:\\n\\n          + Setting the sortnewfirst preference to true causes newly\\n\\n            created files to be displayed before changed files.\\n\\n          + Setting sortbysize causes files to be displayed in increasing\\n\\n            order of size.\\n\\n          + Giving the preference sortfirst=<pattern> (where <pattern> is\\n\\n            a path descriptor in the same format as \\'ignore\\' and \\'follow\\'\\n\\n            patterns, causes paths matching this pattern to be displayed\\n\\n            first.\\n\\n          + Similarly, giving the preference sortlast=<pattern> causes\\n\\n            paths matching this pattern to be displayed last.\\n\\n       The sorting preferences are described in more detail in the user\\n\\n       manual. The sortnewfirst and sortbysize flags can also be accessed\\n\\n       from the \\'Sort\\' menu in the grpahical user interface.\\n\\n     * Added two new preferences that can be used to change unison\\'s\\n\\n       fundamental behavior to make it more like a mirroring tool instead\\n\\n       of a synchronizer.\\n\\n          + Giving the preference prefer with argument <root> (by adding\\n\\n            -prefer <root> to the command line or prefer=<root>) to your\\n\\n            profile) means that, if there is a conflict, the contents of\\n\\n            <root> should be propagated to the other replica (with no\\n\\n            questions asked). Non-conflicting changes are treated as\\n\\n            usual.\\n\\n          + Giving the preference force with argument <root> will make\\n\\n            unison resolve all differences in favor of the given root,\\n\\n            even if it was the other replica that was changed.\\n\\n       These options should be used with care! (More information is\\n\\n       available in the manual.)\\n\\n     * Small changes:\\n\\n          + Changed default answer to \\'Yes\\' in all two-button dialogs in\\n\\n            the graphical interface (this seems more intuitive).\\n\\n          + The rsync preference has been removed (it was used to\\n\\n            activate rsync compression for file transfers, but rsync\\n\\n            compression is now enabled by default).\\n\\n          + In the text user interface, the arrows indicating which\\n\\n            direction changes are being propagated are printed\\n\\n            differently when the user has overridded Unison\\'s default\\n\\n            recommendation (====> instead of ---->). This matches the\\n\\n            behavior of the graphical interface, which displays such\\n\\n            arrows in a different color.\\n\\n          + Carriage returns (Control-M\\'s) are ignored at the ends of\\n\\n            lines in profiles, for Windows compatibility.\\n\\n          + All preferences are now fully documented in the user manual.\\n\\n       \\n\\n   Changes since 2.3.12:\\n\\n     * INCOMPATIBLE CHANGE: Archive format has changed. Make sure you\\n\\n       synchronize your replicas before upgrading, to avoid spurious\\n\\n       conflicts. The first sync after upgrading will be slow.\\n\\n     * New/improved functionality:\\n\\n          + A new preference -sortbysize controls the order in which\\n\\n            changes are displayed to the user: when it is set to true,\\n\\n            the smallest changed files are displayed first. (The default\\n\\n            setting is false.)\\n\\n          + A new preference -sortnewfirst causes newly created files to\\n\\n            be listed before other updates in the user interface.\\n\\n          + We now allow the ssh protocol to specify a port.\\n\\n          + Incompatible change: The unison: protocol is deprecated, and\\n\\n            we added file: and socket:. You may have to modify your\\n\\n            profiles in the .unison directory. If a replica is specified\\n\\n            without an explicit protocol, we now assume it refers to a\\n\\n            file. (Previously \"//saul/foo\" meant to use SSH to connect to\\n\\n            saul, then access the foo directory. Now it means to access\\n\\n            saul via a remote file mechanism such as samba; the old\\n\\n            effect is now achieved by writing ssh://saul/foo.)\\n\\n          + Changed the startup sequence for the case where roots are\\n\\n            given but no profile is given on the command line. The new\\n\\n            behavior is to use the default profile (creating it if it\\n\\n            does not exist), and temporarily override its roots. The\\n\\n            manual claimed that this case would work by reading no\\n\\n            profile at all, but AFAIK this was never true.\\n\\n          + In all user interfaces, files with conflicts are always\\n\\n            listed first\\n\\n          + A new preference \\'sshversion\\' can be used to control which\\n\\n            version of ssh should be used to connect to the server. Legal\\n\\n            values are 1 and 2. (Default is empty, which will make unison\\n\\n            use whatever version of ssh is installed as the default \\'ssh\\'\\n\\n            command.)\\n\\n          + The situation when the permissions of a file was updated the\\n\\n            same on both side is now handled correctly (we used to report\\n\\n            a spurious conflict)\\n\\n     * Improvements for the Windows version:\\n\\n          + The fact that filenames are treated case-insensitively under\\n\\n            Windows should now be handled correctly. The exact behavior\\n\\n            is described in the cross-platform section of the manual.\\n\\n          + It should be possible to synchronize with Windows shares,\\n\\n            e.g., //host/drive/path.\\n\\n          + Workarounds to the bug in syncing root directories in\\n\\n            Windows. The most difficult thing to fix is an ocaml bug:\\n\\n            Unix.opendir fails on c: in some versions of Windows.\\n\\n     * Improvements to the GTK user interface (the Tk interface is no\\n\\n       longer being maintained):\\n\\n          + The UI now displays actions differently (in blue) when they\\n\\n            have been explicitly changed by the user from Unison\\'s\\n\\n            default recommendation.\\n\\n          + More colorful appearance.\\n\\n          + The initial profile selection window works better.\\n\\n          + If any transfers failed, a message to this effect is\\n\\n            displayed along with \\'Synchronization complete\\' at the end of\\n\\n            the transfer phase (in case they may have scrolled off the\\n\\n            top).\\n\\n          + Added a global progress meter, displaying the percentage of\\n\\n            total bytes that have been transferred so far.\\n\\n     * Improvements to the text user interface:\\n\\n          + The file details will be displayed automatically when a\\n\\n            conflict is been detected.\\n\\n          + when a warning is generated (e.g. for a temporary file left\\n\\n            over from a previous run of unison) Unison will no longer\\n\\n            wait for a response if it is running in -batch mode.\\n\\n          + The UI now displays a short list of possible inputs each time\\n\\n            it waits for user interaction.\\n\\n          + The UI now quits immediately (rather than looping back and\\n\\n            starting the interaction again) if the user presses \\'q\\' when\\n\\n            asked whether to propagate changes.\\n\\n          + Pressing \\'g\\' in the text user interface will proceed\\n\\n            immediately with propagating updates, without asking any more\\n\\n            questions.\\n\\n     * Documentation and installation changes:\\n\\n          + The manual now includes a FAQ, plus sections on common\\n\\n            problems and on tricks contributed by users.\\n\\n          + Both the download page and the download directory explicitly\\n\\n            say what are the current stable and beta-test version\\n\\n            numbers.\\n\\n          + The OCaml sources for the up-to-the-minute developers\\'\\n\\n            version (not guaranteed to be stable, or even to compile, at\\n\\n            any given time!) are now available from the download page.\\n\\n          + Added a subsection to the manual describing cross-platform\\n\\n            issues (case conflicts, illegal filenames)\\n\\n     * Many small bug fixes and random improvements.\\n\\n       \\n\\n   Changes since 2.3.1:\\n\\n     * Several bug fixes. The most important is a bug in the rsync module\\n\\n       that would occasionally cause change propagation to fail with a\\n\\n       \\'rename\\' error.\\n\\n       \\n\\n   Changes since 2.2:\\n\\n     * The multi-threaded transport system is now disabled by default.\\n\\n       (It is not stable enough yet.)\\n\\n     * Various bug fixes.\\n\\n     * A new experimental feature:\\n\\n       The final component of a -path argument may now be the wildcard\\n\\n       specifier *. When Unison sees such a path, it expands this path on\\n\\n       the client into into the corresponding list of paths by listing\\n\\n       the contents of that directory.\\n\\n       Note that if you use wildcard paths from the command line, you\\n\\n       will probably need to use quotes or a backslash to prevent the *\\n\\n       from being interpreted by your shell.\\n\\n       If both roots are local, the contents of the first one will be\\n\\n       used for expanding wildcard paths. (Nb: this is the first one\\n\\n       after the canonization step -- i.e., the one that is listed first\\n\\n       in the user interface -- not the one listed first on the command\\n\\n       line or in the preferences file.)\\n\\n       \\n\\n   Changes since 2.1:\\n\\n     * The transport subsystem now includes an implementation by Sylvain\\n\\n       Gommier and Norman Ramsey of Tridgell and Mackerras\\'s rsync\\n\\n       protocol. This protocol achieves much faster transfers when only a\\n\\n       small part of a large file has been changed by sending just diffs.\\n\\n       This feature is mainly helpful for transfers over slow links---on\\n\\n       fast local area networks it can actually degrade performance---so\\n\\n       we have left it off by default. Start unison with the -rsync\\n\\n       option (or put rsync=true in your preferences file) to turn it on.\\n\\n     * ``Progress bars\\'\\' are now diplayed during remote file transfers,\\n\\n       showing what percentage of each file has been transferred so far.\\n\\n     * The version numbering scheme has changed. New releases will now be\\n\\n       have numbers like 2.2.30, where the second component is\\n\\n       incremented on every significant public release and the third\\n\\n       component is the ``patch level.\\'\\'\\n\\n     * Miscellaneous improvements to the GTK-based user interface.\\n\\n     * The manual is now available in PDF format.\\n\\n     * We are experimenting with using a multi-threaded transport\\n\\n       subsystem to transfer several files at the same time, making much\\n\\n       more effective use of available network bandwidth. This feature is\\n\\n       not completely stable yet, so by default it is disabled in the\\n\\n       release version of Unison.\\n\\n       If you want to play with the multi-threaded version, you\\'ll need\\n\\n       to recompile Unison from sources (as described in the\\n\\n       documentation), setting the THREADS flag in Makefile.OCaml to\\n\\n       true. Make sure that your OCaml compiler has been installed with\\n\\n       the -with-pthreads configuration option. (You can verify this by\\n\\n       checking whether the file threads/threads.cma in the OCaml\\n\\n       standard library directory contains the string -lpthread near the\\n\\n       end.)\\n\\n       \\n\\n   Changes since 1.292:\\n\\n     * Reduced memory footprint (this is especially important during the\\n\\n       first run of unison, where it has to gather information about all\\n\\n       the files in both repositories).\\n\\n     * Fixed a bug that would cause the socket server under NT to fail\\n\\n       after the client exits.\\n\\n     * Added a SHIFT modifier to the Ignore menu shortcut keys in GTK\\n\\n       interface (to avoid hitting them accidentally).\\n\\n       \\n\\n   Changes since 1.231:\\n\\n     * Tunneling over ssh is now supported in the Windows version. See\\n\\n       the installation section of the manual for detailed instructions.\\n\\n     * The transport subsystem now includes an implementation of the\\n\\n       rsync protocol, built by Sylvain Gommier and Norman Ramsey. This\\n\\n       protocol achieves much faster transfers when only a small part of\\n\\n       a large file has been changed by sending just diffs. The rsync\\n\\n       feature is off by default in the current version. Use the -rsync\\n\\n       switch to turn it on. (Nb. We still have a lot of tuning to do:\\n\\n       you may not notice much speedup yet.)\\n\\n     * We\\'re experimenting with a multi-threaded transport subsystem,\\n\\n       written by Jerome Vouillon. The downloadable binaries are still\\n\\n       single-threaded: if you want to try the multi-threaded version,\\n\\n       you\\'ll need to recompile from sources. (Say make THREADS=true.)\\n\\n       Native thread support from the compiler is required. Use the\\n\\n       option -threads N to select the maximal number of concurrent\\n\\n       threads (default is 5). Multi-threaded and single-threaded\\n\\n       clients/servers can interoperate.\\n\\n     * A new GTK-based user interface is now available, thanks to Jacques\\n\\n       Garrigue. The Tk user interface still works, but we\\'ll be shifting\\n\\n       development effort to the GTK interface from now on.\\n\\n     * OCaml 3.00 is now required for compiling Unison from sources. The\\n\\n       modules uitk and myfileselect have been changed to use labltk\\n\\n       instead of camltk. To compile the Tk interface in Windows, you\\n\\n       must have ocaml-3.00 and tk8.3. When installing tk8.3, put it in\\n\\n       c:\\\\Tcl rather than the suggested c:\\\\Program Files\\\\Tcl, and be sure\\n\\n       to install the headers and libraries (which are not installed by\\n\\n       default).\\n\\n     * Added a new -addversionno switch, which causes unison to use\\n\\n       unison-<currentversionnumber> instead of just unison as the remote\\n\\n       server command. This allows multiple versions of unison to coexist\\n\\n       conveniently on the same server: whichever version is run on the\\n\\n       client, the same version will be selected on the server.\\n\\n       \\n\\n   Changes since 1.219:\\n\\n     * INCOMPATIBLE CHANGE: Archive format has changed. Make sure you\\n\\n       synchronize your replicas before upgrading, to avoid spurious\\n\\n       conflicts. The first sync after upgrading will be slow.\\n\\n     * This version fixes several annoying bugs, including:\\n\\n          + Some cases where propagation of file permissions was not\\n\\n            working.\\n\\n          + umask is now ignored when creating directories\\n\\n          + directories are create writable, so that a read-only\\n\\n            directory and its contents can be propagated.\\n\\n          + Handling of warnings generated by the server.\\n\\n          + Synchronizing a path whose parent is not a directory on both\\n\\n            sides is now flagged as erroneous.\\n\\n          + Fixed some bugs related to symnbolic links and nonexistant\\n\\n            roots.\\n\\n               o When a change (deletion or new contents) is propagated\\n\\n                 onto a \\'follow\\'ed symlink, the file pointed to by the\\n\\n                 link is now changed. (We used to change the link itself,\\n\\n                 which doesn\\'t fit our assertion that \\'follow\\' means the\\n\\n                 link is completely invisible)\\n\\n               o When one root did not exist, propagating the other root\\n\\n                 on top of it used to fail, becuase unison could not\\n\\n                 calculate the working directory into which to write\\n\\n                 changes. This should be fixed.\\n\\n     * A human-readable timestamp has been added to Unison\\'s archive\\n\\n       files.\\n\\n     * The semantics of Path and Name regular expressions now correspond\\n\\n       better.\\n\\n     * Some minor improvements to the text UI (e.g. a command for going\\n\\n       back to previous items)\\n\\n     * The organization of the export directory has changed --- should be\\n\\n       easier to find / download things now.\\n\\n       \\n\\n   Changes since 1.200:\\n\\n     * INCOMPATIBLE CHANGE: Archive format has changed. Make sure you\\n\\n       synchronize your replicas before upgrading, to avoid spurious\\n\\n       conflicts. The first sync after upgrading will be slow.\\n\\n     * This version has not been tested extensively on Windows.\\n\\n     * Major internal changes designed to make unison safer to run at the\\n\\n       same time as the replicas are being changed by the user.\\n\\n     * Internal performance improvements.\\n\\n       \\n\\n   Changes since 1.190:\\n\\n     * INCOMPATIBLE CHANGE: Archive format has changed. Make sure you\\n\\n       synchronize your replicas before upgrading, to avoid spurious\\n\\n       conflicts. The first sync after upgrading will be slow.\\n\\n     * A number of internal functions have been changed to reduce the\\n\\n       amount of memory allocation, especially during the first\\n\\n       synchronization. This should help power users with very big\\n\\n       replicas.\\n\\n     * Reimplementation of low-level remote procedure call stuff, in\\n\\n       preparation for adding rsync-like smart file transfer in a later\\n\\n       release.\\n\\n     * Miscellaneous bug fixes.\\n\\n       \\n\\n   Changes since 1.180:\\n\\n     * INCOMPATIBLE CHANGE: Archive format has changed. Make sure you\\n\\n       synchronize your replicas before upgrading, to avoid spurious\\n\\n       conflicts. The first sync after upgrading will be slow.\\n\\n     * Fixed some small bugs in the interpretation of ignore patterns.\\n\\n     * Fixed some problems that were preventing the Windows version from\\n\\n       working correctly when click-started.\\n\\n     * Fixes to treatment of file permissions under Windows, which were\\n\\n       causing spurious reports of different permissions when\\n\\n       synchronizing between windows and unix systems.\\n\\n     * Fixed one more non-tail-recursive list processing function, which\\n\\n       was causing stack overflows when synchronizing very large\\n\\n       replicas.\\n\\n       \\n\\n   Changes since 1.169:\\n\\n     * The text user interface now provides commands for ignoring files.\\n\\n     * We found and fixed some more non-tail-recursive list processing\\n\\n       functions. Some power users have reported success with very large\\n\\n       replicas.\\n\\n     * INCOMPATIBLE CHANGE: Files ending in .tmp are no longer ignored\\n\\n       automatically. If you want to ignore such files, put an\\n\\n       appropriate ignore pattern in your profile.\\n\\n     * INCOMPATIBLE CHANGE: The syntax of ignore and follow patterns has\\n\\n       changed. Instead of putting a line of the form\\n\\n\\n\\n                 ignore = <regexp>\\n\\n       in your profile (.unison/default.prf), you should put:\\n\\n\\n\\n                 ignore = Regexp <regexp>\\n\\n       Moreover, two other styles of pattern are also recognized:\\n\\n\\n\\n                 ignore = Name <name>\\n\\n       matches any path in which one component matches <name>, while\\n\\n\\n\\n                 ignore = Path <path>\\n\\n       matches exactly the path <path>.\\n\\n       Standard ``globbing\\'\\' conventions can be used in <name> and\\n\\n       <path>:\\n\\n          + a ? matches any single character except /\\n\\n          + a * matches any sequence of characters not including /\\n\\n          + [xyz] matches any character from the set {x, y, z }\\n\\n          + {a,bb,ccc} matches any one of a, bb, or ccc.\\n\\n       See the user manual for some examples.\\n\\n       \\n\\n   Changes since 1.146:\\n\\n     * Some users were reporting stack overflows when synchronizing huge\\n\\n       directories. We found and fixed some non-tail-recursive list\\n\\n       processing functions, which we hope will solve the problem. Please\\n\\n       give it a try and let us know.\\n\\n     * Major additions to the documentation.\\n\\n       \\n\\n   Changes since 1.142:\\n\\n     * Major internal tidying and many small bugfixes.\\n\\n     * Major additions to the user manual.\\n\\n     * Unison can now be started with no arguments -- it will prompt\\n\\n       automatically for the name of a profile file containing the roots\\n\\n       to be synchronized. This makes it possible to start the graphical\\n\\n       UI from a desktop icon.\\n\\n     * Fixed a small bug where the text UI on NT was raising a \\'no such\\n\\n       signal\\' exception.\\n\\n       \\n\\n   Changes since 1.139:\\n\\n     * The precompiled windows binary in the last release was compiled\\n\\n       with an old OCaml compiler, causing propagation of permissions not\\n\\n       to work (and perhaps leading to some other strange behaviors we\\'ve\\n\\n       heard reports about). This has been corrected. If you\\'re using\\n\\n       precompiled binaries on Windows, please upgrade.\\n\\n     * Added a -debug command line flag, which controls debugging of\\n\\n       various modules. Say -debug XXX to enable debug tracing for module\\n\\n       XXX, or -debug all to turn on absolutely everything.\\n\\n     * Fixed a small bug where the text UI on NT was raising a \\'no such\\n\\n       signal\\' exception.\\n\\n       \\n\\n   Changes since 1.111:\\n\\n     * INCOMPATIBLE CHANGE: The names and formats of the preference files\\n\\n       in the .unison directory have changed. In particular:\\n\\n          + the file ``prefs\\'\\' should be renamed to default.prf\\n\\n          + the contents of the file ``ignore\\'\\' should be merged into\\n\\n            default.prf. Each line of the form REGEXP in ignore should\\n\\n            become a line of the form ignore = REGEXP in default.prf.\\n\\n     * Unison now handles permission bits and symbolic links. See the\\n\\n       manual for details.\\n\\n     * You can now have different preference files in your .unison\\n\\n       directory. If you start unison like this\\n\\n\\n\\n             unison profilename\\n\\n       (i.e. with just one ``anonymous\\'\\' command-line argument), then the\\n\\n       file ~/.unison/profilename.prf will be loaded instead of\\n\\n       default.prf.\\n\\n     * Some improvements to terminal handling in the text user interface\\n\\n     * Added a switch -killServer that terminates the remote server\\n\\n       process when the unison client is shutting down, even when using\\n\\n       sockets for communication. (By default, a remote server created\\n\\n       using ssh/rsh is terminated automatically, while a socket server\\n\\n       is left running.)\\n\\n     * When started in \\'socket server\\' mode, unison prints \\'server\\n\\n       started\\' on stderr when it is ready to accept connections. (This\\n\\n       may be useful for scripts that want to tell when a socket-mode\\n\\n       server has finished initalization.)\\n\\n     * We now make a nightly mirror of our current internal development\\n\\n       tree, in case anyone wants an up-to-the-minute version to hack\\n\\n       around with.\\n\\n     * Added a file CONTRIB with some suggestions for how to help us make\\n\\n       Unison better.\\n\\n       \\n\\n\\n\\n\\n\\nChanges in Version 2.9.20\\n\\n\\n\\n   Changes since 2.9.1:\\n\\n     * Added a preference maxthreads that can be used to limit the number\\n\\n       of simultaneous file transfers.\\n\\n     * Added a backupdir preference, which controls where backup files\\n\\n       are stored.\\n\\n     * Basic support added for OSX. In particular, Unison now recognizes\\n\\n       when one of the hosts being synchronized is running OSX and\\n\\n       switches to a case-insensitive treatment of filenames (i.e., \\'foo\\'\\n\\n       and \\'FOO\\' are considered to be the same file). (OSX is not yet\\n\\n       fully working, however: in particular, files with resource forks\\n\\n       will not be synchronized correctly.)\\n\\n     * The same hash used to form the archive name is now also added to\\n\\n       the names of the temp files created during file transfer. The\\n\\n       reason for this is that, during update detection, we are going to\\n\\n       silently delete any old temp files that we find along the way, and\\n\\n       we want to prevent ourselves from deleting temp files belonging to\\n\\n       other instances of Unison that may be running in parallel, e.g.\\n\\n       synchronizing with a different host. Thanks to Ruslan Ermilov for\\n\\n       this suggestion.\\n\\n     * Several small user interface improvements\\n\\n     * Documentation\\n\\n          + FAQ and bug reporting instructions have been split out as\\n\\n            separate HTML pages, accessible directly from the unison web\\n\\n            page.\\n\\n          + Additions to FAQ, in particular suggestions about performance\\n\\n            tuning.\\n\\n     * Makefile\\n\\n          + Makefile.OCaml now sets UISTYLE=text or UISTYLE=gtk\\n\\n            automatically, depending on whether it finds lablgtk\\n\\n            installed\\n\\n          + Unison should now compile ``out of the box\\'\\' under OSX\\n\\n       \\n\\n   Changes since 2.8.1:\\n\\n     * Changing profile works again under Windows\\n\\n     * File movement optimization: Unison now tries to use local copy\\n\\n       instead of transfer for moved or copied files. It is controled by\\n\\n       a boolean option ``xferbycopying\\'\\'.\\n\\n     * Network statistics window (transfer rate, amount of data\\n\\n       transferred). [NB: not available in Windows-Cygwin version.]\\n\\n     * symlinks work under the cygwin version (which is dynamically\\n\\n       linked).\\n\\n     * Fixed potential deadlock when synchronizing between Windows and\\n\\n       Unix\\n\\n     * Small improvements:\\n\\n          + If neither the\\n\\n            tt USERPROFILE nor the\\n\\n            tt HOME environment variables are set, then Unison will put\\n\\n            its temporary commit log (called\\n\\n            tt DANGER.README) into the directory named by the\\n\\n            tt UNISON environment variable, if any; otherwise it will use\\n\\n            tt C:.\\n\\n          + alternative set of values for fastcheck: yes = true; no =\\n\\n            false; default = auto.\\n\\n          + -silent implies -contactquietly\\n\\n     * Source code:\\n\\n          + Code reorganization and tidying. (Started breaking up some of\\n\\n            the basic utility modules so that the non-unison-specific\\n\\n            stuff can be made available for other projects.)\\n\\n          + several Makefile and docs changes (for release);\\n\\n          + further comments in ``update.ml\\'\\';\\n\\n          + connection information is not stored in global variables\\n\\n            anymore.\\n\\n       \\n\\n   Changes since 2.7.78:\\n\\n     * Small bugfix to textual user interface under Unix (to avoid\\n\\n       leaving the terminal in a bad state where it would not echo inputs\\n\\n       after Unison exited).\\n\\n       \\n\\n   Changes since 2.7.39:\\n\\n     * Improvements to the main web page (stable and beta version docs\\n\\n       are now both accessible).\\n\\n     * User manual revised.\\n\\n     * Added some new preferences:\\n\\n          + ``sshcmd\\'\\' and ``rshcmd\\'\\' for specifying paths to ssh and rsh\\n\\n            programs.\\n\\n          + ``contactquietly\\'\\' for suppressing the ``contacting server\\'\\'\\n\\n            message during Unison startup (under the graphical UI).\\n\\n     * Bug fixes:\\n\\n          + Fixed small bug in UI that neglected to change the displayed\\n\\n            column headers if loading a new profile caused the roots to\\n\\n            change.\\n\\n          + Fixed a bug that would put the text UI into an infinite loop\\n\\n            if it encountered a conflict when run in batch mode.\\n\\n          + Added some code to try to fix the display of non-Ascii\\n\\n            characters in filenames on Windows systems in the GTK UI.\\n\\n            (This code is currently untested---if you\\'re one of the\\n\\n            people that had reported problems with display of non-ascii\\n\\n            filenames, we\\'d appreciate knowing if this actually fixes\\n\\n            things.)\\n\\n          + `-prefer/-force newer\\' works properly now. (The bug was\\n\\n            reported by Sebastian Urbaniak and Sean Fulton.)\\n\\n     * User interface and Unison behavior:\\n\\n          + Renamed `Proceed\\' to `Go\\' in the graphical UI.\\n\\n          + Added exit status for the textual user interface.\\n\\n          + Paths that are not synchronized because of conflicts or\\n\\n            errors during update detection are now noted in the log file.\\n\\n          + [END] messages in log now use a briefer format\\n\\n          + Changed the text UI startup sequence so that\\n\\n            tt ./unison -ui text will use the default profile instead of\\n\\n            failing.\\n\\n          + Made some improvements to the error messages.\\n\\n          + Added some debugging messages to remote.ml.\\n\\n       \\n\\n   Changes since 2.7.7:\\n\\n     * Incorporated, once again, a multi-threaded transport sub-system.\\n\\n       It transfers several files at the same time, thereby making much\\n\\n       more effective use of available network bandwidth. Unlike the\\n\\n       earlier attempt, this time we do not rely on the native thread\\n\\n       library of OCaml. Instead, we implement a light-weight,\\n\\n       non-preemptive multi-thread library in OCaml directly. This\\n\\n       version appears stable.\\n\\n       Some adjustments to unison are made to accommodate the\\n\\n       multi-threaded version. These include, in particular, changes to\\n\\n       the user interface and logging, for example:\\n\\n          + Two log entries for each transferring task, one for the\\n\\n            beginning, one for the end.\\n\\n          + Suppressed warning messages against removing temp files left\\n\\n            by a previous unison run, because warning does not work\\n\\n            nicely under multi-threading. The temp file names are made\\n\\n            less likely to coincide with the name of a file created by\\n\\n            the user. They take the form\\n\\n            .#<filename>.<serial>.unison.tmp.\\n\\n     * Added a new command to the GTK user interface: pressing \\'f\\' causes\\n\\n       Unison to start a new update detection phase, using as paths just\\n\\n       those paths that have been detected as changed and not yet marked\\n\\n       as successfully completed. Use this command to quickly restart\\n\\n       Unison on just the set of paths still needing attention after a\\n\\n       previous run.\\n\\n     * Made the ignorecase preference user-visible, and changed the\\n\\n       initialization code so that it can be manually set to true, even\\n\\n       if neither host is running Windows. (This may be useful, e.g.,\\n\\n       when using Unison running on a Unix system with a FAT volume\\n\\n       mounted.)\\n\\n     * Small improvements and bug fixes:\\n\\n          + Errors in preference files now generate fatal errors rather\\n\\n            than warnings at startup time. (I.e., you can\\'t go on from\\n\\n            them.) Also, we fixed a bug that was preventing these\\n\\n            warnings from appearing in the text UI, so some users who\\n\\n            have been running (unsuspectingly) with garbage in their\\n\\n            prefs files may now get error reports.\\n\\n          + Error reporting for preference files now provides file name\\n\\n            and line number.\\n\\n          + More intelligible message in the case of identical change to\\n\\n            the same files: ``Nothing to do: replicas have been changed\\n\\n            only in identical ways since last sync.\\'\\'\\n\\n          + Files with prefix \\'.#\\' excluded when scanning for preference\\n\\n            files.\\n\\n          + Rsync instructions are send directly instead of first\\n\\n            marshaled.\\n\\n          + Won\\'t try forever to get the fingerprint of a continuously\\n\\n            changing file: unison will give up after certain number of\\n\\n            retries.\\n\\n          + Other bug fixes, including the one reported by Peter Selinger\\n\\n            (force=older preference not working).\\n\\n     * Compilation:\\n\\n          + Upgraded to the new OCaml 3.04 compiler, with the LablGtk\\n\\n            1.2.3 library (patched version used for compiling under\\n\\n            Windows).\\n\\n          + Added the option to compile unison on the Windows platform\\n\\n            with Cygwin GNU C compiler. This option only supports\\n\\n            building dynamically linked unison executables.\\n\\n       \\n\\n   Changes since 2.7.4:\\n\\n     * Fixed a silly (but debilitating) bug in the client startup\\n\\n       sequence.\\n\\n       \\n\\n   Changes since 2.7.1:\\n\\n     * Added addprefsto preference, which (when set) controls which\\n\\n       preference file new preferences (e.g. new ignore patterns) are\\n\\n       added to.\\n\\n     * Bug fix: read the initial connection header one byte at a time, so\\n\\n       that we don\\'t block if the header is shorter than expected. (This\\n\\n       bug did not affect normal operation --- it just made it hard to\\n\\n       tell when you were trying to use Unison incorrectly with an old\\n\\n       version of the server, since it would hang instead of giving an\\n\\n       error message.)\\n\\n       \\n\\n   Changes since 2.6.59:\\n\\n     * Changed fastcheck from a boolean to a string preference. Its legal\\n\\n       values are yes (for a fast check), no (for a safe check), or\\n\\n       default (for a fast check---which also happens to be safe---when\\n\\n       running on Unix and a safe check when on Windows). The default is\\n\\n       default.\\n\\n     * Several preferences have been renamed for consistency. All\\n\\n       preference names are now spelled out in lowercase. For backward\\n\\n       compatibility, the old names still work, but they are not\\n\\n       mentioned in the manual any more.\\n\\n     * The temp files created by the \\'diff\\' and \\'merge\\' commands are now\\n\\n       named by prepending a new prefix to the file name, rather than\\n\\n       appending a suffix. This should avoid confusing diff/merge\\n\\n       programs that depend on the suffix to guess the type of the file\\n\\n       contents.\\n\\n     * We now set the keepalive option on the server socket, to make sure\\n\\n       that the server times out if the communication link is\\n\\n       unexpectedly broken.\\n\\n     * Bug fixes:\\n\\n          + When updating small files, Unison now closes the destination\\n\\n            file.\\n\\n          + File permissions are properly updated when the file is behind\\n\\n            a followed link.\\n\\n          + Several other small fixes.\\n\\n       \\n\\n   Changes since 2.6.38:\\n\\n     * Major Windows performance improvement!\\n\\n       We\\'ve added a preference fastcheck that makes Unison look only at\\n\\n       a file\\'s creation time and last-modified time to check whether it\\n\\n       has changed. This should result in a huge speedup when checking\\n\\n       for updates in large replicas.\\n\\n       When this switch is set, Unison will use file creation times as\\n\\n       \\'pseudo inode numbers\\' when scanning Windows replicas for updates,\\n\\n       instead of reading the full contents of every file. This may cause\\n\\n       Unison to miss propagating an update if the create time,\\n\\n       modification time, and length of the file are all unchanged by the\\n\\n       update (this is not easy to achieve, but it can be done). However,\\n\\n       Unison will never overwrite such an update with a change from the\\n\\n       other replica, since it always does a safe check for updates just\\n\\n       before propagating a change. Thus, it is reasonable to use this\\n\\n       switch most of the time and occasionally run Unison once with\\n\\n       fastcheck set to false, if you are worried that Unison may have\\n\\n       overlooked an update.\\n\\n       Warning: This change is has not yet been thoroughly field-tested.\\n\\n       If you set the fastcheck preference, pay careful attention to what\\n\\n       Unison is doing.\\n\\n     * New functionality: centralized backups and merging\\n\\n          + This version incorporates two pieces of major new\\n\\n            functionality, implemented by Sylvain Roy during a summer\\n\\n            internship at Penn: a centralized backup facility that keeps\\n\\n            a full backup of (selected files in) each replica, and a\\n\\n            merging feature that allows Unison to invoke an external\\n\\n            file-merging tool to resolve conflicting changes to\\n\\n            individual files.\\n\\n          + Centralized backups:\\n\\n               o Unison now maintains full backups of the\\n\\n                 last-synchronized versions of (some of) the files in\\n\\n                 each replica; these function both as backups in the\\n\\n                 usual sense and as the ``common version\\'\\' when invoking\\n\\n                 external merge programs.\\n\\n               o The backed up files are stored in a directory\\n\\n                 /.unison/backup on each host. (The name of this\\n\\n                 directory can be changed by setting the environment\\n\\n                 variable UNISONBACKUPDIR.)\\n\\n               o The predicate backup controls which files are actually\\n\\n                 backed up: giving the preference \\'backup = Path *\\'\\n\\n                 causes backing up of all files.\\n\\n               o Files are added to the backup directory whenever unison\\n\\n                 updates its archive. This means that\\n\\n                    # When unison reconstructs its archive from scratch\\n\\n                      (e.g., because of an upgrade, or because the\\n\\n                      archive files have been manually deleted), all\\n\\n                      files will be backed up.\\n\\n                    # Otherwise, each file will be backed up the first\\n\\n                      time unison propagates an update for it.\\n\\n               o The preference backupversions controls how many previous\\n\\n                 versions of each file are kept. The default is 2 (i.e.,\\n\\n                 the last synchronized version plus one backup).\\n\\n               o For backward compatibility, the backups preference is\\n\\n                 also still supported, but backup is now preferred.\\n\\n               o It is OK to manually delete files from the backup\\n\\n                 directory (or to throw away the directory itself).\\n\\n                 Before unison uses any of these files for anything\\n\\n                 important, it checks that its fingerprint matches the\\n\\n                 one that it expects.\\n\\n          + Merging:\\n\\n               o Both user interfaces offer a new \\'merge\\' command,\\n\\n                 invoked by pressing \\'m\\' (with a changed file selected).\\n\\n               o The actual merging is performed by an external program.\\n\\n                 The preferences merge and merge2 control how this\\n\\n                 program is invoked. If a backup exists for this file\\n\\n                 (see the backup preference), then the merge preference\\n\\n                 is used for this purpose; otherwise merge2 is used. In\\n\\n                 both cases, the value of the preference should be a\\n\\n                 string representing the command that should be passed to\\n\\n                 a shell to invoke the merge program. Within this string,\\n\\n                 the special substrings CURRENT1, CURRENT2, NEW, and OLD\\n\\n                 may appear at any point. Unison will substitute these as\\n\\n                 follows before invoking the command:\\n\\n                    # CURRENT1 is replaced by the name of the local copy\\n\\n                      of the file;\\n\\n                    # CURRENT2 is replaced by the name of a temporary\\n\\n                      file, into which the contents of the remote copy of\\n\\n                      the file have been transferred by Unison prior to\\n\\n                      performing the merge;\\n\\n                    # NEW is replaced by the name of a temporary file\\n\\n                      that Unison expects to be written by the merge\\n\\n                      program when it finishes, giving the desired new\\n\\n                      contents of the file; and\\n\\n                    # OLD is replaced by the name of the backed up copy\\n\\n                      of the original version of the file (i.e., its\\n\\n                      state at the end of the last successful run of\\n\\n                      Unison), if one exists (applies only to merge, not\\n\\n                      merge2).\\n\\n                 For example, on Unix systems setting the merge\\n\\n                 preference to\\n\\n\\n\\n   merge = diff3 -m CURRENT1 OLD CURRENT2 > NEW\\n\\n                 will tell Unison to use the external diff3 program for\\n\\n                 merging.\\n\\n                 A large number of external merging programs are\\n\\n                 available. For example, emacs users may find the\\n\\n                 following convenient:\\n\\n\\n\\n    merge2 = emacs -q --eval \\'(ediff-merge-files \"CURRENT1\" \"CURRENT2\"\\n\\n               nil \"NEW\")\\'\\n\\n    merge = emacs -q --eval \\'(ediff-merge-files-with-ancestor\\n\\n               \"CURRENT1\" \"CURRENT2\" \"OLD\" nil \"NEW\")\\'\\n\\n                 (These commands are displayed here on two lines to avoid\\n\\n                 running off the edge of the page. In your preference\\n\\n                 file, each should be written on a single line.)\\n\\n               o If the external program exits without leaving any file\\n\\n                 at the path NEW, Unison considers the merge to have\\n\\n                 failed. If the merge program writes a file called NEW\\n\\n                 but exits with a non-zero status code, then Unison\\n\\n                 considers the merge to have succeeded but to have\\n\\n                 generated conflicts. In this case, it attempts to invoke\\n\\n                 an external editor so that the user can resolve the\\n\\n                 conflicts. The value of the editor preference controls\\n\\n                 what editor is invoked by Unison. The default is emacs.\\n\\n               o Please send us suggestions for other useful values of\\n\\n                 the merge2 and merge preferences -- we\\'d like to give\\n\\n                 several examples in the manual.\\n\\n     * Smaller changes:\\n\\n          + When one preference file includes another, unison no longer\\n\\n            adds the suffix \\'.prf\\' to the included file by default. If a\\n\\n            file with precisely the given name exists in the .unison\\n\\n            directory, it will be used; otherwise Unison will add .prf,\\n\\n            as it did before. (This change means that included preference\\n\\n            files can be named blah.include instead of blah.prf, so that\\n\\n            unison will not offer them in its \\'choose a preference file\\'\\n\\n            dialog.)\\n\\n          + For Linux systems, we now offer both a statically linked and\\n\\n            a dynamically linked executable. The static one is larger,\\n\\n            but will probably run on more systems, since it doesn\\'t\\n\\n            depend on the same versions of dynamically linked library\\n\\n            modules being available.\\n\\n          + Fixed the force and prefer preferences, which were getting\\n\\n            the propagation direction exactly backwards.\\n\\n          + Fixed a bug in the startup code that would cause unison to\\n\\n            crash when the default profile (~/.unison/default.prf) does\\n\\n            not exist.\\n\\n          + Fixed a bug where, on the run when a profile is first\\n\\n            created, Unison would confusingly display the roots in\\n\\n            reverse order in the user interface.\\n\\n     * For developers:\\n\\n          + We\\'ve added a module dependency diagram to the source\\n\\n            distribution, in src/DEPENDENCIES.ps, to help new prospective\\n\\n            developers with navigating the code.\\n\\n       \\n\\n   Changes since 2.6.11:\\n\\n     * INCOMPATIBLE CHANGE: Archive format has changed.\\n\\n     * INCOMPATIBLE CHANGE: The startup sequence has been completely\\n\\n       rewritten and greatly simplified. The main user-visible change is\\n\\n       that the defaultpath preference has been removed. Its effect can\\n\\n       be approximated by using multiple profiles, with include\\n\\n       directives to incorporate common settings. All uses of defaultpath\\n\\n       in existing profiles should be changed to path.\\n\\n       Another change in startup behavior that will affect some users is\\n\\n       that it is no longer possible to specify roots both in the profile\\n\\n       and on the command line.\\n\\n       You can achieve a similar effect, though, by breaking your profile\\n\\n       into two:\\n\\n\\n\\n\\n\\n  default.prf =\\n\\n      root = blah\\n\\n      root = foo\\n\\n      include common\\n\\n\\n\\n  common.prf =\\n\\n      <everything else>\\n\\n       Now do\\n\\n\\n\\n  unison common root1 root2\\n\\n       when you want to specify roots explicitly.\\n\\n     * The -prefer and -force options have been extended to allow users\\n\\n       to specify that files with more recent modtimes should be\\n\\n       propagated, writing either -prefer newer or -force newer. (For\\n\\n       symmetry, Unison will also accept -prefer older or -force older.)\\n\\n       The -force older/newer options can only be used when -times is\\n\\n       also set.\\n\\n       The graphical user interface provides access to these facilities\\n\\n       on a one-off basis via the Actions menu.\\n\\n     * Names of roots can now be ``aliased\\'\\' to allow replicas to be\\n\\n       relocated without changing the name of the archive file where\\n\\n       Unison stores information between runs. (This feature is for\\n\\n       experts only. See the ``Archive Files\\'\\' section of the manual for\\n\\n       more information.)\\n\\n     * Graphical user-interface:\\n\\n          + A new command is provided in the Synchronization menu for\\n\\n            switching to a new profile without restarting Unison from\\n\\n            scratch.\\n\\n          + The GUI also supports one-key shortcuts for commonly used\\n\\n            profiles. If a profile contains a preference of the form \\'key\\n\\n            = n\\', where n is a single digit, then pressing this key will\\n\\n            cause Unison to immediately switch to this profile and begin\\n\\n            synchronization again from scratch. (Any actions that may\\n\\n            have been selected for a set of changes currently being\\n\\n            displayed will be discarded.)\\n\\n          + Each profile may include a preference \\'label = <string>\\'\\n\\n            giving a descriptive string that described the options\\n\\n            selected in this profile. The string is listed along with the\\n\\n            profile name in the profile selection dialog, and displayed\\n\\n            in the top-right corner of the main Unison window.\\n\\n     * Minor:\\n\\n          + Fixed a bug that would sometimes cause the \\'diff\\' display to\\n\\n            order the files backwards relative to the main user\\n\\n            interface. (Thanks to Pascal Brisset for this fix.)\\n\\n          + On Unix systems, the graphical version of Unison will check\\n\\n            the DISPLAY variable and, if it is not set, automatically\\n\\n            fall back to the textual user interface.\\n\\n          + Synchronization paths (path preferences) are now matched\\n\\n            against the ignore preferences. So if a path is both\\n\\n            specified in a path preference and ignored, it will be\\n\\n            skipped.\\n\\n          + Numerous other bugfixes and small improvements.\\n\\n       \\n\\n   Changes since 2.6.1:\\n\\n     * The synchronization of modification times has been disabled for\\n\\n       directories.\\n\\n     * Preference files may now include lines of the form include <name>,\\n\\n       which will cause name.prf to be read at that point.\\n\\n     * The synchronization of permission between Windows and Unix now\\n\\n       works properly.\\n\\n     * A binding CYGWIN=binmode in now added to the environment so that\\n\\n       the Cygwin port of OpenSSH works properly in a non-Cygwin context.\\n\\n     * The servercmd and addversionno preferences can now be used\\n\\n       together: -addversionno appends an appropriate -NNN to the server\\n\\n       command, which is found by using the value of the -servercmd\\n\\n       preference if there is one, or else just unison.\\n\\n     * Both \\'-pref=val\\' and \\'-pref val\\' are now allowed for boolean\\n\\n       values. (The former can be used to set a preference to false.)\\n\\n     * Lot of small bugs fixed.\\n\\n       \\n\\n   Changes since 2.5.31:\\n\\n     * The log preference is now set to true by default, since the log\\n\\n       file seems useful for most users.\\n\\n     * Several miscellaneous bugfixes (most involving symlinks).\\n\\n       \\n\\n   Changes since 2.5.25:\\n\\n     * INCOMPATIBLE CHANGE: Archive format has changed (again).\\n\\n     * Several significant bugs introduced in 2.5.25 have been fixed.\\n\\n       \\n\\n   Changes since 2.5.1:\\n\\n     * INCOMPATIBLE CHANGE: Archive format has changed. Make sure you\\n\\n       synchronize your replicas before upgrading, to avoid spurious\\n\\n       conflicts. The first sync after upgrading will be slow.\\n\\n     * New functionality:\\n\\n          + Unison now synchronizes file modtimes, user-ids, and\\n\\n            group-ids.\\n\\n            These new features are controlled by a set of new\\n\\n            preferences, all of which are currently false by default.\\n\\n               o When the times preference is set to true, file\\n\\n                 modification times are propaged. (Because the\\n\\n                 representations of time may not have the same\\n\\n                 granularity on both replicas, Unison may not always be\\n\\n                 able to make the modtimes precisely equal, but it will\\n\\n                 get them as close as the operating systems involved\\n\\n                 allow.)\\n\\n               o When the owner preference is set to true, file ownership\\n\\n                 information is synchronized.\\n\\n               o When the group preference is set to true, group\\n\\n                 information is synchronized.\\n\\n               o When the numericIds preference is set to true, owner and\\n\\n                 group information is synchronized numerically. By\\n\\n                 default, owner and group numbers are converted to names\\n\\n                 on each replica and these names are synchronized. (The\\n\\n                 special user id 0 and the special group 0 are never\\n\\n                 mapped via user/group names even if this preference is\\n\\n                 not set.)\\n\\n          + Added an integer-valued preference perms that can be used to\\n\\n            control the propagation of permission bits. The value of this\\n\\n            preference is a mask indicating which permission bits should\\n\\n            be synchronized. It is set by default to 0o1777: all bits but\\n\\n            the set-uid and set-gid bits are synchronised (synchronizing\\n\\n            theses latter bits can be a security hazard). If you want to\\n\\n            synchronize all bits, you can set the value of this\\n\\n            preference to -1.\\n\\n          + Added a log preference (default false), which makes Unison\\n\\n            keep a complete record of the changes it makes to the\\n\\n            replicas. By default, this record is written to a file called\\n\\n            unison.log in the user\\'s home directory (the value of the\\n\\n            HOME environment variable). If you want it someplace else,\\n\\n            set the logfile preference to the full pathname you want\\n\\n            Unison to use.\\n\\n          + Added an ignorenot preference that maintains a set of\\n\\n            patterns for paths that should definitely not be ignored,\\n\\n            whether or not they match an ignore pattern. (That is, a path\\n\\n            will now be ignored iff it matches an ignore pattern and does\\n\\n            not match any ignorenot patterns.)\\n\\n     * User-interface improvements:\\n\\n          + Roots are now displayed in the user interface in the same\\n\\n            order as they were given on the command line or in the\\n\\n            preferences file.\\n\\n          + When the batch preference is set, the graphical user\\n\\n            interface no longer waits for user confirmation when it\\n\\n            displays a warning message: it simply pops up an advisory\\n\\n            window with a Dismiss button at the bottom and keeps on\\n\\n            going.\\n\\n          + Added a new preference for controlling how many status\\n\\n            messages are printed during update detection: statusdepth\\n\\n            controls the maximum depth for paths on the local machine\\n\\n            (longer paths are not displayed, nor are non-directory\\n\\n            paths). The value should be an integer; default is 1.\\n\\n          + Removed the trace and silent preferences. They did not seem\\n\\n            very useful, and there were too many preferences for\\n\\n            controlling output in various ways.\\n\\n          + The text UI now displays just the default command (the one\\n\\n            that will be used if the user just types <return>) instead of\\n\\n            all available commands. Typing ? will print the full list of\\n\\n            possibilities.\\n\\n          + The function that finds the canonical hostname of the local\\n\\n            host (which is used, for example, in calculating the name of\\n\\n            the archive file used to remember which files have been\\n\\n            synchronized) normally uses the gethostname operating system\\n\\n            call. However, if the environment variable\\n\\n            UNISONLOCALHOSTNAME is set, its value will now be used\\n\\n            instead. This makes it easier to use Unison in situations\\n\\n            where a machine\\'s name changes frequently (e.g., because it\\n\\n            is a laptop and gets moved around a lot).\\n\\n          + File owner and group are now displayed in the ``detail\\n\\n            window\\'\\' at the bottom of the screen, when unison is\\n\\n            configured to synchronize them.\\n\\n     * For hackers:\\n\\n          + Updated to Jacques Garrigue\\'s new version of lablgtk, which\\n\\n            means we can throw away our local patched version.\\n\\n            If you\\'re compiling the GTK version of unison from sources,\\n\\n            you\\'ll need to update your copy of lablgtk to the developers\\n\\n            release, available from\\n\\n            http://wwwfun.kurims.kyoto-u.ac.jp/soft/olabl/lablgtk.html\\n\\n            (Warning: installing lablgtk under Windows is currently a bit\\n\\n            challenging.)\\n\\n          + The TODO.txt file (in the source distribution) has been\\n\\n            cleaned up and reorganized. The list of pending tasks should\\n\\n            be much easier to make sense of, for people that may want to\\n\\n            contribute their programming energies. There is also a\\n\\n            separate file BUGS.txt for open bugs.\\n\\n          + The Tk user interface has been removed (it was not being\\n\\n            maintained and no longer compiles).\\n\\n          + The debug preference now prints quite a bit of additional\\n\\n            information that should be useful for identifying sources of\\n\\n            problems.\\n\\n          + The version number of the remote server is now checked right\\n\\n            away during the connection setup handshake, rather than\\n\\n            later. (Somebody sent a bug report of a server crash that\\n\\n            turned out to come from using inconsistent versions: better\\n\\n            to check this earlier and in a way that can\\'t crash either\\n\\n            client or server.)\\n\\n          + Unison now runs correctly on 64-bit architectures (e.g. Alpha\\n\\n            linux). We will not be distributing binaries for these\\n\\n            architectures ourselves (at least for a while) but if someone\\n\\n            would like to make them available, we\\'ll be glad to provide a\\n\\n            link to them.\\n\\n     * Bug fixes:\\n\\n          + Pattern matching (e.g. for ignore) is now case-insensitive\\n\\n            when Unison is in case-insensitive mode (i.e., when one of\\n\\n            the replicas is on a windows machine).\\n\\n          + Some people had trouble with mysterious failures during\\n\\n            propagation of updates, where files would be falsely reported\\n\\n            as having changed during synchronization. This should be\\n\\n            fixed.\\n\\n          + Numerous smaller fixes.\\n\\n       \\n\\n   Changes since 2.4.1:\\n\\n     * Added a number of \\'sorting modes\\' for the user interface. By\\n\\n       default, conflicting changes are displayed at the top, and the\\n\\n       rest of the entries are sorted in alphabetical order. This\\n\\n       behavior can be changed in the following ways:\\n\\n          + Setting the sortnewfirst preference to true causes newly\\n\\n            created files to be displayed before changed files.\\n\\n          + Setting sortbysize causes files to be displayed in increasing\\n\\n            order of size.\\n\\n          + Giving the preference sortfirst=<pattern> (where <pattern> is\\n\\n            a path descriptor in the same format as \\'ignore\\' and \\'follow\\'\\n\\n            patterns, causes paths matching this pattern to be displayed\\n\\n            first.\\n\\n          + Similarly, giving the preference sortlast=<pattern> causes\\n\\n            paths matching this pattern to be displayed last.\\n\\n       The sorting preferences are described in more detail in the user\\n\\n       manual. The sortnewfirst and sortbysize flags can also be accessed\\n\\n       from the \\'Sort\\' menu in the grpahical user interface.\\n\\n     * Added two new preferences that can be used to change unison\\'s\\n\\n       fundamental behavior to make it more like a mirroring tool instead\\n\\n       of a synchronizer.\\n\\n          + Giving the preference prefer with argument <root> (by adding\\n\\n            -prefer <root> to the command line or prefer=<root>) to your\\n\\n            profile) means that, if there is a conflict, the contents of\\n\\n            <root> should be propagated to the other replica (with no\\n\\n            questions asked). Non-conflicting changes are treated as\\n\\n            usual.\\n\\n          + Giving the preference force with argument <root> will make\\n\\n            unison resolve all differences in favor of the given root,\\n\\n            even if it was the other replica that was changed.\\n\\n       These options should be used with care! (More information is\\n\\n       available in the manual.)\\n\\n     * Small changes:\\n\\n          + Changed default answer to \\'Yes\\' in all two-button dialogs in\\n\\n            the graphical interface (this seems more intuitive).\\n\\n          + The rsync preference has been removed (it was used to\\n\\n            activate rsync compression for file transfers, but rsync\\n\\n            compression is now enabled by default).\\n\\n          + In the text user interface, the arrows indicating which\\n\\n            direction changes are being propagated are printed\\n\\n            differently when the user has overridded Unison\\'s default\\n\\n            recommendation (====> instead of ---->). This matches the\\n\\n            behavior of the graphical interface, which displays such\\n\\n            arrows in a different color.\\n\\n          + Carriage returns (Control-M\\'s) are ignored at the ends of\\n\\n            lines in profiles, for Windows compatibility.\\n\\n          + All preferences are now fully documented in the user manual.\\n\\n       \\n\\n   Changes since 2.3.12:\\n\\n     * INCOMPATIBLE CHANGE: Archive format has changed. Make sure you\\n\\n       synchronize your replicas before upgrading, to avoid spurious\\n\\n       conflicts. The first sync after upgrading will be slow.\\n\\n     * New/improved functionality:\\n\\n          + A new preference -sortbysize controls the order in which\\n\\n            changes are displayed to the user: when it is set to true,\\n\\n            the smallest changed files are displayed first. (The default\\n\\n            setting is false.)\\n\\n          + A new preference -sortnewfirst causes newly created files to\\n\\n            be listed before other updates in the user interface.\\n\\n          + We now allow the ssh protocol to specify a port.\\n\\n          + Incompatible change: The unison: protocol is deprecated, and\\n\\n            we added file: and socket:. You may have to modify your\\n\\n            profiles in the .unison directory. If a replica is specified\\n\\n            without an explicit protocol, we now assume it refers to a\\n\\n            file. (Previously \"//saul/foo\" meant to use SSH to connect to\\n\\n            saul, then access the foo directory. Now it means to access\\n\\n            saul via a remote file mechanism such as samba; the old\\n\\n            effect is now achieved by writing ssh://saul/foo.)\\n\\n          + Changed the startup sequence for the case where roots are\\n\\n            given but no profile is given on the command line. The new\\n\\n            behavior is to use the default profile (creating it if it\\n\\n            does not exist), and temporarily override its roots. The\\n\\n            manual claimed that this case would work by reading no\\n\\n            profile at all, but AFAIK this was never true.\\n\\n          + In all user interfaces, files with conflicts are always\\n\\n            listed first\\n\\n          + A new preference \\'sshversion\\' can be used to control which\\n\\n            version of ssh should be used to connect to the server. Legal\\n\\n            values are 1 and 2. (Default is empty, which will make unison\\n\\n            use whatever version of ssh is installed as the default \\'ssh\\'\\n\\n            command.)\\n\\n          + The situation when the permissions of a file was updated the\\n\\n            same on both side is now handled correctly (we used to report\\n\\n            a spurious conflict)\\n\\n     * Improvements for the Windows version:\\n\\n          + The fact that filenames are treated case-insensitively under\\n\\n            Windows should now be handled correctly. The exact behavior\\n\\n            is described in the cross-platform section of the manual.\\n\\n          + It should be possible to synchronize with Windows shares,\\n\\n            e.g., //host/drive/path.\\n\\n          + Workarounds to the bug in syncing root directories in\\n\\n            Windows. The most difficult thing to fix is an ocaml bug:\\n\\n            Unix.opendir fails on c: in some versions of Windows.\\n\\n     * Improvements to the GTK user interface (the Tk interface is no\\n\\n       longer being maintained):\\n\\n          + The UI now displays actions differently (in blue) when they\\n\\n            have been explicitly changed by the user from Unison\\'s\\n\\n            default recommendation.\\n\\n          + More colorful appearance.\\n\\n          + The initial profile selection window works better.\\n\\n          + If any transfers failed, a message to this effect is\\n\\n            displayed along with \\'Synchronization complete\\' at the end of\\n\\n            the transfer phase (in case they may have scrolled off the\\n\\n            top).\\n\\n          + Added a global progress meter, displaying the percentage of\\n\\n            total bytes that have been transferred so far.\\n\\n     * Improvements to the text user interface:\\n\\n          + The file details will be displayed automatically when a\\n\\n            conflict is been detected.\\n\\n          + when a warning is generated (e.g. for a temporary file left\\n\\n            over from a previous run of unison) Unison will no longer\\n\\n            wait for a response if it is running in -batch mode.\\n\\n          + The UI now displays a short list of possible inputs each time\\n\\n            it waits for user interaction.\\n\\n          + The UI now quits immediately (rather than looping back and\\n\\n            starting the interaction again) if the user presses \\'q\\' when\\n\\n            asked whether to propagate changes.\\n\\n          + Pressing \\'g\\' in the text user interface will proceed\\n\\n            immediately with propagating updates, without asking any more\\n\\n            questions.\\n\\n     * Documentation and installation changes:\\n\\n          + The manual now includes a FAQ, plus sections on common\\n\\n            problems and on tricks contributed by users.\\n\\n          + Both the download page and the download directory explicitly\\n\\n            say what are the current stable and beta-test version\\n\\n            numbers.\\n\\n          + The OCaml sources for the up-to-the-minute developers\\'\\n\\n            version (not guaranteed to be stable, or even to compile, at\\n\\n            any given time!) are now available from the download page.\\n\\n          + Added a subsection to the manual describing cross-platform\\n\\n            issues (case conflicts, illegal filenames)\\n\\n     * Many small bug fixes and random improvements.\\n\\n       \\n\\n   Changes since 2.3.1:\\n\\n     * Several bug fixes. The most important is a bug in the rsync module\\n\\n       that would occasionally cause change propagation to fail with a\\n\\n       \\'rename\\' error.\\n\\n       \\n\\n   Changes since 2.2:\\n\\n     * The multi-threaded transport system is now disabled by default.\\n\\n       (It is not stable enough yet.)\\n\\n     * Various bug fixes.\\n\\n     * A new experimental feature:\\n\\n       The final component of a -path argument may now be the wildcard\\n\\n       specifier *. When Unison sees such a path, it expands this path on\\n\\n       the client into into the corresponding list of paths by listing\\n\\n       the contents of that directory.\\n\\n       Note that if you use wildcard paths from the command line, you\\n\\n       will probably need to use quotes or a backslash to prevent the *\\n\\n       from being interpreted by your shell.\\n\\n       If both roots are local, the contents of the first one will be\\n\\n       used for expanding wildcard paths. (Nb: this is the first one\\n\\n       after the canonization step -- i.e., the one that is listed first\\n\\n       in the user interface -- not the one listed first on the command\\n\\n       line or in the preferences file.)\\n\\n       \\n\\n   Changes since 2.1:\\n\\n     * The transport subsystem now includes an implementation by Sylvain\\n\\n       Gommier and Norman Ramsey of Tridgell and Mackerras\\'s rsync\\n\\n       protocol. This protocol achieves much faster transfers when only a\\n\\n       small part of a large file has been changed by sending just diffs.\\n\\n       This feature is mainly helpful for transfers over slow links---on\\n\\n       fast local area networks it can actually degrade performance---so\\n\\n       we have left it off by default. Start unison with the -rsync\\n\\n       option (or put rsync=true in your preferences file) to turn it on.\\n\\n     * ``Progress bars\\'\\' are now diplayed during remote file transfers,\\n\\n       showing what percentage of each file has been transferred so far.\\n\\n     * The version numbering scheme has changed. New releases will now be\\n\\n       have numbers like 2.2.30, where the second component is\\n\\n       incremented on every significant public release and the third\\n\\n       component is the ``patch level.\\'\\'\\n\\n     * Miscellaneous improvements to the GTK-based user interface.\\n\\n     * The manual is now available in PDF format.\\n\\n     * We are experimenting with using a multi-threaded transport\\n\\n       subsystem to transfer several files at the same time, making much\\n\\n       more effective use of available network bandwidth. This feature is\\n\\n       not completely stable yet, so by default it is disabled in the\\n\\n       release version of Unison.\\n\\n       If you want to play with the multi-threaded version, you\\'ll need\\n\\n       to recompile Unison from sources (as described in the\\n\\n       documentation), setting the THREADS flag in Makefile.OCaml to\\n\\n       true. Make sure that your OCaml compiler has been installed with\\n\\n       the -with-pthreads configuration option. (You can verify this by\\n\\n       checking whether the file threads/threads.cma in the OCaml\\n\\n       standard library directory contains the string -lpthread near the\\n\\n       end.)\\n\\n       \\n\\n   Changes since 1.292:\\n\\n     * Reduced memory footprint (this is especially important during the\\n\\n       first run of unison, where it has to gather information about all\\n\\n       the files in both repositories).\\n\\n     * Fixed a bug that would cause the socket server under NT to fail\\n\\n       after the client exits.\\n\\n     * Added a SHIFT modifier to the Ignore menu shortcut keys in GTK\\n\\n       interface (to avoid hitting them accidentally).\\n\\n       \\n\\n   Changes since 1.231:\\n\\n     * Tunneling over ssh is now supported in the Windows version. See\\n\\n       the installation section of the manual for detailed instructions.\\n\\n     * The transport subsystem now includes an implementation of the\\n\\n       rsync protocol, built by Sylvain Gommier and Norman Ramsey. This\\n\\n       protocol achieves much faster transfers when only a small part of\\n\\n       a large file has been changed by sending just diffs. The rsync\\n\\n       feature is off by default in the current version. Use the -rsync\\n\\n       switch to turn it on. (Nb. We still have a lot of tuning to do:\\n\\n       you may not notice much speedup yet.)\\n\\n     * We\\'re experimenting with a multi-threaded transport subsystem,\\n\\n       written by Jerome Vouillon. The downloadable binaries are still\\n\\n       single-threaded: if you want to try the multi-threaded version,\\n\\n       you\\'ll need to recompile from sources. (Say make THREADS=true.)\\n\\n       Native thread support from the compiler is required. Use the\\n\\n       option -threads N to select the maximal number of concurrent\\n\\n       threads (default is 5). Multi-threaded and single-threaded\\n\\n       clients/servers can interoperate.\\n\\n     * A new GTK-based user interface is now available, thanks to Jacques\\n\\n       Garrigue. The Tk user interface still works, but we\\'ll be shifting\\n\\n       development effort to the GTK interface from now on.\\n\\n     * OCaml 3.00 is now required for compiling Unison from sources. The\\n\\n       modules uitk and myfileselect have been changed to use labltk\\n\\n       instead of camltk. To compile the Tk interface in Windows, you\\n\\n       must have ocaml-3.00 and tk8.3. When installing tk8.3, put it in\\n\\n       c:\\\\Tcl rather than the suggested c:\\\\Program Files\\\\Tcl, and be sure\\n\\n       to install the headers and libraries (which are not installed by\\n\\n       default).\\n\\n     * Added a new -addversionno switch, which causes unison to use\\n\\n       unison-<currentversionnumber> instead of just unison as the remote\\n\\n       server command. This allows multiple versions of unison to coexist\\n\\n       conveniently on the same server: whichever version is run on the\\n\\n       client, the same version will be selected on the server.\\n\\n       \\n\\n   Changes since 1.219:\\n\\n     * INCOMPATIBLE CHANGE: Archive format has changed. Make sure you\\n\\n       synchronize your replicas before upgrading, to avoid spurious\\n\\n       conflicts. The first sync after upgrading will be slow.\\n\\n     * This version fixes several annoying bugs, including:\\n\\n          + Some cases where propagation of file permissions was not\\n\\n            working.\\n\\n          + umask is now ignored when creating directories\\n\\n          + directories are create writable, so that a read-only\\n\\n            directory and its contents can be propagated.\\n\\n          + Handling of warnings generated by the server.\\n\\n          + Synchronizing a path whose parent is not a directory on both\\n\\n            sides is now flagged as erroneous.\\n\\n          + Fixed some bugs related to symnbolic links and nonexistant\\n\\n            roots.\\n\\n               o When a change (deletion or new contents) is propagated\\n\\n                 onto a \\'follow\\'ed symlink, the file pointed to by the\\n\\n                 link is now changed. (We used to change the link itself,\\n\\n                 which doesn\\'t fit our assertion that \\'follow\\' means the\\n\\n                 link is completely invisible)\\n\\n               o When one root did not exist, propagating the other root\\n\\n                 on top of it used to fail, becuase unison could not\\n\\n                 calculate the working directory into which to write\\n\\n                 changes. This should be fixed.\\n\\n     * A human-readable timestamp has been added to Unison\\'s archive\\n\\n       files.\\n\\n     * The semantics of Path and Name regular expressions now correspond\\n\\n       better.\\n\\n     * Some minor improvements to the text UI (e.g. a command for going\\n\\n       back to previous items)\\n\\n     * The organization of the export directory has changed --- should be\\n\\n       easier to find / download things now.\\n\\n       \\n\\n   Changes since 1.200:\\n\\n     * INCOMPATIBLE CHANGE: Archive format has changed. Make sure you\\n\\n       synchronize your replicas before upgrading, to avoid spurious\\n\\n       conflicts. The first sync after upgrading will be slow.\\n\\n     * This version has not been tested extensively on Windows.\\n\\n     * Major internal changes designed to make unison safer to run at the\\n\\n       same time as the replicas are being changed by the user.\\n\\n     * Internal performance improvements.\\n\\n       \\n\\n   Changes since 1.190:\\n\\n     * INCOMPATIBLE CHANGE: Archive format has changed. Make sure you\\n\\n       synchronize your replicas before upgrading, to avoid spurious\\n\\n       conflicts. The first sync after upgrading will be slow.\\n\\n     * A number of internal functions have been changed to reduce the\\n\\n       amount of memory allocation, especially during the first\\n\\n       synchronization. This should help power users with very big\\n\\n       replicas.\\n\\n     * Reimplementation of low-level remote procedure call stuff, in\\n\\n       preparation for adding rsync-like smart file transfer in a later\\n\\n       release.\\n\\n     * Miscellaneous bug fixes.\\n\\n       \\n\\n   Changes since 1.180:\\n\\n     * INCOMPATIBLE CHANGE: Archive format has changed. Make sure you\\n\\n       synchronize your replicas before upgrading, to avoid spurious\\n\\n       conflicts. The first sync after upgrading will be slow.\\n\\n     * Fixed some small bugs in the interpretation of ignore patterns.\\n\\n     * Fixed some problems that were preventing the Windows version from\\n\\n       working correctly when click-started.\\n\\n     * Fixes to treatment of file permissions under Windows, which were\\n\\n       causing spurious reports of different permissions when\\n\\n       synchronizing between windows and unix systems.\\n\\n     * Fixed one more non-tail-recursive list processing function, which\\n\\n       was causing stack overflows when synchronizing very large\\n\\n       replicas.\\n\\n       \\n\\n   Changes since 1.169:\\n\\n     * The text user interface now provides commands for ignoring files.\\n\\n     * We found and fixed some more non-tail-recursive list processing\\n\\n       functions. Some power users have reported success with very large\\n\\n       replicas.\\n\\n     * INCOMPATIBLE CHANGE: Files ending in .tmp are no longer ignored\\n\\n       automatically. If you want to ignore such files, put an\\n\\n       appropriate ignore pattern in your profile.\\n\\n     * INCOMPATIBLE CHANGE: The syntax of ignore and follow patterns has\\n\\n       changed. Instead of putting a line of the form\\n\\n\\n\\n                 ignore = <regexp>\\n\\n       in your profile (.unison/default.prf), you should put:\\n\\n\\n\\n                 ignore = Regexp <regexp>\\n\\n       Moreover, two other styles of pattern are also recognized:\\n\\n\\n\\n                 ignore = Name <name>\\n\\n       matches any path in which one component matches <name>, while\\n\\n\\n\\n                 ignore = Path <path>\\n\\n       matches exactly the path <path>.\\n\\n       Standard ``globbing\\'\\' conventions can be used in <name> and\\n\\n       <path>:\\n\\n          + a ? matches any single character except /\\n\\n          + a * matches any sequence of characters not including /\\n\\n          + [xyz] matches any character from the set {x, y, z }\\n\\n          + {a,bb,ccc} matches any one of a, bb, or ccc.\\n\\n       See the user manual for some examples.\\n\\n       \\n\\n   Changes since 1.146:\\n\\n     * Some users were reporting stack overflows when synchronizing huge\\n\\n       directories. We found and fixed some non-tail-recursive list\\n\\n       processing functions, which we hope will solve the problem. Please\\n\\n       give it a try and let us know.\\n\\n     * Major additions to the documentation.\\n\\n       \\n\\n   Changes since 1.142:\\n\\n     * Major internal tidying and many small bugfixes.\\n\\n     * Major additions to the user manual.\\n\\n     * Unison can now be started with no arguments -- it will prompt\\n\\n       automatically for the name of a profile file containing the roots\\n\\n       to be synchronized. This makes it possible to start the graphical\\n\\n       UI from a desktop icon.\\n\\n     * Fixed a small bug where the text UI on NT was raising a \\'no such\\n\\n       signal\\' exception.\\n\\n       \\n\\n   Changes since 1.139:\\n\\n     * The precompiled windows binary in the last release was compiled\\n\\n       with an old OCaml compiler, causing propagation of permissions not\\n\\n       to work (and perhaps leading to some other strange behaviors we\\'ve\\n\\n       heard reports about). This has been corrected. If you\\'re using\\n\\n       precompiled binaries on Windows, please upgrade.\\n\\n     * Added a -debug command line flag, which controls debugging of\\n\\n       various modules. Say -debug XXX to enable debug tracing for module\\n\\n       XXX, or -debug all to turn on absolutely everything.\\n\\n     * Fixed a small bug where the text UI on NT was raising a \\'no such\\n\\n       signal\\' exception.\\n\\n       \\n\\n   Changes since 1.111:\\n\\n     * INCOMPATIBLE CHANGE: The names and formats of the preference files\\n\\n       in the .unison directory have changed. In particular:\\n\\n          + the file ``prefs\\'\\' should be renamed to default.prf\\n\\n          + the contents of the file ``ignore\\'\\' should be merged into\\n\\n            default.prf. Each line of the form REGEXP in ignore should\\n\\n            become a line of the form ignore = REGEXP in default.prf.\\n\\n     * Unison now handles permission bits and symbolic links. See the\\n\\n       manual for details.\\n\\n     * You can now have different preference files in your .unison\\n\\n       directory. If you start unison like this\\n\\n\\n\\n             unison profilename\\n\\n       (i.e. with just one ``anonymous\\'\\' command-line argument), then the\\n\\n       file ~/.unison/profilename.prf will be loaded instead of\\n\\n       default.prf.\\n\\n     * Some improvements to terminal handling in the text user interface\\n\\n     * Added a switch -killServer that terminates the remote server\\n\\n       process when the unison client is shutting down, even when using\\n\\n       sockets for communication. (By default, a remote server created\\n\\n       using ssh/rsh is terminated automatically, while a socket server\\n\\n       is left running.)\\n\\n     * When started in \\'socket server\\' mode, unison prints \\'server\\n\\n       started\\' on stderr when it is ready to accept connections. (This\\n\\n       may be useful for scripts that want to tell when a socket-mode\\n\\n       server has finished initalization.)\\n\\n     * We now make a nightly mirror of our current internal development\\n\\n       tree, in case anyone wants an up-to-the-minute version to hack\\n\\n       around with.\\n\\n     * Added a file CONTRIB with some suggestions for how to help us make\\n\\n       Unison better.\\n\\n       \\n\\n\\n\\n\\n\\nTo unsubscribe from this group, send an email to:\\n\\nunison-announce-unsubscribe@egroups.com\\n\\n\\n\\n \\n\\n\\n\\nYour use of Yahoo! Groups is subject to http://docs.yahoo.com/info/terms/ \\n\\n\\n\\n\\n\\n\\n'"
      ]
     },
     "execution_count": 108,
     "metadata": {},
     "output_type": "execute_result"
    }
   ],
   "source": [
    "data.iloc[5776 , 0]  # 5776 is DOC_ID"
   ]
  },
  {
   "cell_type": "code",
   "execution_count": 109,
   "id": "0c9fe2c1",
   "metadata": {},
   "outputs": [
    {
     "data": {
      "text/html": [
       "<div>\n",
       "<style scoped>\n",
       "    .dataframe tbody tr th:only-of-type {\n",
       "        vertical-align: middle;\n",
       "    }\n",
       "\n",
       "    .dataframe tbody tr th {\n",
       "        vertical-align: top;\n",
       "    }\n",
       "\n",
       "    .dataframe thead th {\n",
       "        text-align: right;\n",
       "    }\n",
       "</style>\n",
       "<table border=\"1\" class=\"dataframe\">\n",
       "  <thead>\n",
       "    <tr style=\"text-align: right;\">\n",
       "      <th></th>\n",
       "      <th>MESSAGE</th>\n",
       "      <th>CATEGORY</th>\n",
       "      <th>FILE_NAME</th>\n",
       "    </tr>\n",
       "    <tr>\n",
       "      <th>DOC_ID</th>\n",
       "      <th></th>\n",
       "      <th></th>\n",
       "      <th></th>\n",
       "    </tr>\n",
       "  </thead>\n",
       "  <tbody>\n",
       "    <tr>\n",
       "      <th>0</th>\n",
       "      <td>&lt;!DOCTYPE HTML PUBLIC \"-//W3C//DTD HTML 4.0 Tr...</td>\n",
       "      <td>1</td>\n",
       "      <td>00001.7848dde101aa985090474a91ec93fcf0</td>\n",
       "    </tr>\n",
       "    <tr>\n",
       "      <th>1</th>\n",
       "      <td>1) Fight The Risk of Cancer!\\n\\nhttp://www.adc...</td>\n",
       "      <td>1</td>\n",
       "      <td>00002.d94f1b97e48ed3b553b3508d116e6a09</td>\n",
       "    </tr>\n",
       "    <tr>\n",
       "      <th>2</th>\n",
       "      <td>1) Fight The Risk of Cancer!\\n\\nhttp://www.adc...</td>\n",
       "      <td>1</td>\n",
       "      <td>00003.2ee33bc6eacdb11f38d052c44819ba6c</td>\n",
       "    </tr>\n",
       "    <tr>\n",
       "      <th>3</th>\n",
       "      <td>##############################################...</td>\n",
       "      <td>1</td>\n",
       "      <td>00004.eac8de8d759b7e74154f142194282724</td>\n",
       "    </tr>\n",
       "    <tr>\n",
       "      <th>4</th>\n",
       "      <td>I thought you might like these:\\n\\n1) Slim Dow...</td>\n",
       "      <td>1</td>\n",
       "      <td>00005.57696a39d7d84318ce497886896bf90d</td>\n",
       "    </tr>\n",
       "    <tr>\n",
       "      <th>...</th>\n",
       "      <td>...</td>\n",
       "      <td>...</td>\n",
       "      <td>...</td>\n",
       "    </tr>\n",
       "    <tr>\n",
       "      <th>5792</th>\n",
       "      <td>http://news.bbc.co.uk/1/hi/england/2515127.stm...</td>\n",
       "      <td>0</td>\n",
       "      <td>01396.61983fbe6ec43f55fd44e30fce24ffa6</td>\n",
       "    </tr>\n",
       "    <tr>\n",
       "      <th>5793</th>\n",
       "      <td>&gt; &gt;-- be careful when using this one.) Also, t...</td>\n",
       "      <td>0</td>\n",
       "      <td>01397.9f9ef4c2a8dc012d80f2ce2d3473d3b7</td>\n",
       "    </tr>\n",
       "    <tr>\n",
       "      <th>5794</th>\n",
       "      <td>&gt;&gt;&gt;&gt;&gt; \"SM\" == Skip Montanaro &lt;skip@pobox.com&gt; ...</td>\n",
       "      <td>0</td>\n",
       "      <td>01398.169b51731fe569f42169ae8f948ec676</td>\n",
       "    </tr>\n",
       "    <tr>\n",
       "      <th>5795</th>\n",
       "      <td>So then, \"Mark Hammond\" &lt;mhammond@skippinet.co...</td>\n",
       "      <td>0</td>\n",
       "      <td>01399.ca6b00b7b341bbde9a9ea3dd6a7bf896</td>\n",
       "    </tr>\n",
       "    <tr>\n",
       "      <th>5796</th>\n",
       "      <td>Hi there,\\n\\n\\n\\nNow this is probably of no us...</td>\n",
       "      <td>0</td>\n",
       "      <td>01400.f897f0931e461e7b2e964d28e927c35e</td>\n",
       "    </tr>\n",
       "  </tbody>\n",
       "</table>\n",
       "<p>5797 rows × 3 columns</p>\n",
       "</div>"
      ],
      "text/plain": [
       "                                                  MESSAGE  CATEGORY  \\\n",
       "DOC_ID                                                                \n",
       "0       <!DOCTYPE HTML PUBLIC \"-//W3C//DTD HTML 4.0 Tr...         1   \n",
       "1       1) Fight The Risk of Cancer!\\n\\nhttp://www.adc...         1   \n",
       "2       1) Fight The Risk of Cancer!\\n\\nhttp://www.adc...         1   \n",
       "3       ##############################################...         1   \n",
       "4       I thought you might like these:\\n\\n1) Slim Dow...         1   \n",
       "...                                                   ...       ...   \n",
       "5792    http://news.bbc.co.uk/1/hi/england/2515127.stm...         0   \n",
       "5793    > >-- be careful when using this one.) Also, t...         0   \n",
       "5794    >>>>> \"SM\" == Skip Montanaro <skip@pobox.com> ...         0   \n",
       "5795    So then, \"Mark Hammond\" <mhammond@skippinet.co...         0   \n",
       "5796    Hi there,\\n\\n\\n\\nNow this is probably of no us...         0   \n",
       "\n",
       "                                     FILE_NAME  \n",
       "DOC_ID                                          \n",
       "0       00001.7848dde101aa985090474a91ec93fcf0  \n",
       "1       00002.d94f1b97e48ed3b553b3508d116e6a09  \n",
       "2       00003.2ee33bc6eacdb11f38d052c44819ba6c  \n",
       "3       00004.eac8de8d759b7e74154f142194282724  \n",
       "4       00005.57696a39d7d84318ce497886896bf90d  \n",
       "...                                        ...  \n",
       "5792    01396.61983fbe6ec43f55fd44e30fce24ffa6  \n",
       "5793    01397.9f9ef4c2a8dc012d80f2ce2d3473d3b7  \n",
       "5794    01398.169b51731fe569f42169ae8f948ec676  \n",
       "5795    01399.ca6b00b7b341bbde9a9ea3dd6a7bf896  \n",
       "5796    01400.f897f0931e461e7b2e964d28e927c35e  \n",
       "\n",
       "[5797 rows x 3 columns]"
      ]
     },
     "execution_count": 109,
     "metadata": {},
     "output_type": "execute_result"
    }
   ],
   "source": [
    "data # original data..."
   ]
  },
  {
   "cell_type": "code",
   "execution_count": 110,
   "id": "8e8b2b0c",
   "metadata": {},
   "outputs": [],
   "source": [
    "# try with different DOC_IDs..."
   ]
  },
  {
   "cell_type": "code",
   "execution_count": 111,
   "id": "05f4a873",
   "metadata": {},
   "outputs": [
    {
     "data": {
      "text/plain": [
       "\"I thought you might like these:\\n\\n1) Slim Down - Guaranteed to lose 10-12 lbs in 30 days\\n\\nhttp://www.freeyankee.com/cgi/fy2/to.cgi?l=822slim1\\n\\n\\n\\n2) Fight The Risk of Cancer! \\n\\nhttp://www.freeyankee.com/cgi/fy2/to.cgi?l=822nic1 \\n\\n\\n\\n3) Get the Child Support You Deserve - Free Legal Advice \\n\\nhttp://www.freeyankee.com/cgi/fy2/to.cgi?l=822ppl1\\n\\n\\n\\nOffer Manager\\n\\nDaily-Deals\\n\\n\\n\\n\\n\\n\\n\\n\\n\\n\\n\\n\\n\\n\\n\\n\\n\\nIf you wish to leave this list please use the link below.\\n\\nhttp://www.qves.com/trim/?social@linux.ie%7C29%7C134077\\n\\n\\n\\n\\n\\n-- \\n\\nIrish Linux Users' Group Social Events: social@linux.ie\\n\\nhttp://www.linux.ie/mailman/listinfo/social for (un)subscription information.\\n\\nList maintainer: listmaster@linux.ie\\n\\n\\n\""
      ]
     },
     "execution_count": 111,
     "metadata": {},
     "output_type": "execute_result"
    }
   ],
   "source": [
    "data.iat[4,0] # DOC_ID - 4 , (iat selects a single scalar value in the DataFrame by integer location only.)"
   ]
  },
  {
   "cell_type": "code",
   "execution_count": 112,
   "id": "9f27eeaf",
   "metadata": {},
   "outputs": [
    {
     "data": {
      "text/plain": [
       "\"I thought you might like these:\\n\\n1) Slim Down - Guaranteed to lose 10-12 lbs in 30 days\\n\\nhttp://www.freeyankee.com/cgi/fy2/to.cgi?l=822slim1\\n\\n\\n\\n2) Fight The Risk of Cancer! \\n\\nhttp://www.freeyankee.com/cgi/fy2/to.cgi?l=822nic1 \\n\\n\\n\\n3) Get the Child Support You Deserve - Free Legal Advice \\n\\nhttp://www.freeyankee.com/cgi/fy2/to.cgi?l=822ppl1\\n\\n\\n\\nOffer Manager\\n\\nDaily-Deals\\n\\n\\n\\n\\n\\n\\n\\n\\n\\n\\n\\n\\n\\n\\n\\n\\n\\nIf you wish to leave this list please use the link below.\\n\\nhttp://www.qves.com/trim/?social@linux.ie%7C29%7C134077\\n\\n\\n\\n\\n\\n-- \\n\\nIrish Linux Users' Group Social Events: social@linux.ie\\n\\nhttp://www.linux.ie/mailman/listinfo/social for (un)subscription information.\\n\\nList maintainer: listmaster@linux.ie\\n\\n\\n\""
      ]
     },
     "execution_count": 112,
     "metadata": {},
     "output_type": "execute_result"
    }
   ],
   "source": [
    "data.at[4, 'MESSAGE']  # DOC_ID - 4 , (at selects a single scalar value in the DataFrame by label only.)"
   ]
  },
  {
   "cell_type": "code",
   "execution_count": 113,
   "id": "be21689d",
   "metadata": {},
   "outputs": [
    {
     "data": {
      "text/plain": [
       "\"I thought you might like these:\\n\\n1) Slim Down - Guaranteed to lose 10-12 lbs in 30 days\\n\\nhttp://www.freeyankee.com/cgi/fy2/to.cgi?l=822slim1\\n\\n\\n\\n2) Fight The Risk of Cancer! \\n\\nhttp://www.freeyankee.com/cgi/fy2/to.cgi?l=822nic1 \\n\\n\\n\\n3) Get the Child Support You Deserve - Free Legal Advice \\n\\nhttp://www.freeyankee.com/cgi/fy2/to.cgi?l=822ppl1\\n\\n\\n\\nOffer Manager\\n\\nDaily-Deals\\n\\n\\n\\n\\n\\n\\n\\n\\n\\n\\n\\n\\n\\n\\n\\n\\n\\nIf you wish to leave this list please use the link below.\\n\\nhttp://www.qves.com/trim/?social@linux.ie%7C29%7C134077\\n\\n\\n\\n\\n\\n-- \\n\\nIrish Linux Users' Group Social Events: social@linux.ie\\n\\nhttp://www.linux.ie/mailman/listinfo/social for (un)subscription information.\\n\\nList maintainer: listmaster@linux.ie\\n\\n\\n\""
      ]
     },
     "execution_count": 113,
     "metadata": {},
     "output_type": "execute_result"
    }
   ],
   "source": [
    "data.iloc[4,0]   # DOC_ID - 4 , (iloc is integer position-based)"
   ]
  },
  {
   "cell_type": "code",
   "execution_count": 114,
   "id": "e5581ba5",
   "metadata": {},
   "outputs": [
    {
     "data": {
      "text/plain": [
       "\"I thought you might like these:\\n\\n1) Slim Down - Guaranteed to lose 10-12 lbs in 30 days\\n\\nhttp://www.freeyankee.com/cgi/fy2/to.cgi?l=822slim1\\n\\n\\n\\n2) Fight The Risk of Cancer! \\n\\nhttp://www.freeyankee.com/cgi/fy2/to.cgi?l=822nic1 \\n\\n\\n\\n3) Get the Child Support You Deserve - Free Legal Advice \\n\\nhttp://www.freeyankee.com/cgi/fy2/to.cgi?l=822ppl1\\n\\n\\n\\nOffer Manager\\n\\nDaily-Deals\\n\\n\\n\\n\\n\\n\\n\\n\\n\\n\\n\\n\\n\\n\\n\\n\\n\\nIf you wish to leave this list please use the link below.\\n\\nhttp://www.qves.com/trim/?social@linux.ie%7C29%7C134077\\n\\n\\n\\n\\n\\n-- \\n\\nIrish Linux Users' Group Social Events: social@linux.ie\\n\\nhttp://www.linux.ie/mailman/listinfo/social for (un)subscription information.\\n\\nList maintainer: listmaster@linux.ie\\n\\n\\n\""
      ]
     },
     "execution_count": 114,
     "metadata": {},
     "output_type": "execute_result"
    }
   ],
   "source": [
    "data.loc[4,'MESSAGE']  # doc_id - 4 , (loc is label-based)"
   ]
  },
  {
   "cell_type": "code",
   "execution_count": 115,
   "id": "39c64b44",
   "metadata": {},
   "outputs": [],
   "source": [
    "# take first 10 rows annd column of data.....to test selected dataframe"
   ]
  },
  {
   "cell_type": "code",
   "execution_count": 116,
   "id": "1b5d18ca",
   "metadata": {},
   "outputs": [],
   "source": [
    "test_df = data.iloc[0:10, 0:3]"
   ]
  },
  {
   "cell_type": "code",
   "execution_count": 117,
   "id": "d874f126",
   "metadata": {},
   "outputs": [
    {
     "data": {
      "text/html": [
       "<div>\n",
       "<style scoped>\n",
       "    .dataframe tbody tr th:only-of-type {\n",
       "        vertical-align: middle;\n",
       "    }\n",
       "\n",
       "    .dataframe tbody tr th {\n",
       "        vertical-align: top;\n",
       "    }\n",
       "\n",
       "    .dataframe thead th {\n",
       "        text-align: right;\n",
       "    }\n",
       "</style>\n",
       "<table border=\"1\" class=\"dataframe\">\n",
       "  <thead>\n",
       "    <tr style=\"text-align: right;\">\n",
       "      <th></th>\n",
       "      <th>MESSAGE</th>\n",
       "      <th>CATEGORY</th>\n",
       "      <th>FILE_NAME</th>\n",
       "    </tr>\n",
       "    <tr>\n",
       "      <th>DOC_ID</th>\n",
       "      <th></th>\n",
       "      <th></th>\n",
       "      <th></th>\n",
       "    </tr>\n",
       "  </thead>\n",
       "  <tbody>\n",
       "    <tr>\n",
       "      <th>0</th>\n",
       "      <td>&lt;!DOCTYPE HTML PUBLIC \"-//W3C//DTD HTML 4.0 Tr...</td>\n",
       "      <td>1</td>\n",
       "      <td>00001.7848dde101aa985090474a91ec93fcf0</td>\n",
       "    </tr>\n",
       "    <tr>\n",
       "      <th>1</th>\n",
       "      <td>1) Fight The Risk of Cancer!\\n\\nhttp://www.adc...</td>\n",
       "      <td>1</td>\n",
       "      <td>00002.d94f1b97e48ed3b553b3508d116e6a09</td>\n",
       "    </tr>\n",
       "    <tr>\n",
       "      <th>2</th>\n",
       "      <td>1) Fight The Risk of Cancer!\\n\\nhttp://www.adc...</td>\n",
       "      <td>1</td>\n",
       "      <td>00003.2ee33bc6eacdb11f38d052c44819ba6c</td>\n",
       "    </tr>\n",
       "    <tr>\n",
       "      <th>3</th>\n",
       "      <td>##############################################...</td>\n",
       "      <td>1</td>\n",
       "      <td>00004.eac8de8d759b7e74154f142194282724</td>\n",
       "    </tr>\n",
       "    <tr>\n",
       "      <th>4</th>\n",
       "      <td>I thought you might like these:\\n\\n1) Slim Dow...</td>\n",
       "      <td>1</td>\n",
       "      <td>00005.57696a39d7d84318ce497886896bf90d</td>\n",
       "    </tr>\n",
       "    <tr>\n",
       "      <th>5</th>\n",
       "      <td>A POWERHOUSE GIFTING PROGRAM You Don't Want To...</td>\n",
       "      <td>1</td>\n",
       "      <td>00006.5ab5620d3d7c6c0db76234556a16f6c1</td>\n",
       "    </tr>\n",
       "    <tr>\n",
       "      <th>6</th>\n",
       "      <td>Help wanted.  We are a 14 year old fortune 500...</td>\n",
       "      <td>1</td>\n",
       "      <td>00007.d8521faf753ff9ee989122f6816f87d7</td>\n",
       "    </tr>\n",
       "    <tr>\n",
       "      <th>7</th>\n",
       "      <td>&lt;html&gt;\\n\\n&lt;head&gt;\\n\\n&lt;title&gt;ReliaQuote - Save U...</td>\n",
       "      <td>1</td>\n",
       "      <td>00008.dfd941deb10f5eed78b1594b131c9266</td>\n",
       "    </tr>\n",
       "    <tr>\n",
       "      <th>8</th>\n",
       "      <td>TIRED OF THE BULL OUT THERE?\\n\\nWant To Stop L...</td>\n",
       "      <td>1</td>\n",
       "      <td>00009.027bf6e0b0c4ab34db3ce0ea4bf2edab</td>\n",
       "    </tr>\n",
       "    <tr>\n",
       "      <th>9</th>\n",
       "      <td>Dear ricardo1 ,\\n\\n\\n\\n&lt;html&gt;\\n\\n&lt;body&gt;\\n\\n&lt;ce...</td>\n",
       "      <td>1</td>\n",
       "      <td>00010.445affef4c70feec58f9198cfbc22997</td>\n",
       "    </tr>\n",
       "  </tbody>\n",
       "</table>\n",
       "</div>"
      ],
      "text/plain": [
       "                                                  MESSAGE  CATEGORY  \\\n",
       "DOC_ID                                                                \n",
       "0       <!DOCTYPE HTML PUBLIC \"-//W3C//DTD HTML 4.0 Tr...         1   \n",
       "1       1) Fight The Risk of Cancer!\\n\\nhttp://www.adc...         1   \n",
       "2       1) Fight The Risk of Cancer!\\n\\nhttp://www.adc...         1   \n",
       "3       ##############################################...         1   \n",
       "4       I thought you might like these:\\n\\n1) Slim Dow...         1   \n",
       "5       A POWERHOUSE GIFTING PROGRAM You Don't Want To...         1   \n",
       "6       Help wanted.  We are a 14 year old fortune 500...         1   \n",
       "7       <html>\\n\\n<head>\\n\\n<title>ReliaQuote - Save U...         1   \n",
       "8       TIRED OF THE BULL OUT THERE?\\n\\nWant To Stop L...         1   \n",
       "9       Dear ricardo1 ,\\n\\n\\n\\n<html>\\n\\n<body>\\n\\n<ce...         1   \n",
       "\n",
       "                                     FILE_NAME  \n",
       "DOC_ID                                          \n",
       "0       00001.7848dde101aa985090474a91ec93fcf0  \n",
       "1       00002.d94f1b97e48ed3b553b3508d116e6a09  \n",
       "2       00003.2ee33bc6eacdb11f38d052c44819ba6c  \n",
       "3       00004.eac8de8d759b7e74154f142194282724  \n",
       "4       00005.57696a39d7d84318ce497886896bf90d  \n",
       "5       00006.5ab5620d3d7c6c0db76234556a16f6c1  \n",
       "6       00007.d8521faf753ff9ee989122f6816f87d7  \n",
       "7       00008.dfd941deb10f5eed78b1594b131c9266  \n",
       "8       00009.027bf6e0b0c4ab34db3ce0ea4bf2edab  \n",
       "9       00010.445affef4c70feec58f9198cfbc22997  "
      ]
     },
     "execution_count": 117,
     "metadata": {},
     "output_type": "execute_result"
    }
   ],
   "source": [
    "test_df"
   ]
  },
  {
   "cell_type": "code",
   "execution_count": 118,
   "id": "239c361b",
   "metadata": {},
   "outputs": [],
   "source": [
    "# also try index as A,B,C,D... to the test_df...data..."
   ]
  },
  {
   "cell_type": "code",
   "execution_count": 119,
   "id": "8ffd5537",
   "metadata": {},
   "outputs": [],
   "source": [
    "test_df.index = ['A','B','C','D','E','F','G','I','J', 'L']"
   ]
  },
  {
   "cell_type": "code",
   "execution_count": 120,
   "id": "e06fb213",
   "metadata": {},
   "outputs": [
    {
     "data": {
      "text/html": [
       "<div>\n",
       "<style scoped>\n",
       "    .dataframe tbody tr th:only-of-type {\n",
       "        vertical-align: middle;\n",
       "    }\n",
       "\n",
       "    .dataframe tbody tr th {\n",
       "        vertical-align: top;\n",
       "    }\n",
       "\n",
       "    .dataframe thead th {\n",
       "        text-align: right;\n",
       "    }\n",
       "</style>\n",
       "<table border=\"1\" class=\"dataframe\">\n",
       "  <thead>\n",
       "    <tr style=\"text-align: right;\">\n",
       "      <th></th>\n",
       "      <th>MESSAGE</th>\n",
       "      <th>CATEGORY</th>\n",
       "      <th>FILE_NAME</th>\n",
       "    </tr>\n",
       "  </thead>\n",
       "  <tbody>\n",
       "    <tr>\n",
       "      <th>A</th>\n",
       "      <td>&lt;!DOCTYPE HTML PUBLIC \"-//W3C//DTD HTML 4.0 Tr...</td>\n",
       "      <td>1</td>\n",
       "      <td>00001.7848dde101aa985090474a91ec93fcf0</td>\n",
       "    </tr>\n",
       "    <tr>\n",
       "      <th>B</th>\n",
       "      <td>1) Fight The Risk of Cancer!\\n\\nhttp://www.adc...</td>\n",
       "      <td>1</td>\n",
       "      <td>00002.d94f1b97e48ed3b553b3508d116e6a09</td>\n",
       "    </tr>\n",
       "    <tr>\n",
       "      <th>C</th>\n",
       "      <td>1) Fight The Risk of Cancer!\\n\\nhttp://www.adc...</td>\n",
       "      <td>1</td>\n",
       "      <td>00003.2ee33bc6eacdb11f38d052c44819ba6c</td>\n",
       "    </tr>\n",
       "    <tr>\n",
       "      <th>D</th>\n",
       "      <td>##############################################...</td>\n",
       "      <td>1</td>\n",
       "      <td>00004.eac8de8d759b7e74154f142194282724</td>\n",
       "    </tr>\n",
       "    <tr>\n",
       "      <th>E</th>\n",
       "      <td>I thought you might like these:\\n\\n1) Slim Dow...</td>\n",
       "      <td>1</td>\n",
       "      <td>00005.57696a39d7d84318ce497886896bf90d</td>\n",
       "    </tr>\n",
       "    <tr>\n",
       "      <th>F</th>\n",
       "      <td>A POWERHOUSE GIFTING PROGRAM You Don't Want To...</td>\n",
       "      <td>1</td>\n",
       "      <td>00006.5ab5620d3d7c6c0db76234556a16f6c1</td>\n",
       "    </tr>\n",
       "    <tr>\n",
       "      <th>G</th>\n",
       "      <td>Help wanted.  We are a 14 year old fortune 500...</td>\n",
       "      <td>1</td>\n",
       "      <td>00007.d8521faf753ff9ee989122f6816f87d7</td>\n",
       "    </tr>\n",
       "    <tr>\n",
       "      <th>I</th>\n",
       "      <td>&lt;html&gt;\\n\\n&lt;head&gt;\\n\\n&lt;title&gt;ReliaQuote - Save U...</td>\n",
       "      <td>1</td>\n",
       "      <td>00008.dfd941deb10f5eed78b1594b131c9266</td>\n",
       "    </tr>\n",
       "    <tr>\n",
       "      <th>J</th>\n",
       "      <td>TIRED OF THE BULL OUT THERE?\\n\\nWant To Stop L...</td>\n",
       "      <td>1</td>\n",
       "      <td>00009.027bf6e0b0c4ab34db3ce0ea4bf2edab</td>\n",
       "    </tr>\n",
       "    <tr>\n",
       "      <th>L</th>\n",
       "      <td>Dear ricardo1 ,\\n\\n\\n\\n&lt;html&gt;\\n\\n&lt;body&gt;\\n\\n&lt;ce...</td>\n",
       "      <td>1</td>\n",
       "      <td>00010.445affef4c70feec58f9198cfbc22997</td>\n",
       "    </tr>\n",
       "  </tbody>\n",
       "</table>\n",
       "</div>"
      ],
      "text/plain": [
       "                                             MESSAGE  CATEGORY  \\\n",
       "A  <!DOCTYPE HTML PUBLIC \"-//W3C//DTD HTML 4.0 Tr...         1   \n",
       "B  1) Fight The Risk of Cancer!\\n\\nhttp://www.adc...         1   \n",
       "C  1) Fight The Risk of Cancer!\\n\\nhttp://www.adc...         1   \n",
       "D  ##############################################...         1   \n",
       "E  I thought you might like these:\\n\\n1) Slim Dow...         1   \n",
       "F  A POWERHOUSE GIFTING PROGRAM You Don't Want To...         1   \n",
       "G  Help wanted.  We are a 14 year old fortune 500...         1   \n",
       "I  <html>\\n\\n<head>\\n\\n<title>ReliaQuote - Save U...         1   \n",
       "J  TIRED OF THE BULL OUT THERE?\\n\\nWant To Stop L...         1   \n",
       "L  Dear ricardo1 ,\\n\\n\\n\\n<html>\\n\\n<body>\\n\\n<ce...         1   \n",
       "\n",
       "                                FILE_NAME  \n",
       "A  00001.7848dde101aa985090474a91ec93fcf0  \n",
       "B  00002.d94f1b97e48ed3b553b3508d116e6a09  \n",
       "C  00003.2ee33bc6eacdb11f38d052c44819ba6c  \n",
       "D  00004.eac8de8d759b7e74154f142194282724  \n",
       "E  00005.57696a39d7d84318ce497886896bf90d  \n",
       "F  00006.5ab5620d3d7c6c0db76234556a16f6c1  \n",
       "G  00007.d8521faf753ff9ee989122f6816f87d7  \n",
       "I  00008.dfd941deb10f5eed78b1594b131c9266  \n",
       "J  00009.027bf6e0b0c4ab34db3ce0ea4bf2edab  \n",
       "L  00010.445affef4c70feec58f9198cfbc22997  "
      ]
     },
     "execution_count": 120,
     "metadata": {},
     "output_type": "execute_result"
    }
   ],
   "source": [
    "test_df"
   ]
  },
  {
   "cell_type": "code",
   "execution_count": 121,
   "id": "b5eb8ad0",
   "metadata": {},
   "outputs": [],
   "source": [
    "# try select to find value in row and column in test_df data....."
   ]
  },
  {
   "cell_type": "code",
   "execution_count": 122,
   "id": "22f930da",
   "metadata": {},
   "outputs": [
    {
     "data": {
      "text/plain": [
       "'00008.dfd941deb10f5eed78b1594b131c9266'"
      ]
     },
     "execution_count": 122,
     "metadata": {},
     "output_type": "execute_result"
    }
   ],
   "source": [
    "test_df.iat[7,2]"
   ]
  },
  {
   "cell_type": "code",
   "execution_count": 123,
   "id": "d70d2465",
   "metadata": {},
   "outputs": [
    {
     "data": {
      "text/plain": [
       "'00008.dfd941deb10f5eed78b1594b131c9266'"
      ]
     },
     "execution_count": 123,
     "metadata": {},
     "output_type": "execute_result"
    }
   ],
   "source": [
    "test_df.at['I','FILE_NAME']"
   ]
  },
  {
   "cell_type": "code",
   "execution_count": 124,
   "id": "d0f78984",
   "metadata": {},
   "outputs": [
    {
     "data": {
      "text/plain": [
       "'00008.dfd941deb10f5eed78b1594b131c9266'"
      ]
     },
     "execution_count": 124,
     "metadata": {},
     "output_type": "execute_result"
    }
   ],
   "source": [
    "test_df.iloc[7,2]"
   ]
  },
  {
   "cell_type": "code",
   "execution_count": 125,
   "id": "9fd421ae",
   "metadata": {},
   "outputs": [
    {
     "data": {
      "text/plain": [
       "'00008.dfd941deb10f5eed78b1594b131c9266'"
      ]
     },
     "execution_count": 125,
     "metadata": {},
     "output_type": "execute_result"
    }
   ],
   "source": [
    "test_df.loc['I','FILE_NAME']"
   ]
  },
  {
   "cell_type": "code",
   "execution_count": 126,
   "id": "3bb303e0",
   "metadata": {},
   "outputs": [],
   "source": [
    "# If we want to edit one of the FILE_NAME..."
   ]
  },
  {
   "cell_type": "code",
   "execution_count": 127,
   "id": "4ec0519b",
   "metadata": {},
   "outputs": [],
   "source": [
    "test_df.loc['L', 'FILE_NAME'] = 'HELLO AKSHAY'"
   ]
  },
  {
   "cell_type": "code",
   "execution_count": 128,
   "id": "39fd7aec",
   "metadata": {},
   "outputs": [
    {
     "data": {
      "text/html": [
       "<div>\n",
       "<style scoped>\n",
       "    .dataframe tbody tr th:only-of-type {\n",
       "        vertical-align: middle;\n",
       "    }\n",
       "\n",
       "    .dataframe tbody tr th {\n",
       "        vertical-align: top;\n",
       "    }\n",
       "\n",
       "    .dataframe thead th {\n",
       "        text-align: right;\n",
       "    }\n",
       "</style>\n",
       "<table border=\"1\" class=\"dataframe\">\n",
       "  <thead>\n",
       "    <tr style=\"text-align: right;\">\n",
       "      <th></th>\n",
       "      <th>MESSAGE</th>\n",
       "      <th>CATEGORY</th>\n",
       "      <th>FILE_NAME</th>\n",
       "    </tr>\n",
       "  </thead>\n",
       "  <tbody>\n",
       "    <tr>\n",
       "      <th>A</th>\n",
       "      <td>&lt;!DOCTYPE HTML PUBLIC \"-//W3C//DTD HTML 4.0 Tr...</td>\n",
       "      <td>1</td>\n",
       "      <td>00001.7848dde101aa985090474a91ec93fcf0</td>\n",
       "    </tr>\n",
       "    <tr>\n",
       "      <th>B</th>\n",
       "      <td>1) Fight The Risk of Cancer!\\n\\nhttp://www.adc...</td>\n",
       "      <td>1</td>\n",
       "      <td>00002.d94f1b97e48ed3b553b3508d116e6a09</td>\n",
       "    </tr>\n",
       "    <tr>\n",
       "      <th>C</th>\n",
       "      <td>1) Fight The Risk of Cancer!\\n\\nhttp://www.adc...</td>\n",
       "      <td>1</td>\n",
       "      <td>00003.2ee33bc6eacdb11f38d052c44819ba6c</td>\n",
       "    </tr>\n",
       "    <tr>\n",
       "      <th>D</th>\n",
       "      <td>##############################################...</td>\n",
       "      <td>1</td>\n",
       "      <td>00004.eac8de8d759b7e74154f142194282724</td>\n",
       "    </tr>\n",
       "    <tr>\n",
       "      <th>E</th>\n",
       "      <td>I thought you might like these:\\n\\n1) Slim Dow...</td>\n",
       "      <td>1</td>\n",
       "      <td>00005.57696a39d7d84318ce497886896bf90d</td>\n",
       "    </tr>\n",
       "    <tr>\n",
       "      <th>F</th>\n",
       "      <td>A POWERHOUSE GIFTING PROGRAM You Don't Want To...</td>\n",
       "      <td>1</td>\n",
       "      <td>00006.5ab5620d3d7c6c0db76234556a16f6c1</td>\n",
       "    </tr>\n",
       "    <tr>\n",
       "      <th>G</th>\n",
       "      <td>Help wanted.  We are a 14 year old fortune 500...</td>\n",
       "      <td>1</td>\n",
       "      <td>00007.d8521faf753ff9ee989122f6816f87d7</td>\n",
       "    </tr>\n",
       "    <tr>\n",
       "      <th>I</th>\n",
       "      <td>&lt;html&gt;\\n\\n&lt;head&gt;\\n\\n&lt;title&gt;ReliaQuote - Save U...</td>\n",
       "      <td>1</td>\n",
       "      <td>00008.dfd941deb10f5eed78b1594b131c9266</td>\n",
       "    </tr>\n",
       "    <tr>\n",
       "      <th>J</th>\n",
       "      <td>TIRED OF THE BULL OUT THERE?\\n\\nWant To Stop L...</td>\n",
       "      <td>1</td>\n",
       "      <td>00009.027bf6e0b0c4ab34db3ce0ea4bf2edab</td>\n",
       "    </tr>\n",
       "    <tr>\n",
       "      <th>L</th>\n",
       "      <td>Dear ricardo1 ,\\n\\n\\n\\n&lt;html&gt;\\n\\n&lt;body&gt;\\n\\n&lt;ce...</td>\n",
       "      <td>1</td>\n",
       "      <td>HELLO AKSHAY</td>\n",
       "    </tr>\n",
       "  </tbody>\n",
       "</table>\n",
       "</div>"
      ],
      "text/plain": [
       "                                             MESSAGE  CATEGORY  \\\n",
       "A  <!DOCTYPE HTML PUBLIC \"-//W3C//DTD HTML 4.0 Tr...         1   \n",
       "B  1) Fight The Risk of Cancer!\\n\\nhttp://www.adc...         1   \n",
       "C  1) Fight The Risk of Cancer!\\n\\nhttp://www.adc...         1   \n",
       "D  ##############################################...         1   \n",
       "E  I thought you might like these:\\n\\n1) Slim Dow...         1   \n",
       "F  A POWERHOUSE GIFTING PROGRAM You Don't Want To...         1   \n",
       "G  Help wanted.  We are a 14 year old fortune 500...         1   \n",
       "I  <html>\\n\\n<head>\\n\\n<title>ReliaQuote - Save U...         1   \n",
       "J  TIRED OF THE BULL OUT THERE?\\n\\nWant To Stop L...         1   \n",
       "L  Dear ricardo1 ,\\n\\n\\n\\n<html>\\n\\n<body>\\n\\n<ce...         1   \n",
       "\n",
       "                                FILE_NAME  \n",
       "A  00001.7848dde101aa985090474a91ec93fcf0  \n",
       "B  00002.d94f1b97e48ed3b553b3508d116e6a09  \n",
       "C  00003.2ee33bc6eacdb11f38d052c44819ba6c  \n",
       "D  00004.eac8de8d759b7e74154f142194282724  \n",
       "E  00005.57696a39d7d84318ce497886896bf90d  \n",
       "F  00006.5ab5620d3d7c6c0db76234556a16f6c1  \n",
       "G  00007.d8521faf753ff9ee989122f6816f87d7  \n",
       "I  00008.dfd941deb10f5eed78b1594b131c9266  \n",
       "J  00009.027bf6e0b0c4ab34db3ce0ea4bf2edab  \n",
       "L                            HELLO AKSHAY  "
      ]
     },
     "execution_count": 128,
     "metadata": {},
     "output_type": "execute_result"
    }
   ],
   "source": [
    "test_df"
   ]
  },
  {
   "cell_type": "code",
   "execution_count": 129,
   "id": "1d2d92f3",
   "metadata": {},
   "outputs": [],
   "source": [
    "test_df.iat[2,0] = 'MESSAGE BODY'"
   ]
  },
  {
   "cell_type": "code",
   "execution_count": 130,
   "id": "a99876b2",
   "metadata": {},
   "outputs": [
    {
     "data": {
      "text/html": [
       "<div>\n",
       "<style scoped>\n",
       "    .dataframe tbody tr th:only-of-type {\n",
       "        vertical-align: middle;\n",
       "    }\n",
       "\n",
       "    .dataframe tbody tr th {\n",
       "        vertical-align: top;\n",
       "    }\n",
       "\n",
       "    .dataframe thead th {\n",
       "        text-align: right;\n",
       "    }\n",
       "</style>\n",
       "<table border=\"1\" class=\"dataframe\">\n",
       "  <thead>\n",
       "    <tr style=\"text-align: right;\">\n",
       "      <th></th>\n",
       "      <th>MESSAGE</th>\n",
       "      <th>CATEGORY</th>\n",
       "      <th>FILE_NAME</th>\n",
       "    </tr>\n",
       "  </thead>\n",
       "  <tbody>\n",
       "    <tr>\n",
       "      <th>A</th>\n",
       "      <td>&lt;!DOCTYPE HTML PUBLIC \"-//W3C//DTD HTML 4.0 Tr...</td>\n",
       "      <td>1</td>\n",
       "      <td>00001.7848dde101aa985090474a91ec93fcf0</td>\n",
       "    </tr>\n",
       "    <tr>\n",
       "      <th>B</th>\n",
       "      <td>1) Fight The Risk of Cancer!\\n\\nhttp://www.adc...</td>\n",
       "      <td>1</td>\n",
       "      <td>00002.d94f1b97e48ed3b553b3508d116e6a09</td>\n",
       "    </tr>\n",
       "    <tr>\n",
       "      <th>C</th>\n",
       "      <td>MESSAGE BODY</td>\n",
       "      <td>1</td>\n",
       "      <td>00003.2ee33bc6eacdb11f38d052c44819ba6c</td>\n",
       "    </tr>\n",
       "    <tr>\n",
       "      <th>D</th>\n",
       "      <td>##############################################...</td>\n",
       "      <td>1</td>\n",
       "      <td>00004.eac8de8d759b7e74154f142194282724</td>\n",
       "    </tr>\n",
       "    <tr>\n",
       "      <th>E</th>\n",
       "      <td>I thought you might like these:\\n\\n1) Slim Dow...</td>\n",
       "      <td>1</td>\n",
       "      <td>00005.57696a39d7d84318ce497886896bf90d</td>\n",
       "    </tr>\n",
       "    <tr>\n",
       "      <th>F</th>\n",
       "      <td>A POWERHOUSE GIFTING PROGRAM You Don't Want To...</td>\n",
       "      <td>1</td>\n",
       "      <td>00006.5ab5620d3d7c6c0db76234556a16f6c1</td>\n",
       "    </tr>\n",
       "    <tr>\n",
       "      <th>G</th>\n",
       "      <td>Help wanted.  We are a 14 year old fortune 500...</td>\n",
       "      <td>1</td>\n",
       "      <td>00007.d8521faf753ff9ee989122f6816f87d7</td>\n",
       "    </tr>\n",
       "    <tr>\n",
       "      <th>I</th>\n",
       "      <td>&lt;html&gt;\\n\\n&lt;head&gt;\\n\\n&lt;title&gt;ReliaQuote - Save U...</td>\n",
       "      <td>1</td>\n",
       "      <td>00008.dfd941deb10f5eed78b1594b131c9266</td>\n",
       "    </tr>\n",
       "    <tr>\n",
       "      <th>J</th>\n",
       "      <td>TIRED OF THE BULL OUT THERE?\\n\\nWant To Stop L...</td>\n",
       "      <td>1</td>\n",
       "      <td>00009.027bf6e0b0c4ab34db3ce0ea4bf2edab</td>\n",
       "    </tr>\n",
       "    <tr>\n",
       "      <th>L</th>\n",
       "      <td>Dear ricardo1 ,\\n\\n\\n\\n&lt;html&gt;\\n\\n&lt;body&gt;\\n\\n&lt;ce...</td>\n",
       "      <td>1</td>\n",
       "      <td>HELLO AKSHAY</td>\n",
       "    </tr>\n",
       "  </tbody>\n",
       "</table>\n",
       "</div>"
      ],
      "text/plain": [
       "                                             MESSAGE  CATEGORY  \\\n",
       "A  <!DOCTYPE HTML PUBLIC \"-//W3C//DTD HTML 4.0 Tr...         1   \n",
       "B  1) Fight The Risk of Cancer!\\n\\nhttp://www.adc...         1   \n",
       "C                                       MESSAGE BODY         1   \n",
       "D  ##############################################...         1   \n",
       "E  I thought you might like these:\\n\\n1) Slim Dow...         1   \n",
       "F  A POWERHOUSE GIFTING PROGRAM You Don't Want To...         1   \n",
       "G  Help wanted.  We are a 14 year old fortune 500...         1   \n",
       "I  <html>\\n\\n<head>\\n\\n<title>ReliaQuote - Save U...         1   \n",
       "J  TIRED OF THE BULL OUT THERE?\\n\\nWant To Stop L...         1   \n",
       "L  Dear ricardo1 ,\\n\\n\\n\\n<html>\\n\\n<body>\\n\\n<ce...         1   \n",
       "\n",
       "                                FILE_NAME  \n",
       "A  00001.7848dde101aa985090474a91ec93fcf0  \n",
       "B  00002.d94f1b97e48ed3b553b3508d116e6a09  \n",
       "C  00003.2ee33bc6eacdb11f38d052c44819ba6c  \n",
       "D  00004.eac8de8d759b7e74154f142194282724  \n",
       "E  00005.57696a39d7d84318ce497886896bf90d  \n",
       "F  00006.5ab5620d3d7c6c0db76234556a16f6c1  \n",
       "G  00007.d8521faf753ff9ee989122f6816f87d7  \n",
       "I  00008.dfd941deb10f5eed78b1594b131c9266  \n",
       "J  00009.027bf6e0b0c4ab34db3ce0ea4bf2edab  \n",
       "L                            HELLO AKSHAY  "
      ]
     },
     "execution_count": 130,
     "metadata": {},
     "output_type": "execute_result"
    }
   ],
   "source": [
    "test_df"
   ]
  },
  {
   "cell_type": "code",
   "execution_count": 131,
   "id": "18e721d6",
   "metadata": {},
   "outputs": [
    {
     "data": {
      "text/plain": [
       "9"
      ]
     },
     "execution_count": 131,
     "metadata": {},
     "output_type": "execute_result"
    }
   ],
   "source": [
    "test_df.index.get_loc('L') # loc the edited value.."
   ]
  },
  {
   "cell_type": "code",
   "execution_count": 132,
   "id": "f7012563",
   "metadata": {},
   "outputs": [
    {
     "data": {
      "text/plain": [
       "pandas.core.indexes.base.Index"
      ]
     },
     "execution_count": 132,
     "metadata": {},
     "output_type": "execute_result"
    }
   ],
   "source": [
    "type(test_df.index)"
   ]
  },
  {
   "cell_type": "code",
   "execution_count": 133,
   "id": "defa9f68",
   "metadata": {},
   "outputs": [
    {
     "data": {
      "text/plain": [
       "list"
      ]
     },
     "execution_count": 133,
     "metadata": {},
     "output_type": "execute_result"
    }
   ],
   "source": [
    "type(flat_nested_list)"
   ]
  },
  {
   "cell_type": "code",
   "execution_count": 134,
   "id": "e3a0a622",
   "metadata": {},
   "outputs": [],
   "source": [
    "#  find unique words in words data... with pandas.."
   ]
  },
  {
   "cell_type": "code",
   "execution_count": 135,
   "id": "68cbdc95",
   "metadata": {},
   "outputs": [],
   "source": [
    "unique_words = pd.Series(flat_nested_list).value_counts()"
   ]
  },
  {
   "cell_type": "code",
   "execution_count": 136,
   "id": "a6955d89",
   "metadata": {},
   "outputs": [
    {
     "data": {
      "text/plain": [
       "pandas.core.series.Series"
      ]
     },
     "execution_count": 136,
     "metadata": {},
     "output_type": "execute_result"
    }
   ],
   "source": [
    "type(unique_words)"
   ]
  },
  {
   "cell_type": "code",
   "execution_count": 137,
   "id": "cbded13e",
   "metadata": {},
   "outputs": [
    {
     "data": {
      "text/plain": [
       "http        10660\n",
       "use          5021\n",
       "list         4851\n",
       "email        4368\n",
       "get          4201\n",
       "            ...  \n",
       "zoppi           1\n",
       "aspers          1\n",
       "deneb           1\n",
       "dwheeler        1\n",
       "oreilli         1\n",
       "Length: 27334, dtype: int64"
      ]
     },
     "execution_count": 137,
     "metadata": {},
     "output_type": "execute_result"
    }
   ],
   "source": [
    "unique_words"
   ]
  },
  {
   "cell_type": "code",
   "execution_count": 138,
   "id": "12291432",
   "metadata": {},
   "outputs": [],
   "source": [
    "# find frequent words from unique_words... take first 2500 words.."
   ]
  },
  {
   "cell_type": "code",
   "execution_count": 139,
   "id": "8437b928",
   "metadata": {},
   "outputs": [
    {
     "data": {
      "text/plain": [
       "http      10660\n",
       "use        5021\n",
       "list       4851\n",
       "email      4368\n",
       "get        4201\n",
       "          ...  \n",
       "flight       44\n",
       "steven       43\n",
       "manner       43\n",
       "rapid        43\n",
       "missil       43\n",
       "Length: 2500, dtype: int64"
      ]
     },
     "execution_count": 139,
     "metadata": {},
     "output_type": "execute_result"
    }
   ],
   "source": [
    "frequent_words = unique_words[:2500]\n",
    "frequent_words"
   ]
  },
  {
   "cell_type": "code",
   "execution_count": 140,
   "id": "ec670b7a",
   "metadata": {},
   "outputs": [
    {
     "data": {
      "text/plain": [
       "Index(['http', 'use', 'list', 'email', 'get', 'mail', 'one', 'free', 'time',\n",
       "       'work',\n",
       "       ...\n",
       "       'scope', 'asian', 'con', 'rm', 'telecommun', 'flight', 'steven',\n",
       "       'manner', 'rapid', 'missil'],\n",
       "      dtype='object', length=2500)"
      ]
     },
     "execution_count": 140,
     "metadata": {},
     "output_type": "execute_result"
    }
   ],
   "source": [
    "frequent_words.index"
   ]
  },
  {
   "cell_type": "code",
   "execution_count": 141,
   "id": "d0021e70",
   "metadata": {},
   "outputs": [],
   "source": [
    "# frequent_words.index...make as column words..."
   ]
  },
  {
   "cell_type": "code",
   "execution_count": 142,
   "id": "5e89f9ba",
   "metadata": {},
   "outputs": [
    {
     "data": {
      "text/html": [
       "<div>\n",
       "<style scoped>\n",
       "    .dataframe tbody tr th:only-of-type {\n",
       "        vertical-align: middle;\n",
       "    }\n",
       "\n",
       "    .dataframe tbody tr th {\n",
       "        vertical-align: top;\n",
       "    }\n",
       "\n",
       "    .dataframe thead th {\n",
       "        text-align: right;\n",
       "    }\n",
       "</style>\n",
       "<table border=\"1\" class=\"dataframe\">\n",
       "  <thead>\n",
       "    <tr style=\"text-align: right;\">\n",
       "      <th></th>\n",
       "      <th>VOCAB_WORD</th>\n",
       "    </tr>\n",
       "  </thead>\n",
       "  <tbody>\n",
       "    <tr>\n",
       "      <th>0</th>\n",
       "      <td>http</td>\n",
       "    </tr>\n",
       "    <tr>\n",
       "      <th>1</th>\n",
       "      <td>use</td>\n",
       "    </tr>\n",
       "    <tr>\n",
       "      <th>2</th>\n",
       "      <td>list</td>\n",
       "    </tr>\n",
       "    <tr>\n",
       "      <th>3</th>\n",
       "      <td>email</td>\n",
       "    </tr>\n",
       "    <tr>\n",
       "      <th>4</th>\n",
       "      <td>get</td>\n",
       "    </tr>\n",
       "    <tr>\n",
       "      <th>...</th>\n",
       "      <td>...</td>\n",
       "    </tr>\n",
       "    <tr>\n",
       "      <th>2495</th>\n",
       "      <td>flight</td>\n",
       "    </tr>\n",
       "    <tr>\n",
       "      <th>2496</th>\n",
       "      <td>steven</td>\n",
       "    </tr>\n",
       "    <tr>\n",
       "      <th>2497</th>\n",
       "      <td>manner</td>\n",
       "    </tr>\n",
       "    <tr>\n",
       "      <th>2498</th>\n",
       "      <td>rapid</td>\n",
       "    </tr>\n",
       "    <tr>\n",
       "      <th>2499</th>\n",
       "      <td>missil</td>\n",
       "    </tr>\n",
       "  </tbody>\n",
       "</table>\n",
       "<p>2500 rows × 1 columns</p>\n",
       "</div>"
      ],
      "text/plain": [
       "     VOCAB_WORD\n",
       "0          http\n",
       "1           use\n",
       "2          list\n",
       "3         email\n",
       "4           get\n",
       "...         ...\n",
       "2495     flight\n",
       "2496     steven\n",
       "2497     manner\n",
       "2498      rapid\n",
       "2499     missil\n",
       "\n",
       "[2500 rows x 1 columns]"
      ]
     },
     "execution_count": 142,
     "metadata": {},
     "output_type": "execute_result"
    }
   ],
   "source": [
    "vocab = pd.DataFrame({'VOCAB_WORD' : frequent_words.index})\n",
    "vocab"
   ]
  },
  {
   "cell_type": "code",
   "execution_count": 143,
   "id": "c00ab74a",
   "metadata": {},
   "outputs": [],
   "source": [
    "vocab.index.name = 'WORD_ID'"
   ]
  },
  {
   "cell_type": "code",
   "execution_count": 144,
   "id": "524d0c0f",
   "metadata": {},
   "outputs": [
    {
     "data": {
      "text/html": [
       "<div>\n",
       "<style scoped>\n",
       "    .dataframe tbody tr th:only-of-type {\n",
       "        vertical-align: middle;\n",
       "    }\n",
       "\n",
       "    .dataframe tbody tr th {\n",
       "        vertical-align: top;\n",
       "    }\n",
       "\n",
       "    .dataframe thead th {\n",
       "        text-align: right;\n",
       "    }\n",
       "</style>\n",
       "<table border=\"1\" class=\"dataframe\">\n",
       "  <thead>\n",
       "    <tr style=\"text-align: right;\">\n",
       "      <th></th>\n",
       "      <th>VOCAB_WORD</th>\n",
       "    </tr>\n",
       "    <tr>\n",
       "      <th>WORD_ID</th>\n",
       "      <th></th>\n",
       "    </tr>\n",
       "  </thead>\n",
       "  <tbody>\n",
       "    <tr>\n",
       "      <th>0</th>\n",
       "      <td>http</td>\n",
       "    </tr>\n",
       "    <tr>\n",
       "      <th>1</th>\n",
       "      <td>use</td>\n",
       "    </tr>\n",
       "    <tr>\n",
       "      <th>2</th>\n",
       "      <td>list</td>\n",
       "    </tr>\n",
       "    <tr>\n",
       "      <th>3</th>\n",
       "      <td>email</td>\n",
       "    </tr>\n",
       "    <tr>\n",
       "      <th>4</th>\n",
       "      <td>get</td>\n",
       "    </tr>\n",
       "    <tr>\n",
       "      <th>...</th>\n",
       "      <td>...</td>\n",
       "    </tr>\n",
       "    <tr>\n",
       "      <th>2495</th>\n",
       "      <td>flight</td>\n",
       "    </tr>\n",
       "    <tr>\n",
       "      <th>2496</th>\n",
       "      <td>steven</td>\n",
       "    </tr>\n",
       "    <tr>\n",
       "      <th>2497</th>\n",
       "      <td>manner</td>\n",
       "    </tr>\n",
       "    <tr>\n",
       "      <th>2498</th>\n",
       "      <td>rapid</td>\n",
       "    </tr>\n",
       "    <tr>\n",
       "      <th>2499</th>\n",
       "      <td>missil</td>\n",
       "    </tr>\n",
       "  </tbody>\n",
       "</table>\n",
       "<p>2500 rows × 1 columns</p>\n",
       "</div>"
      ],
      "text/plain": [
       "        VOCAB_WORD\n",
       "WORD_ID           \n",
       "0             http\n",
       "1              use\n",
       "2             list\n",
       "3            email\n",
       "4              get\n",
       "...            ...\n",
       "2495        flight\n",
       "2496        steven\n",
       "2497        manner\n",
       "2498         rapid\n",
       "2499        missil\n",
       "\n",
       "[2500 rows x 1 columns]"
      ]
     },
     "execution_count": 144,
     "metadata": {},
     "output_type": "execute_result"
    }
   ],
   "source": [
    "vocab"
   ]
  },
  {
   "cell_type": "code",
   "execution_count": 145,
   "id": "bdc39bf4",
   "metadata": {},
   "outputs": [],
   "source": [
    "# vocab data store as csv file format..."
   ]
  },
  {
   "cell_type": "code",
   "execution_count": 146,
   "id": "d8418227",
   "metadata": {},
   "outputs": [],
   "source": [
    "WORD_ID_FILE = 'SpamData/01_Processing/word1-by-id.csv'\n",
    "vocab.to_csv(WORD_ID_FILE, index_label = vocab.index.name, header = vocab.VOCAB_WORD.name)"
   ]
  },
  {
   "cell_type": "code",
   "execution_count": 147,
   "id": "4700ac27",
   "metadata": {},
   "outputs": [
    {
     "data": {
      "text/plain": [
       "WORD_ID\n",
       "0       False\n",
       "1       False\n",
       "2       False\n",
       "3       False\n",
       "4       False\n",
       "        ...  \n",
       "2495    False\n",
       "2496    False\n",
       "2497    False\n",
       "2498    False\n",
       "2499    False\n",
       "Name: VOCAB_WORD, Length: 2500, dtype: bool"
      ]
     },
     "execution_count": 147,
     "metadata": {},
     "output_type": "execute_result"
    }
   ],
   "source": [
    "vocab.VOCAB_WORD == 'AKSHAY KUMAR'"
   ]
  },
  {
   "cell_type": "code",
   "execution_count": 148,
   "id": "547860b0",
   "metadata": {},
   "outputs": [],
   "source": [
    "# Check whether word is there or not in data..."
   ]
  },
  {
   "cell_type": "code",
   "execution_count": 149,
   "id": "5ed6ae29",
   "metadata": {},
   "outputs": [
    {
     "data": {
      "text/plain": [
       "False"
      ]
     },
     "execution_count": 149,
     "metadata": {},
     "output_type": "execute_result"
    }
   ],
   "source": [
    "any(vocab.VOCAB_WORD == 'AKSHAY KUMAR')"
   ]
  },
  {
   "cell_type": "code",
   "execution_count": 150,
   "id": "78eab415",
   "metadata": {},
   "outputs": [
    {
     "data": {
      "text/plain": [
       "True"
      ]
     },
     "execution_count": 150,
     "metadata": {},
     "output_type": "execute_result"
    }
   ],
   "source": [
    "any(vocab.VOCAB_WORD == 'flight')"
   ]
  },
  {
   "cell_type": "code",
   "execution_count": 151,
   "id": "34b91014",
   "metadata": {},
   "outputs": [],
   "source": [
    "# or also check like this "
   ]
  },
  {
   "cell_type": "code",
   "execution_count": 152,
   "id": "a73c374b",
   "metadata": {},
   "outputs": [
    {
     "data": {
      "text/plain": [
       "False"
      ]
     },
     "execution_count": 152,
     "metadata": {},
     "output_type": "execute_result"
    }
   ],
   "source": [
    "'AKSHAY KUMAR' in set(vocab.VOCAB_WORD)"
   ]
  },
  {
   "cell_type": "code",
   "execution_count": 153,
   "id": "02a33c00",
   "metadata": {},
   "outputs": [
    {
     "data": {
      "text/plain": [
       "True"
      ]
     },
     "execution_count": 153,
     "metadata": {},
     "output_type": "execute_result"
    }
   ],
   "source": [
    "'flight' in set(vocab.VOCAB_WORD)"
   ]
  },
  {
   "cell_type": "code",
   "execution_count": 154,
   "id": "f7cd29eb",
   "metadata": {},
   "outputs": [],
   "source": [
    "# .tolist() and .from_records ...... words are converted into table format...."
   ]
  },
  {
   "cell_type": "code",
   "execution_count": 155,
   "id": "2a1743c2",
   "metadata": {},
   "outputs": [
    {
     "data": {
      "text/plain": [
       "pandas.core.series.Series"
      ]
     },
     "execution_count": 155,
     "metadata": {},
     "output_type": "execute_result"
    }
   ],
   "source": [
    "type(nested_list)"
   ]
  },
  {
   "cell_type": "code",
   "execution_count": 156,
   "id": "d6a35ffb",
   "metadata": {},
   "outputs": [
    {
     "data": {
      "text/plain": [
       "list"
      ]
     },
     "execution_count": 156,
     "metadata": {},
     "output_type": "execute_result"
    }
   ],
   "source": [
    "nested_list_after_tolist = nested_list.tolist()\n",
    "type(nested_list_after_tolist)"
   ]
  },
  {
   "cell_type": "code",
   "execution_count": 157,
   "id": "57a6fc8a",
   "metadata": {},
   "outputs": [
    {
     "data": {
      "text/html": [
       "<div>\n",
       "<style scoped>\n",
       "    .dataframe tbody tr th:only-of-type {\n",
       "        vertical-align: middle;\n",
       "    }\n",
       "\n",
       "    .dataframe tbody tr th {\n",
       "        vertical-align: top;\n",
       "    }\n",
       "\n",
       "    .dataframe thead th {\n",
       "        text-align: right;\n",
       "    }\n",
       "</style>\n",
       "<table border=\"1\" class=\"dataframe\">\n",
       "  <thead>\n",
       "    <tr style=\"text-align: right;\">\n",
       "      <th></th>\n",
       "      <th>0</th>\n",
       "      <th>1</th>\n",
       "      <th>2</th>\n",
       "      <th>3</th>\n",
       "      <th>4</th>\n",
       "      <th>5</th>\n",
       "      <th>6</th>\n",
       "      <th>7</th>\n",
       "      <th>8</th>\n",
       "      <th>9</th>\n",
       "      <th>...</th>\n",
       "      <th>7661</th>\n",
       "      <th>7662</th>\n",
       "      <th>7663</th>\n",
       "      <th>7664</th>\n",
       "      <th>7665</th>\n",
       "      <th>7666</th>\n",
       "      <th>7667</th>\n",
       "      <th>7668</th>\n",
       "      <th>7669</th>\n",
       "      <th>7670</th>\n",
       "    </tr>\n",
       "  </thead>\n",
       "  <tbody>\n",
       "    <tr>\n",
       "      <th>0</th>\n",
       "      <td>save</td>\n",
       "      <td>life</td>\n",
       "      <td>insur</td>\n",
       "      <td>spend</td>\n",
       "      <td>life</td>\n",
       "      <td>quot</td>\n",
       "      <td>save</td>\n",
       "      <td>g</td>\n",
       "      <td>famili</td>\n",
       "      <td>financi</td>\n",
       "      <td>...</td>\n",
       "      <td>None</td>\n",
       "      <td>None</td>\n",
       "      <td>None</td>\n",
       "      <td>None</td>\n",
       "      <td>None</td>\n",
       "      <td>None</td>\n",
       "      <td>None</td>\n",
       "      <td>None</td>\n",
       "      <td>None</td>\n",
       "      <td>None</td>\n",
       "    </tr>\n",
       "    <tr>\n",
       "      <th>1</th>\n",
       "      <td>fight</td>\n",
       "      <td>risk</td>\n",
       "      <td>cancer</td>\n",
       "      <td>http</td>\n",
       "      <td>slim</td>\n",
       "      <td>guarante</td>\n",
       "      <td>lose</td>\n",
       "      <td>lb</td>\n",
       "      <td>day</td>\n",
       "      <td>http</td>\n",
       "      <td>...</td>\n",
       "      <td>None</td>\n",
       "      <td>None</td>\n",
       "      <td>None</td>\n",
       "      <td>None</td>\n",
       "      <td>None</td>\n",
       "      <td>None</td>\n",
       "      <td>None</td>\n",
       "      <td>None</td>\n",
       "      <td>None</td>\n",
       "      <td>None</td>\n",
       "    </tr>\n",
       "    <tr>\n",
       "      <th>2</th>\n",
       "      <td>fight</td>\n",
       "      <td>risk</td>\n",
       "      <td>cancer</td>\n",
       "      <td>http</td>\n",
       "      <td>slim</td>\n",
       "      <td>guarante</td>\n",
       "      <td>lose</td>\n",
       "      <td>lb</td>\n",
       "      <td>day</td>\n",
       "      <td>http</td>\n",
       "      <td>...</td>\n",
       "      <td>None</td>\n",
       "      <td>None</td>\n",
       "      <td>None</td>\n",
       "      <td>None</td>\n",
       "      <td>None</td>\n",
       "      <td>None</td>\n",
       "      <td>None</td>\n",
       "      <td>None</td>\n",
       "      <td>None</td>\n",
       "      <td>None</td>\n",
       "    </tr>\n",
       "    <tr>\n",
       "      <th>3</th>\n",
       "      <td>adult</td>\n",
       "      <td>club</td>\n",
       "      <td>offer</td>\n",
       "      <td>free</td>\n",
       "      <td>membership</td>\n",
       "      <td>instant</td>\n",
       "      <td>access</td>\n",
       "      <td>site</td>\n",
       "      <td>user</td>\n",
       "      <td>name</td>\n",
       "      <td>...</td>\n",
       "      <td>None</td>\n",
       "      <td>None</td>\n",
       "      <td>None</td>\n",
       "      <td>None</td>\n",
       "      <td>None</td>\n",
       "      <td>None</td>\n",
       "      <td>None</td>\n",
       "      <td>None</td>\n",
       "      <td>None</td>\n",
       "      <td>None</td>\n",
       "    </tr>\n",
       "    <tr>\n",
       "      <th>4</th>\n",
       "      <td>thought</td>\n",
       "      <td>might</td>\n",
       "      <td>like</td>\n",
       "      <td>slim</td>\n",
       "      <td>guarante</td>\n",
       "      <td>lose</td>\n",
       "      <td>lb</td>\n",
       "      <td>day</td>\n",
       "      <td>http</td>\n",
       "      <td>fight</td>\n",
       "      <td>...</td>\n",
       "      <td>None</td>\n",
       "      <td>None</td>\n",
       "      <td>None</td>\n",
       "      <td>None</td>\n",
       "      <td>None</td>\n",
       "      <td>None</td>\n",
       "      <td>None</td>\n",
       "      <td>None</td>\n",
       "      <td>None</td>\n",
       "      <td>None</td>\n",
       "    </tr>\n",
       "    <tr>\n",
       "      <th>...</th>\n",
       "      <td>...</td>\n",
       "      <td>...</td>\n",
       "      <td>...</td>\n",
       "      <td>...</td>\n",
       "      <td>...</td>\n",
       "      <td>...</td>\n",
       "      <td>...</td>\n",
       "      <td>...</td>\n",
       "      <td>...</td>\n",
       "      <td>...</td>\n",
       "      <td>...</td>\n",
       "      <td>...</td>\n",
       "      <td>...</td>\n",
       "      <td>...</td>\n",
       "      <td>...</td>\n",
       "      <td>...</td>\n",
       "      <td>...</td>\n",
       "      <td>...</td>\n",
       "      <td>...</td>\n",
       "      <td>...</td>\n",
       "      <td>...</td>\n",
       "    </tr>\n",
       "    <tr>\n",
       "      <th>5792</th>\n",
       "      <td>http</td>\n",
       "      <td>bizarr</td>\n",
       "      <td>collect</td>\n",
       "      <td>stuf</td>\n",
       "      <td>anim</td>\n",
       "      <td>could</td>\n",
       "      <td>fetch</td>\n",
       "      <td>sold</td>\n",
       "      <td>cornwal</td>\n",
       "      <td>museum</td>\n",
       "      <td>...</td>\n",
       "      <td>None</td>\n",
       "      <td>None</td>\n",
       "      <td>None</td>\n",
       "      <td>None</td>\n",
       "      <td>None</td>\n",
       "      <td>None</td>\n",
       "      <td>None</td>\n",
       "      <td>None</td>\n",
       "      <td>None</td>\n",
       "      <td>None</td>\n",
       "    </tr>\n",
       "    <tr>\n",
       "      <th>5793</th>\n",
       "      <td>care</td>\n",
       "      <td>use</td>\n",
       "      <td>one</td>\n",
       "      <td>also</td>\n",
       "      <td>realli</td>\n",
       "      <td>cute</td>\n",
       "      <td>thing</td>\n",
       "      <td>japanes</td>\n",
       "      <td>av</td>\n",
       "      <td>girl</td>\n",
       "      <td>...</td>\n",
       "      <td>None</td>\n",
       "      <td>None</td>\n",
       "      <td>None</td>\n",
       "      <td>None</td>\n",
       "      <td>None</td>\n",
       "      <td>None</td>\n",
       "      <td>None</td>\n",
       "      <td>None</td>\n",
       "      <td>None</td>\n",
       "      <td>None</td>\n",
       "    </tr>\n",
       "    <tr>\n",
       "      <th>5794</th>\n",
       "      <td>sm</td>\n",
       "      <td>skip</td>\n",
       "      <td>montanaro</td>\n",
       "      <td>write</td>\n",
       "      <td>jeremi</td>\n",
       "      <td>put</td>\n",
       "      <td>anoth</td>\n",
       "      <td>way</td>\n",
       "      <td>interest</td>\n",
       "      <td>hear</td>\n",
       "      <td>...</td>\n",
       "      <td>None</td>\n",
       "      <td>None</td>\n",
       "      <td>None</td>\n",
       "      <td>None</td>\n",
       "      <td>None</td>\n",
       "      <td>None</td>\n",
       "      <td>None</td>\n",
       "      <td>None</td>\n",
       "      <td>None</td>\n",
       "      <td>None</td>\n",
       "    </tr>\n",
       "    <tr>\n",
       "      <th>5795</th>\n",
       "      <td>mark</td>\n",
       "      <td>hammond</td>\n",
       "      <td>like</td>\n",
       "      <td>given</td>\n",
       "      <td>zodb</td>\n",
       "      <td>sound</td>\n",
       "      <td>attract</td>\n",
       "      <td>would</td>\n",
       "      <td>packag</td>\n",
       "      <td>hundr</td>\n",
       "      <td>...</td>\n",
       "      <td>None</td>\n",
       "      <td>None</td>\n",
       "      <td>None</td>\n",
       "      <td>None</td>\n",
       "      <td>None</td>\n",
       "      <td>None</td>\n",
       "      <td>None</td>\n",
       "      <td>None</td>\n",
       "      <td>None</td>\n",
       "      <td>None</td>\n",
       "    </tr>\n",
       "    <tr>\n",
       "      <th>5796</th>\n",
       "      <td>hi</td>\n",
       "      <td>probabl</td>\n",
       "      <td>use</td>\n",
       "      <td>whatsoev</td>\n",
       "      <td>also</td>\n",
       "      <td>problem</td>\n",
       "      <td>regard</td>\n",
       "      <td>nvidia</td>\n",
       "      <td>two</td>\n",
       "      <td>machin</td>\n",
       "      <td>...</td>\n",
       "      <td>None</td>\n",
       "      <td>None</td>\n",
       "      <td>None</td>\n",
       "      <td>None</td>\n",
       "      <td>None</td>\n",
       "      <td>None</td>\n",
       "      <td>None</td>\n",
       "      <td>None</td>\n",
       "      <td>None</td>\n",
       "      <td>None</td>\n",
       "    </tr>\n",
       "  </tbody>\n",
       "</table>\n",
       "<p>5797 rows × 7671 columns</p>\n",
       "</div>"
      ],
      "text/plain": [
       "         0        1          2         3           4         5        6     \\\n",
       "0        save     life      insur     spend        life      quot     save   \n",
       "1       fight     risk     cancer      http        slim  guarante     lose   \n",
       "2       fight     risk     cancer      http        slim  guarante     lose   \n",
       "3       adult     club      offer      free  membership   instant   access   \n",
       "4     thought    might       like      slim    guarante      lose       lb   \n",
       "...       ...      ...        ...       ...         ...       ...      ...   \n",
       "5792     http   bizarr    collect      stuf        anim     could    fetch   \n",
       "5793     care      use        one      also      realli      cute    thing   \n",
       "5794       sm     skip  montanaro     write      jeremi       put    anoth   \n",
       "5795     mark  hammond       like     given        zodb     sound  attract   \n",
       "5796       hi  probabl        use  whatsoev        also   problem   regard   \n",
       "\n",
       "         7         8        9     ...  7661  7662  7663  7664  7665  7666  \\\n",
       "0           g    famili  financi  ...  None  None  None  None  None  None   \n",
       "1          lb       day     http  ...  None  None  None  None  None  None   \n",
       "2          lb       day     http  ...  None  None  None  None  None  None   \n",
       "3        site      user     name  ...  None  None  None  None  None  None   \n",
       "4         day      http    fight  ...  None  None  None  None  None  None   \n",
       "...       ...       ...      ...  ...   ...   ...   ...   ...   ...   ...   \n",
       "5792     sold   cornwal   museum  ...  None  None  None  None  None  None   \n",
       "5793  japanes        av     girl  ...  None  None  None  None  None  None   \n",
       "5794      way  interest     hear  ...  None  None  None  None  None  None   \n",
       "5795    would    packag    hundr  ...  None  None  None  None  None  None   \n",
       "5796   nvidia       two   machin  ...  None  None  None  None  None  None   \n",
       "\n",
       "      7667  7668  7669  7670  \n",
       "0     None  None  None  None  \n",
       "1     None  None  None  None  \n",
       "2     None  None  None  None  \n",
       "3     None  None  None  None  \n",
       "4     None  None  None  None  \n",
       "...    ...   ...   ...   ...  \n",
       "5792  None  None  None  None  \n",
       "5793  None  None  None  None  \n",
       "5794  None  None  None  None  \n",
       "5795  None  None  None  None  \n",
       "5796  None  None  None  None  \n",
       "\n",
       "[5797 rows x 7671 columns]"
      ]
     },
     "execution_count": 157,
     "metadata": {},
     "output_type": "execute_result"
    }
   ],
   "source": [
    "word_columns_df = pd.DataFrame.from_records(nested_list_after_tolist)\n",
    "word_columns_df"
   ]
  },
  {
   "cell_type": "code",
   "execution_count": 158,
   "id": "74d7a87a",
   "metadata": {},
   "outputs": [
    {
     "data": {
      "text/plain": [
       "(5797, 7671)"
      ]
     },
     "execution_count": 158,
     "metadata": {},
     "output_type": "execute_result"
    }
   ],
   "source": [
    "word_columns_df.shape   # check the shape of word_columns_df..."
   ]
  },
  {
   "cell_type": "code",
   "execution_count": 159,
   "id": "5b7d6c1e",
   "metadata": {},
   "outputs": [],
   "source": [
    "# "
   ]
  },
  {
   "cell_type": "code",
   "execution_count": 160,
   "id": "434b1c56",
   "metadata": {},
   "outputs": [],
   "source": [
    "x_train, x_test, y_train, y_test = train_test_split(word_columns_df, data.CATEGORY, test_size = 0.3, random_state = 42)"
   ]
  },
  {
   "cell_type": "code",
   "execution_count": 161,
   "id": "725faa53",
   "metadata": {},
   "outputs": [
    {
     "data": {
      "text/html": [
       "<div>\n",
       "<style scoped>\n",
       "    .dataframe tbody tr th:only-of-type {\n",
       "        vertical-align: middle;\n",
       "    }\n",
       "\n",
       "    .dataframe tbody tr th {\n",
       "        vertical-align: top;\n",
       "    }\n",
       "\n",
       "    .dataframe thead th {\n",
       "        text-align: right;\n",
       "    }\n",
       "</style>\n",
       "<table border=\"1\" class=\"dataframe\">\n",
       "  <thead>\n",
       "    <tr style=\"text-align: right;\">\n",
       "      <th></th>\n",
       "      <th>0</th>\n",
       "      <th>1</th>\n",
       "      <th>2</th>\n",
       "      <th>3</th>\n",
       "      <th>4</th>\n",
       "      <th>5</th>\n",
       "      <th>6</th>\n",
       "      <th>7</th>\n",
       "      <th>8</th>\n",
       "      <th>9</th>\n",
       "      <th>...</th>\n",
       "      <th>7661</th>\n",
       "      <th>7662</th>\n",
       "      <th>7663</th>\n",
       "      <th>7664</th>\n",
       "      <th>7665</th>\n",
       "      <th>7666</th>\n",
       "      <th>7667</th>\n",
       "      <th>7668</th>\n",
       "      <th>7669</th>\n",
       "      <th>7670</th>\n",
       "    </tr>\n",
       "  </thead>\n",
       "  <tbody>\n",
       "    <tr>\n",
       "      <th>2890</th>\n",
       "      <td>hal</td>\n",
       "      <td>devor</td>\n",
       "      <td>sender</td>\n",
       "      <td>date</td>\n",
       "      <td>mon</td>\n",
       "      <td>sep</td>\n",
       "      <td>mon</td>\n",
       "      <td>sep</td>\n",
       "      <td>rick</td>\n",
       "      <td>rick</td>\n",
       "      <td>...</td>\n",
       "      <td>None</td>\n",
       "      <td>None</td>\n",
       "      <td>None</td>\n",
       "      <td>None</td>\n",
       "      <td>None</td>\n",
       "      <td>None</td>\n",
       "      <td>None</td>\n",
       "      <td>None</td>\n",
       "      <td>None</td>\n",
       "      <td>None</td>\n",
       "    </tr>\n",
       "    <tr>\n",
       "      <th>5070</th>\n",
       "      <td>thu</td>\n",
       "      <td>jul</td>\n",
       "      <td>matthia</td>\n",
       "      <td>saou</td>\n",
       "      <td>wrote</td>\n",
       "      <td>upon</td>\n",
       "      <td>time</td>\n",
       "      <td>matthia</td>\n",
       "      <td>wrote</td>\n",
       "      <td>see</td>\n",
       "      <td>...</td>\n",
       "      <td>None</td>\n",
       "      <td>None</td>\n",
       "      <td>None</td>\n",
       "      <td>None</td>\n",
       "      <td>None</td>\n",
       "      <td>None</td>\n",
       "      <td>None</td>\n",
       "      <td>None</td>\n",
       "      <td>None</td>\n",
       "      <td>None</td>\n",
       "    </tr>\n",
       "    <tr>\n",
       "      <th>1293</th>\n",
       "      <td>tremend</td>\n",
       "      <td>save</td>\n",
       "      <td>toner</td>\n",
       "      <td>inkjet</td>\n",
       "      <td>fax</td>\n",
       "      <td>thermal</td>\n",
       "      <td>replenish</td>\n",
       "      <td>toner</td>\n",
       "      <td>go</td>\n",
       "      <td>secret</td>\n",
       "      <td>...</td>\n",
       "      <td>None</td>\n",
       "      <td>None</td>\n",
       "      <td>None</td>\n",
       "      <td>None</td>\n",
       "      <td>None</td>\n",
       "      <td>None</td>\n",
       "      <td>None</td>\n",
       "      <td>None</td>\n",
       "      <td>None</td>\n",
       "      <td>None</td>\n",
       "    </tr>\n",
       "    <tr>\n",
       "      <th>4355</th>\n",
       "      <td>offici</td>\n",
       "      <td>failur</td>\n",
       "      <td>one</td>\n",
       "      <td>form</td>\n",
       "      <td>colleg</td>\n",
       "      <td>colleagu</td>\n",
       "      <td>yvett</td>\n",
       "      <td>cooper</td>\n",
       "      <td>mp</td>\n",
       "      <td>pontefract</td>\n",
       "      <td>...</td>\n",
       "      <td>None</td>\n",
       "      <td>None</td>\n",
       "      <td>None</td>\n",
       "      <td>None</td>\n",
       "      <td>None</td>\n",
       "      <td>None</td>\n",
       "      <td>None</td>\n",
       "      <td>None</td>\n",
       "      <td>None</td>\n",
       "      <td>None</td>\n",
       "    </tr>\n",
       "    <tr>\n",
       "      <th>4845</th>\n",
       "      <td>ye</td>\n",
       "      <td>inde</td>\n",
       "      <td>agent</td>\n",
       "      <td>directori</td>\n",
       "      <td>verita</td>\n",
       "      <td>cd</td>\n",
       "      <td>unix</td>\n",
       "      <td>subdirectori</td>\n",
       "      <td>file</td>\n",
       "      <td>call</td>\n",
       "      <td>...</td>\n",
       "      <td>None</td>\n",
       "      <td>None</td>\n",
       "      <td>None</td>\n",
       "      <td>None</td>\n",
       "      <td>None</td>\n",
       "      <td>None</td>\n",
       "      <td>None</td>\n",
       "      <td>None</td>\n",
       "      <td>None</td>\n",
       "      <td>None</td>\n",
       "    </tr>\n",
       "  </tbody>\n",
       "</table>\n",
       "<p>5 rows × 7671 columns</p>\n",
       "</div>"
      ],
      "text/plain": [
       "         0       1        2          3       4         5          6     \\\n",
       "2890      hal   devor   sender       date     mon       sep        mon   \n",
       "5070      thu     jul  matthia       saou   wrote      upon       time   \n",
       "1293  tremend    save    toner     inkjet     fax   thermal  replenish   \n",
       "4355   offici  failur      one       form  colleg  colleagu      yvett   \n",
       "4845       ye    inde    agent  directori  verita        cd       unix   \n",
       "\n",
       "              7      8           9     ...  7661  7662  7663  7664  7665  \\\n",
       "2890           sep   rick        rick  ...  None  None  None  None  None   \n",
       "5070       matthia  wrote         see  ...  None  None  None  None  None   \n",
       "1293         toner     go      secret  ...  None  None  None  None  None   \n",
       "4355        cooper     mp  pontefract  ...  None  None  None  None  None   \n",
       "4845  subdirectori   file        call  ...  None  None  None  None  None   \n",
       "\n",
       "      7666  7667  7668  7669  7670  \n",
       "2890  None  None  None  None  None  \n",
       "5070  None  None  None  None  None  \n",
       "1293  None  None  None  None  None  \n",
       "4355  None  None  None  None  None  \n",
       "4845  None  None  None  None  None  \n",
       "\n",
       "[5 rows x 7671 columns]"
      ]
     },
     "execution_count": 161,
     "metadata": {},
     "output_type": "execute_result"
    }
   ],
   "source": [
    "x_train.head()"
   ]
  },
  {
   "cell_type": "code",
   "execution_count": 162,
   "id": "c4a82a9b",
   "metadata": {},
   "outputs": [
    {
     "data": {
      "text/html": [
       "<div>\n",
       "<style scoped>\n",
       "    .dataframe tbody tr th:only-of-type {\n",
       "        vertical-align: middle;\n",
       "    }\n",
       "\n",
       "    .dataframe tbody tr th {\n",
       "        vertical-align: top;\n",
       "    }\n",
       "\n",
       "    .dataframe thead th {\n",
       "        text-align: right;\n",
       "    }\n",
       "</style>\n",
       "<table border=\"1\" class=\"dataframe\">\n",
       "  <thead>\n",
       "    <tr style=\"text-align: right;\">\n",
       "      <th></th>\n",
       "      <th>0</th>\n",
       "      <th>1</th>\n",
       "      <th>2</th>\n",
       "      <th>3</th>\n",
       "      <th>4</th>\n",
       "      <th>5</th>\n",
       "      <th>6</th>\n",
       "      <th>7</th>\n",
       "      <th>8</th>\n",
       "      <th>9</th>\n",
       "      <th>...</th>\n",
       "      <th>7661</th>\n",
       "      <th>7662</th>\n",
       "      <th>7663</th>\n",
       "      <th>7664</th>\n",
       "      <th>7665</th>\n",
       "      <th>7666</th>\n",
       "      <th>7667</th>\n",
       "      <th>7668</th>\n",
       "      <th>7669</th>\n",
       "      <th>7670</th>\n",
       "    </tr>\n",
       "  </thead>\n",
       "  <tbody>\n",
       "    <tr>\n",
       "      <th>3733</th>\n",
       "      <td>url</td>\n",
       "      <td>http</td>\n",
       "      <td>date</td>\n",
       "      <td>suppli</td>\n",
       "      <td>articl</td>\n",
       "      <td>scam</td>\n",
       "      <td>expert</td>\n",
       "      <td>beliv</td>\n",
       "      <td>mom</td>\n",
       "      <td>beat</td>\n",
       "      <td>...</td>\n",
       "      <td>None</td>\n",
       "      <td>None</td>\n",
       "      <td>None</td>\n",
       "      <td>None</td>\n",
       "      <td>None</td>\n",
       "      <td>None</td>\n",
       "      <td>None</td>\n",
       "      <td>None</td>\n",
       "      <td>None</td>\n",
       "      <td>None</td>\n",
       "    </tr>\n",
       "    <tr>\n",
       "      <th>4463</th>\n",
       "      <td>brian</td>\n",
       "      <td>wrote</td>\n",
       "      <td>howev</td>\n",
       "      <td>data</td>\n",
       "      <td>read</td>\n",
       "      <td>written</td>\n",
       "      <td>twice</td>\n",
       "      <td>sourc</td>\n",
       "      <td>tar</td>\n",
       "      <td>read</td>\n",
       "      <td>...</td>\n",
       "      <td>None</td>\n",
       "      <td>None</td>\n",
       "      <td>None</td>\n",
       "      <td>None</td>\n",
       "      <td>None</td>\n",
       "      <td>None</td>\n",
       "      <td>None</td>\n",
       "      <td>None</td>\n",
       "      <td>None</td>\n",
       "      <td>None</td>\n",
       "    </tr>\n",
       "    <tr>\n",
       "      <th>812</th>\n",
       "      <td>money</td>\n",
       "      <td>merchant</td>\n",
       "      <td>account</td>\n",
       "      <td>busi</td>\n",
       "      <td>start</td>\n",
       "      <td>new</td>\n",
       "      <td>busi</td>\n",
       "      <td>know</td>\n",
       "      <td>someon</td>\n",
       "      <td>abl</td>\n",
       "      <td>...</td>\n",
       "      <td>None</td>\n",
       "      <td>None</td>\n",
       "      <td>None</td>\n",
       "      <td>None</td>\n",
       "      <td>None</td>\n",
       "      <td>None</td>\n",
       "      <td>None</td>\n",
       "      <td>None</td>\n",
       "      <td>None</td>\n",
       "      <td>None</td>\n",
       "    </tr>\n",
       "    <tr>\n",
       "      <th>2627</th>\n",
       "      <td>origin</td>\n",
       "      <td>messag</td>\n",
       "      <td>john</td>\n",
       "      <td>hall</td>\n",
       "      <td>green</td>\n",
       "      <td>said</td>\n",
       "      <td>spot</td>\n",
       "      <td>owl</td>\n",
       "      <td>exist</td>\n",
       "      <td>would</td>\n",
       "      <td>...</td>\n",
       "      <td>None</td>\n",
       "      <td>None</td>\n",
       "      <td>None</td>\n",
       "      <td>None</td>\n",
       "      <td>None</td>\n",
       "      <td>None</td>\n",
       "      <td>None</td>\n",
       "      <td>None</td>\n",
       "      <td>None</td>\n",
       "      <td>None</td>\n",
       "    </tr>\n",
       "    <tr>\n",
       "      <th>2118</th>\n",
       "      <td>familiar</td>\n",
       "      <td>dell</td>\n",
       "      <td>dimens</td>\n",
       "      <td>xp</td>\n",
       "      <td>honest</td>\n",
       "      <td>familiar</td>\n",
       "      <td>comput</td>\n",
       "      <td>experi</td>\n",
       "      <td>china</td>\n",
       "      <td>motherboard</td>\n",
       "      <td>...</td>\n",
       "      <td>None</td>\n",
       "      <td>None</td>\n",
       "      <td>None</td>\n",
       "      <td>None</td>\n",
       "      <td>None</td>\n",
       "      <td>None</td>\n",
       "      <td>None</td>\n",
       "      <td>None</td>\n",
       "      <td>None</td>\n",
       "      <td>None</td>\n",
       "    </tr>\n",
       "  </tbody>\n",
       "</table>\n",
       "<p>5 rows × 7671 columns</p>\n",
       "</div>"
      ],
      "text/plain": [
       "          0         1        2       3       4         5       6       7     \\\n",
       "3733       url      http     date  suppli  articl      scam  expert   beliv   \n",
       "4463     brian     wrote    howev    data    read   written   twice   sourc   \n",
       "812      money  merchant  account    busi   start       new    busi    know   \n",
       "2627    origin    messag     john    hall   green      said    spot     owl   \n",
       "2118  familiar      dell   dimens      xp  honest  familiar  comput  experi   \n",
       "\n",
       "        8            9     ...  7661  7662  7663  7664  7665  7666  7667  \\\n",
       "3733     mom         beat  ...  None  None  None  None  None  None  None   \n",
       "4463     tar         read  ...  None  None  None  None  None  None  None   \n",
       "812   someon          abl  ...  None  None  None  None  None  None  None   \n",
       "2627   exist        would  ...  None  None  None  None  None  None  None   \n",
       "2118   china  motherboard  ...  None  None  None  None  None  None  None   \n",
       "\n",
       "      7668  7669  7670  \n",
       "3733  None  None  None  \n",
       "4463  None  None  None  \n",
       "812   None  None  None  \n",
       "2627  None  None  None  \n",
       "2118  None  None  None  \n",
       "\n",
       "[5 rows x 7671 columns]"
      ]
     },
     "execution_count": 162,
     "metadata": {},
     "output_type": "execute_result"
    }
   ],
   "source": [
    "x_test.head()"
   ]
  },
  {
   "cell_type": "code",
   "execution_count": 163,
   "id": "9470845d",
   "metadata": {},
   "outputs": [],
   "source": [
    "# x,y train,test name equal to DOC_ID.."
   ]
  },
  {
   "cell_type": "code",
   "execution_count": 164,
   "id": "37bb47ca",
   "metadata": {},
   "outputs": [],
   "source": [
    "x_train.index.name = y_train.index.name = 'DOC_ID'\n",
    "x_test.index.name = y_test.index.name = 'DOC_ID'"
   ]
  },
  {
   "cell_type": "code",
   "execution_count": 165,
   "id": "5b2513d8",
   "metadata": {},
   "outputs": [
    {
     "data": {
      "text/html": [
       "<div>\n",
       "<style scoped>\n",
       "    .dataframe tbody tr th:only-of-type {\n",
       "        vertical-align: middle;\n",
       "    }\n",
       "\n",
       "    .dataframe tbody tr th {\n",
       "        vertical-align: top;\n",
       "    }\n",
       "\n",
       "    .dataframe thead th {\n",
       "        text-align: right;\n",
       "    }\n",
       "</style>\n",
       "<table border=\"1\" class=\"dataframe\">\n",
       "  <thead>\n",
       "    <tr style=\"text-align: right;\">\n",
       "      <th></th>\n",
       "      <th>0</th>\n",
       "      <th>1</th>\n",
       "      <th>2</th>\n",
       "      <th>3</th>\n",
       "      <th>4</th>\n",
       "      <th>5</th>\n",
       "      <th>6</th>\n",
       "      <th>7</th>\n",
       "      <th>8</th>\n",
       "      <th>9</th>\n",
       "      <th>...</th>\n",
       "      <th>7661</th>\n",
       "      <th>7662</th>\n",
       "      <th>7663</th>\n",
       "      <th>7664</th>\n",
       "      <th>7665</th>\n",
       "      <th>7666</th>\n",
       "      <th>7667</th>\n",
       "      <th>7668</th>\n",
       "      <th>7669</th>\n",
       "      <th>7670</th>\n",
       "    </tr>\n",
       "    <tr>\n",
       "      <th>DOC_ID</th>\n",
       "      <th></th>\n",
       "      <th></th>\n",
       "      <th></th>\n",
       "      <th></th>\n",
       "      <th></th>\n",
       "      <th></th>\n",
       "      <th></th>\n",
       "      <th></th>\n",
       "      <th></th>\n",
       "      <th></th>\n",
       "      <th></th>\n",
       "      <th></th>\n",
       "      <th></th>\n",
       "      <th></th>\n",
       "      <th></th>\n",
       "      <th></th>\n",
       "      <th></th>\n",
       "      <th></th>\n",
       "      <th></th>\n",
       "      <th></th>\n",
       "      <th></th>\n",
       "    </tr>\n",
       "  </thead>\n",
       "  <tbody>\n",
       "    <tr>\n",
       "      <th>2890</th>\n",
       "      <td>hal</td>\n",
       "      <td>devor</td>\n",
       "      <td>sender</td>\n",
       "      <td>date</td>\n",
       "      <td>mon</td>\n",
       "      <td>sep</td>\n",
       "      <td>mon</td>\n",
       "      <td>sep</td>\n",
       "      <td>rick</td>\n",
       "      <td>rick</td>\n",
       "      <td>...</td>\n",
       "      <td>None</td>\n",
       "      <td>None</td>\n",
       "      <td>None</td>\n",
       "      <td>None</td>\n",
       "      <td>None</td>\n",
       "      <td>None</td>\n",
       "      <td>None</td>\n",
       "      <td>None</td>\n",
       "      <td>None</td>\n",
       "      <td>None</td>\n",
       "    </tr>\n",
       "    <tr>\n",
       "      <th>5070</th>\n",
       "      <td>thu</td>\n",
       "      <td>jul</td>\n",
       "      <td>matthia</td>\n",
       "      <td>saou</td>\n",
       "      <td>wrote</td>\n",
       "      <td>upon</td>\n",
       "      <td>time</td>\n",
       "      <td>matthia</td>\n",
       "      <td>wrote</td>\n",
       "      <td>see</td>\n",
       "      <td>...</td>\n",
       "      <td>None</td>\n",
       "      <td>None</td>\n",
       "      <td>None</td>\n",
       "      <td>None</td>\n",
       "      <td>None</td>\n",
       "      <td>None</td>\n",
       "      <td>None</td>\n",
       "      <td>None</td>\n",
       "      <td>None</td>\n",
       "      <td>None</td>\n",
       "    </tr>\n",
       "    <tr>\n",
       "      <th>1293</th>\n",
       "      <td>tremend</td>\n",
       "      <td>save</td>\n",
       "      <td>toner</td>\n",
       "      <td>inkjet</td>\n",
       "      <td>fax</td>\n",
       "      <td>thermal</td>\n",
       "      <td>replenish</td>\n",
       "      <td>toner</td>\n",
       "      <td>go</td>\n",
       "      <td>secret</td>\n",
       "      <td>...</td>\n",
       "      <td>None</td>\n",
       "      <td>None</td>\n",
       "      <td>None</td>\n",
       "      <td>None</td>\n",
       "      <td>None</td>\n",
       "      <td>None</td>\n",
       "      <td>None</td>\n",
       "      <td>None</td>\n",
       "      <td>None</td>\n",
       "      <td>None</td>\n",
       "    </tr>\n",
       "    <tr>\n",
       "      <th>4355</th>\n",
       "      <td>offici</td>\n",
       "      <td>failur</td>\n",
       "      <td>one</td>\n",
       "      <td>form</td>\n",
       "      <td>colleg</td>\n",
       "      <td>colleagu</td>\n",
       "      <td>yvett</td>\n",
       "      <td>cooper</td>\n",
       "      <td>mp</td>\n",
       "      <td>pontefract</td>\n",
       "      <td>...</td>\n",
       "      <td>None</td>\n",
       "      <td>None</td>\n",
       "      <td>None</td>\n",
       "      <td>None</td>\n",
       "      <td>None</td>\n",
       "      <td>None</td>\n",
       "      <td>None</td>\n",
       "      <td>None</td>\n",
       "      <td>None</td>\n",
       "      <td>None</td>\n",
       "    </tr>\n",
       "    <tr>\n",
       "      <th>4845</th>\n",
       "      <td>ye</td>\n",
       "      <td>inde</td>\n",
       "      <td>agent</td>\n",
       "      <td>directori</td>\n",
       "      <td>verita</td>\n",
       "      <td>cd</td>\n",
       "      <td>unix</td>\n",
       "      <td>subdirectori</td>\n",
       "      <td>file</td>\n",
       "      <td>call</td>\n",
       "      <td>...</td>\n",
       "      <td>None</td>\n",
       "      <td>None</td>\n",
       "      <td>None</td>\n",
       "      <td>None</td>\n",
       "      <td>None</td>\n",
       "      <td>None</td>\n",
       "      <td>None</td>\n",
       "      <td>None</td>\n",
       "      <td>None</td>\n",
       "      <td>None</td>\n",
       "    </tr>\n",
       "  </tbody>\n",
       "</table>\n",
       "<p>5 rows × 7671 columns</p>\n",
       "</div>"
      ],
      "text/plain": [
       "           0       1        2          3       4         5          6     \\\n",
       "DOC_ID                                                                     \n",
       "2890        hal   devor   sender       date     mon       sep        mon   \n",
       "5070        thu     jul  matthia       saou   wrote      upon       time   \n",
       "1293    tremend    save    toner     inkjet     fax   thermal  replenish   \n",
       "4355     offici  failur      one       form  colleg  colleagu      yvett   \n",
       "4845         ye    inde    agent  directori  verita        cd       unix   \n",
       "\n",
       "                7      8           9     ...  7661  7662  7663  7664  7665  \\\n",
       "DOC_ID                                   ...                                 \n",
       "2890             sep   rick        rick  ...  None  None  None  None  None   \n",
       "5070         matthia  wrote         see  ...  None  None  None  None  None   \n",
       "1293           toner     go      secret  ...  None  None  None  None  None   \n",
       "4355          cooper     mp  pontefract  ...  None  None  None  None  None   \n",
       "4845    subdirectori   file        call  ...  None  None  None  None  None   \n",
       "\n",
       "        7666  7667  7668  7669  7670  \n",
       "DOC_ID                                \n",
       "2890    None  None  None  None  None  \n",
       "5070    None  None  None  None  None  \n",
       "1293    None  None  None  None  None  \n",
       "4355    None  None  None  None  None  \n",
       "4845    None  None  None  None  None  \n",
       "\n",
       "[5 rows x 7671 columns]"
      ]
     },
     "execution_count": 165,
     "metadata": {},
     "output_type": "execute_result"
    }
   ],
   "source": [
    "x_train.head()"
   ]
  },
  {
   "cell_type": "code",
   "execution_count": 166,
   "id": "7d690bfa",
   "metadata": {},
   "outputs": [
    {
     "data": {
      "text/plain": [
       "DOC_ID\n",
       "2890    0\n",
       "5070    0\n",
       "1293    1\n",
       "4355    0\n",
       "4845    0\n",
       "Name: CATEGORY, dtype: int64"
      ]
     },
     "execution_count": 166,
     "metadata": {},
     "output_type": "execute_result"
    }
   ],
   "source": [
    "y_train.head()"
   ]
  },
  {
   "cell_type": "code",
   "execution_count": 167,
   "id": "87313bb1",
   "metadata": {},
   "outputs": [
    {
     "data": {
      "text/plain": [
       "DOC_ID\n",
       "3733    0\n",
       "4463    0\n",
       "812     1\n",
       "2627    0\n",
       "2118    0\n",
       "Name: CATEGORY, dtype: int64"
      ]
     },
     "execution_count": 167,
     "metadata": {},
     "output_type": "execute_result"
    }
   ],
   "source": [
    "y_test.head()"
   ]
  },
  {
   "cell_type": "code",
   "execution_count": 168,
   "id": "116c8b11",
   "metadata": {},
   "outputs": [
    {
     "data": {
      "text/html": [
       "<div>\n",
       "<style scoped>\n",
       "    .dataframe tbody tr th:only-of-type {\n",
       "        vertical-align: middle;\n",
       "    }\n",
       "\n",
       "    .dataframe tbody tr th {\n",
       "        vertical-align: top;\n",
       "    }\n",
       "\n",
       "    .dataframe thead th {\n",
       "        text-align: right;\n",
       "    }\n",
       "</style>\n",
       "<table border=\"1\" class=\"dataframe\">\n",
       "  <thead>\n",
       "    <tr style=\"text-align: right;\">\n",
       "      <th></th>\n",
       "      <th>VOCAB_WORD</th>\n",
       "    </tr>\n",
       "    <tr>\n",
       "      <th>WORD_ID</th>\n",
       "      <th></th>\n",
       "    </tr>\n",
       "  </thead>\n",
       "  <tbody>\n",
       "    <tr>\n",
       "      <th>0</th>\n",
       "      <td>http</td>\n",
       "    </tr>\n",
       "    <tr>\n",
       "      <th>1</th>\n",
       "      <td>use</td>\n",
       "    </tr>\n",
       "    <tr>\n",
       "      <th>2</th>\n",
       "      <td>list</td>\n",
       "    </tr>\n",
       "    <tr>\n",
       "      <th>3</th>\n",
       "      <td>email</td>\n",
       "    </tr>\n",
       "    <tr>\n",
       "      <th>4</th>\n",
       "      <td>get</td>\n",
       "    </tr>\n",
       "    <tr>\n",
       "      <th>...</th>\n",
       "      <td>...</td>\n",
       "    </tr>\n",
       "    <tr>\n",
       "      <th>2495</th>\n",
       "      <td>flight</td>\n",
       "    </tr>\n",
       "    <tr>\n",
       "      <th>2496</th>\n",
       "      <td>steven</td>\n",
       "    </tr>\n",
       "    <tr>\n",
       "      <th>2497</th>\n",
       "      <td>manner</td>\n",
       "    </tr>\n",
       "    <tr>\n",
       "      <th>2498</th>\n",
       "      <td>rapid</td>\n",
       "    </tr>\n",
       "    <tr>\n",
       "      <th>2499</th>\n",
       "      <td>missil</td>\n",
       "    </tr>\n",
       "  </tbody>\n",
       "</table>\n",
       "<p>2500 rows × 1 columns</p>\n",
       "</div>"
      ],
      "text/plain": [
       "        VOCAB_WORD\n",
       "WORD_ID           \n",
       "0             http\n",
       "1              use\n",
       "2             list\n",
       "3            email\n",
       "4              get\n",
       "...            ...\n",
       "2495        flight\n",
       "2496        steven\n",
       "2497        manner\n",
       "2498         rapid\n",
       "2499        missil\n",
       "\n",
       "[2500 rows x 1 columns]"
      ]
     },
     "execution_count": 168,
     "metadata": {},
     "output_type": "execute_result"
    }
   ],
   "source": [
    "vocab"
   ]
  },
  {
   "cell_type": "code",
   "execution_count": 169,
   "id": "abbab629",
   "metadata": {},
   "outputs": [],
   "source": [
    "# If I know the word id , then I can know the word....."
   ]
  },
  {
   "cell_type": "code",
   "execution_count": 170,
   "id": "cc8aa270",
   "metadata": {},
   "outputs": [
    {
     "data": {
      "text/plain": [
       "'manner'"
      ]
     },
     "execution_count": 170,
     "metadata": {},
     "output_type": "execute_result"
    }
   ],
   "source": [
    "vocab.at[2497, 'VOCAB_WORD']"
   ]
  },
  {
   "cell_type": "code",
   "execution_count": 171,
   "id": "e3bbe174",
   "metadata": {},
   "outputs": [],
   "source": [
    "# If I know the word can I get the word_id.....getting the index as VOACB_WORD"
   ]
  },
  {
   "cell_type": "code",
   "execution_count": 172,
   "id": "28b467e8",
   "metadata": {},
   "outputs": [
    {
     "data": {
      "text/plain": [
       "Index(['http', 'use', 'list', 'email', 'get', 'mail', 'one', 'free', 'time',\n",
       "       'work',\n",
       "       ...\n",
       "       'scope', 'asian', 'con', 'rm', 'telecommun', 'flight', 'steven',\n",
       "       'manner', 'rapid', 'missil'],\n",
       "      dtype='object', name='VOCAB_WORD', length=2500)"
      ]
     },
     "execution_count": 172,
     "metadata": {},
     "output_type": "execute_result"
    }
   ],
   "source": [
    "word_index = pd.Index(vocab.VOCAB_WORD)\n",
    "word_index"
   ]
  },
  {
   "cell_type": "code",
   "execution_count": 186,
   "id": "31018706",
   "metadata": {},
   "outputs": [
    {
     "data": {
      "text/plain": [
       "2499"
      ]
     },
     "execution_count": 186,
     "metadata": {},
     "output_type": "execute_result"
    }
   ],
   "source": [
    "word_index.get_loc('missil')"
   ]
  },
  {
   "cell_type": "code",
   "execution_count": 187,
   "id": "173c4f4d",
   "metadata": {},
   "outputs": [
    {
     "data": {
      "text/plain": [
       "0"
      ]
     },
     "execution_count": 187,
     "metadata": {},
     "output_type": "execute_result"
    }
   ],
   "source": [
    "word_index.get_loc('http')"
   ]
  },
  {
   "cell_type": "code",
   "execution_count": 188,
   "id": "db8455b5",
   "metadata": {},
   "outputs": [],
   "source": [
    "# "
   ]
  },
  {
   "cell_type": "code",
   "execution_count": 189,
   "id": "feceacf7",
   "metadata": {},
   "outputs": [
    {
     "data": {
      "text/html": [
       "<div>\n",
       "<style scoped>\n",
       "    .dataframe tbody tr th:only-of-type {\n",
       "        vertical-align: middle;\n",
       "    }\n",
       "\n",
       "    .dataframe tbody tr th {\n",
       "        vertical-align: top;\n",
       "    }\n",
       "\n",
       "    .dataframe thead th {\n",
       "        text-align: right;\n",
       "    }\n",
       "</style>\n",
       "<table border=\"1\" class=\"dataframe\">\n",
       "  <thead>\n",
       "    <tr style=\"text-align: right;\">\n",
       "      <th></th>\n",
       "      <th>0</th>\n",
       "      <th>1</th>\n",
       "      <th>2</th>\n",
       "      <th>3</th>\n",
       "      <th>4</th>\n",
       "      <th>5</th>\n",
       "      <th>6</th>\n",
       "      <th>7</th>\n",
       "      <th>8</th>\n",
       "      <th>9</th>\n",
       "      <th>...</th>\n",
       "      <th>7661</th>\n",
       "      <th>7662</th>\n",
       "      <th>7663</th>\n",
       "      <th>7664</th>\n",
       "      <th>7665</th>\n",
       "      <th>7666</th>\n",
       "      <th>7667</th>\n",
       "      <th>7668</th>\n",
       "      <th>7669</th>\n",
       "      <th>7670</th>\n",
       "    </tr>\n",
       "    <tr>\n",
       "      <th>DOC_ID</th>\n",
       "      <th></th>\n",
       "      <th></th>\n",
       "      <th></th>\n",
       "      <th></th>\n",
       "      <th></th>\n",
       "      <th></th>\n",
       "      <th></th>\n",
       "      <th></th>\n",
       "      <th></th>\n",
       "      <th></th>\n",
       "      <th></th>\n",
       "      <th></th>\n",
       "      <th></th>\n",
       "      <th></th>\n",
       "      <th></th>\n",
       "      <th></th>\n",
       "      <th></th>\n",
       "      <th></th>\n",
       "      <th></th>\n",
       "      <th></th>\n",
       "      <th></th>\n",
       "    </tr>\n",
       "  </thead>\n",
       "  <tbody>\n",
       "    <tr>\n",
       "      <th>2890</th>\n",
       "      <td>hal</td>\n",
       "      <td>devor</td>\n",
       "      <td>sender</td>\n",
       "      <td>date</td>\n",
       "      <td>mon</td>\n",
       "      <td>sep</td>\n",
       "      <td>mon</td>\n",
       "      <td>sep</td>\n",
       "      <td>rick</td>\n",
       "      <td>rick</td>\n",
       "      <td>...</td>\n",
       "      <td>None</td>\n",
       "      <td>None</td>\n",
       "      <td>None</td>\n",
       "      <td>None</td>\n",
       "      <td>None</td>\n",
       "      <td>None</td>\n",
       "      <td>None</td>\n",
       "      <td>None</td>\n",
       "      <td>None</td>\n",
       "      <td>None</td>\n",
       "    </tr>\n",
       "    <tr>\n",
       "      <th>5070</th>\n",
       "      <td>thu</td>\n",
       "      <td>jul</td>\n",
       "      <td>matthia</td>\n",
       "      <td>saou</td>\n",
       "      <td>wrote</td>\n",
       "      <td>upon</td>\n",
       "      <td>time</td>\n",
       "      <td>matthia</td>\n",
       "      <td>wrote</td>\n",
       "      <td>see</td>\n",
       "      <td>...</td>\n",
       "      <td>None</td>\n",
       "      <td>None</td>\n",
       "      <td>None</td>\n",
       "      <td>None</td>\n",
       "      <td>None</td>\n",
       "      <td>None</td>\n",
       "      <td>None</td>\n",
       "      <td>None</td>\n",
       "      <td>None</td>\n",
       "      <td>None</td>\n",
       "    </tr>\n",
       "    <tr>\n",
       "      <th>1293</th>\n",
       "      <td>tremend</td>\n",
       "      <td>save</td>\n",
       "      <td>toner</td>\n",
       "      <td>inkjet</td>\n",
       "      <td>fax</td>\n",
       "      <td>thermal</td>\n",
       "      <td>replenish</td>\n",
       "      <td>toner</td>\n",
       "      <td>go</td>\n",
       "      <td>secret</td>\n",
       "      <td>...</td>\n",
       "      <td>None</td>\n",
       "      <td>None</td>\n",
       "      <td>None</td>\n",
       "      <td>None</td>\n",
       "      <td>None</td>\n",
       "      <td>None</td>\n",
       "      <td>None</td>\n",
       "      <td>None</td>\n",
       "      <td>None</td>\n",
       "      <td>None</td>\n",
       "    </tr>\n",
       "    <tr>\n",
       "      <th>4355</th>\n",
       "      <td>offici</td>\n",
       "      <td>failur</td>\n",
       "      <td>one</td>\n",
       "      <td>form</td>\n",
       "      <td>colleg</td>\n",
       "      <td>colleagu</td>\n",
       "      <td>yvett</td>\n",
       "      <td>cooper</td>\n",
       "      <td>mp</td>\n",
       "      <td>pontefract</td>\n",
       "      <td>...</td>\n",
       "      <td>None</td>\n",
       "      <td>None</td>\n",
       "      <td>None</td>\n",
       "      <td>None</td>\n",
       "      <td>None</td>\n",
       "      <td>None</td>\n",
       "      <td>None</td>\n",
       "      <td>None</td>\n",
       "      <td>None</td>\n",
       "      <td>None</td>\n",
       "    </tr>\n",
       "    <tr>\n",
       "      <th>4845</th>\n",
       "      <td>ye</td>\n",
       "      <td>inde</td>\n",
       "      <td>agent</td>\n",
       "      <td>directori</td>\n",
       "      <td>verita</td>\n",
       "      <td>cd</td>\n",
       "      <td>unix</td>\n",
       "      <td>subdirectori</td>\n",
       "      <td>file</td>\n",
       "      <td>call</td>\n",
       "      <td>...</td>\n",
       "      <td>None</td>\n",
       "      <td>None</td>\n",
       "      <td>None</td>\n",
       "      <td>None</td>\n",
       "      <td>None</td>\n",
       "      <td>None</td>\n",
       "      <td>None</td>\n",
       "      <td>None</td>\n",
       "      <td>None</td>\n",
       "      <td>None</td>\n",
       "    </tr>\n",
       "    <tr>\n",
       "      <th>...</th>\n",
       "      <td>...</td>\n",
       "      <td>...</td>\n",
       "      <td>...</td>\n",
       "      <td>...</td>\n",
       "      <td>...</td>\n",
       "      <td>...</td>\n",
       "      <td>...</td>\n",
       "      <td>...</td>\n",
       "      <td>...</td>\n",
       "      <td>...</td>\n",
       "      <td>...</td>\n",
       "      <td>...</td>\n",
       "      <td>...</td>\n",
       "      <td>...</td>\n",
       "      <td>...</td>\n",
       "      <td>...</td>\n",
       "      <td>...</td>\n",
       "      <td>...</td>\n",
       "      <td>...</td>\n",
       "      <td>...</td>\n",
       "      <td>...</td>\n",
       "    </tr>\n",
       "    <tr>\n",
       "      <th>3772</th>\n",
       "      <td>url</td>\n",
       "      <td>http</td>\n",
       "      <td>date</td>\n",
       "      <td>tue</td>\n",
       "      <td>sep</td>\n",
       "      <td>gmt</td>\n",
       "      <td>overwork</td>\n",
       "      <td>world</td>\n",
       "      <td>web</td>\n",
       "      <td>develop</td>\n",
       "      <td>...</td>\n",
       "      <td>None</td>\n",
       "      <td>None</td>\n",
       "      <td>None</td>\n",
       "      <td>None</td>\n",
       "      <td>None</td>\n",
       "      <td>None</td>\n",
       "      <td>None</td>\n",
       "      <td>None</td>\n",
       "      <td>None</td>\n",
       "      <td>None</td>\n",
       "    </tr>\n",
       "    <tr>\n",
       "      <th>5191</th>\n",
       "      <td>paid</td>\n",
       "      <td>cuteftp</td>\n",
       "      <td>window</td>\n",
       "      <td>box</td>\n",
       "      <td>well</td>\n",
       "      <td>worth</td>\n",
       "      <td>money</td>\n",
       "      <td>despit</td>\n",
       "      <td>free</td>\n",
       "      <td>altern</td>\n",
       "      <td>...</td>\n",
       "      <td>None</td>\n",
       "      <td>None</td>\n",
       "      <td>None</td>\n",
       "      <td>None</td>\n",
       "      <td>None</td>\n",
       "      <td>None</td>\n",
       "      <td>None</td>\n",
       "      <td>None</td>\n",
       "      <td>None</td>\n",
       "      <td>None</td>\n",
       "    </tr>\n",
       "    <tr>\n",
       "      <th>5226</th>\n",
       "      <td>littl</td>\n",
       "      <td>tidbit</td>\n",
       "      <td>still</td>\n",
       "      <td>believ</td>\n",
       "      <td>scienc</td>\n",
       "      <td>opinion</td>\n",
       "      <td>poll</td>\n",
       "      <td>cheer</td>\n",
       "      <td>rah</td>\n",
       "      <td>http</td>\n",
       "      <td>...</td>\n",
       "      <td>None</td>\n",
       "      <td>None</td>\n",
       "      <td>None</td>\n",
       "      <td>None</td>\n",
       "      <td>None</td>\n",
       "      <td>None</td>\n",
       "      <td>None</td>\n",
       "      <td>None</td>\n",
       "      <td>None</td>\n",
       "      <td>None</td>\n",
       "    </tr>\n",
       "    <tr>\n",
       "      <th>5390</th>\n",
       "      <td>ideal</td>\n",
       "      <td>mailwal</td>\n",
       "      <td>allow</td>\n",
       "      <td>messag</td>\n",
       "      <td>passthrough</td>\n",
       "      <td>mani</td>\n",
       "      <td>way</td>\n",
       "      <td>sender</td>\n",
       "      <td>membership</td>\n",
       "      <td>person</td>\n",
       "      <td>...</td>\n",
       "      <td>None</td>\n",
       "      <td>None</td>\n",
       "      <td>None</td>\n",
       "      <td>None</td>\n",
       "      <td>None</td>\n",
       "      <td>None</td>\n",
       "      <td>None</td>\n",
       "      <td>None</td>\n",
       "      <td>None</td>\n",
       "      <td>None</td>\n",
       "    </tr>\n",
       "    <tr>\n",
       "      <th>860</th>\n",
       "      <td>see</td>\n",
       "      <td>exit</td>\n",
       "      <td>inform</td>\n",
       "      <td>dear</td>\n",
       "      <td>friend</td>\n",
       "      <td>discov</td>\n",
       "      <td>five</td>\n",
       "      <td>internet</td>\n",
       "      <td>busi</td>\n",
       "      <td>set</td>\n",
       "      <td>...</td>\n",
       "      <td>None</td>\n",
       "      <td>None</td>\n",
       "      <td>None</td>\n",
       "      <td>None</td>\n",
       "      <td>None</td>\n",
       "      <td>None</td>\n",
       "      <td>None</td>\n",
       "      <td>None</td>\n",
       "      <td>None</td>\n",
       "      <td>None</td>\n",
       "    </tr>\n",
       "  </tbody>\n",
       "</table>\n",
       "<p>4057 rows × 7671 columns</p>\n",
       "</div>"
      ],
      "text/plain": [
       "           0        1        2          3            4         5     \\\n",
       "DOC_ID                                                                \n",
       "2890        hal    devor   sender       date          mon       sep   \n",
       "5070        thu      jul  matthia       saou        wrote      upon   \n",
       "1293    tremend     save    toner     inkjet          fax   thermal   \n",
       "4355     offici   failur      one       form       colleg  colleagu   \n",
       "4845         ye     inde    agent  directori       verita        cd   \n",
       "...         ...      ...      ...        ...          ...       ...   \n",
       "3772        url     http     date        tue          sep       gmt   \n",
       "5191       paid  cuteftp   window        box         well     worth   \n",
       "5226      littl   tidbit    still     believ       scienc   opinion   \n",
       "5390      ideal  mailwal    allow     messag  passthrough      mani   \n",
       "860         see     exit   inform       dear       friend    discov   \n",
       "\n",
       "             6             7           8           9     ...  7661  7662  \\\n",
       "DOC_ID                                                   ...               \n",
       "2890          mon           sep        rick        rick  ...  None  None   \n",
       "5070         time       matthia       wrote         see  ...  None  None   \n",
       "1293    replenish         toner          go      secret  ...  None  None   \n",
       "4355        yvett        cooper          mp  pontefract  ...  None  None   \n",
       "4845         unix  subdirectori        file        call  ...  None  None   \n",
       "...           ...           ...         ...         ...  ...   ...   ...   \n",
       "3772     overwork         world         web     develop  ...  None  None   \n",
       "5191        money        despit        free      altern  ...  None  None   \n",
       "5226         poll         cheer         rah        http  ...  None  None   \n",
       "5390          way        sender  membership      person  ...  None  None   \n",
       "860          five      internet        busi         set  ...  None  None   \n",
       "\n",
       "        7663  7664  7665  7666  7667  7668  7669  7670  \n",
       "DOC_ID                                                  \n",
       "2890    None  None  None  None  None  None  None  None  \n",
       "5070    None  None  None  None  None  None  None  None  \n",
       "1293    None  None  None  None  None  None  None  None  \n",
       "4355    None  None  None  None  None  None  None  None  \n",
       "4845    None  None  None  None  None  None  None  None  \n",
       "...      ...   ...   ...   ...   ...   ...   ...   ...  \n",
       "3772    None  None  None  None  None  None  None  None  \n",
       "5191    None  None  None  None  None  None  None  None  \n",
       "5226    None  None  None  None  None  None  None  None  \n",
       "5390    None  None  None  None  None  None  None  None  \n",
       "860     None  None  None  None  None  None  None  None  \n",
       "\n",
       "[4057 rows x 7671 columns]"
      ]
     },
     "execution_count": 189,
     "metadata": {},
     "output_type": "execute_result"
    }
   ],
   "source": [
    "x_train"
   ]
  },
  {
   "cell_type": "code",
   "execution_count": 190,
   "id": "b9b17ccc",
   "metadata": {},
   "outputs": [
    {
     "data": {
      "text/plain": [
       "DOC_ID\n",
       "2890    0\n",
       "5070    0\n",
       "1293    1\n",
       "4355    0\n",
       "4845    0\n",
       "       ..\n",
       "3772    0\n",
       "5191    0\n",
       "5226    0\n",
       "5390    0\n",
       "860     1\n",
       "Name: CATEGORY, Length: 4057, dtype: int64"
      ]
     },
     "execution_count": 190,
     "metadata": {},
     "output_type": "execute_result"
    }
   ],
   "source": [
    "y_train"
   ]
  },
  {
   "cell_type": "code",
   "execution_count": 191,
   "id": "c23e72d4",
   "metadata": {},
   "outputs": [
    {
     "data": {
      "text/plain": [
       "2890"
      ]
     },
     "execution_count": 191,
     "metadata": {},
     "output_type": "execute_result"
    }
   ],
   "source": [
    "x_train.index[0] # DOC_ID"
   ]
  },
  {
   "cell_type": "code",
   "execution_count": 192,
   "id": "fb350022",
   "metadata": {},
   "outputs": [
    {
     "data": {
      "text/plain": [
       "0"
      ]
     },
     "execution_count": 192,
     "metadata": {},
     "output_type": "execute_result"
    }
   ],
   "source": [
    "y_train[2890]  # LABEL"
   ]
  },
  {
   "cell_type": "code",
   "execution_count": 193,
   "id": "3151b5b9",
   "metadata": {},
   "outputs": [],
   "source": [
    "OCCURENCE = 1"
   ]
  },
  {
   "cell_type": "code",
   "execution_count": 195,
   "id": "c93cda10",
   "metadata": {},
   "outputs": [
    {
     "data": {
      "text/plain": [
       "'save'"
      ]
     },
     "execution_count": 195,
     "metadata": {},
     "output_type": "execute_result"
    }
   ],
   "source": [
    "x_train.at[0,0]  # word"
   ]
  },
  {
   "cell_type": "code",
   "execution_count": 197,
   "id": "162eeeab",
   "metadata": {},
   "outputs": [
    {
     "data": {
      "text/plain": [
       "138"
      ]
     },
     "execution_count": 197,
     "metadata": {},
     "output_type": "execute_result"
    }
   ],
   "source": [
    "word_index.get_loc('save')"
   ]
  },
  {
   "cell_type": "code",
   "execution_count": 200,
   "id": "8f88f231",
   "metadata": {},
   "outputs": [
    {
     "data": {
      "text/plain": [
       "'life'"
      ]
     },
     "execution_count": 200,
     "metadata": {},
     "output_type": "execute_result"
    }
   ],
   "source": [
    "x_train.at[0,1]"
   ]
  },
  {
   "cell_type": "code",
   "execution_count": 201,
   "id": "1d89ce6a",
   "metadata": {},
   "outputs": [
    {
     "data": {
      "text/plain": [
       "118"
      ]
     },
     "execution_count": 201,
     "metadata": {},
     "output_type": "execute_result"
    }
   ],
   "source": [
    "word_index.get_loc('life')"
   ]
  },
  {
   "cell_type": "code",
   "execution_count": 202,
   "id": "f9f4d7ad",
   "metadata": {},
   "outputs": [
    {
     "data": {
      "text/plain": [
       "5070"
      ]
     },
     "execution_count": 202,
     "metadata": {},
     "output_type": "execute_result"
    }
   ],
   "source": [
    "x_train.index[1]"
   ]
  },
  {
   "cell_type": "code",
   "execution_count": 204,
   "id": "0dc60514",
   "metadata": {},
   "outputs": [],
   "source": [
    "def make_sparse_matrix(df, indexed_words, labels):\n",
    "    \n",
    "    nr_rows = df.shape[0]\n",
    "    nr_cols = df.shape[1]\n",
    "    \n",
    "    word_set = set(indexed_words)\n",
    "    dict_list = []\n",
    "    \n",
    "    for i in range(nr_rows):\n",
    "        for j in range(nr_cols):\n",
    "            word = df.iat[i,j]\n",
    "            \n",
    "            if word in word_set:\n",
    "                doc_id = df.index[i]\n",
    "                word_id = indexed_words.get_loc(word)\n",
    "                category = labels.at[doc_id]\n",
    "                item = {'LABEL' : category, 'DOC_ID' : doc_id, 'OCCURANCE' : 1, 'WORD_ID' : word_id}\n",
    "                dict_list.append(item)\n",
    "                \n",
    "    return pd.DataFrame(dict_list)"
   ]
  },
  {
   "cell_type": "code",
   "execution_count": 205,
   "id": "0e40ce43",
   "metadata": {},
   "outputs": [
    {
     "data": {
      "text/html": [
       "<div>\n",
       "<style scoped>\n",
       "    .dataframe tbody tr th:only-of-type {\n",
       "        vertical-align: middle;\n",
       "    }\n",
       "\n",
       "    .dataframe tbody tr th {\n",
       "        vertical-align: top;\n",
       "    }\n",
       "\n",
       "    .dataframe thead th {\n",
       "        text-align: right;\n",
       "    }\n",
       "</style>\n",
       "<table border=\"1\" class=\"dataframe\">\n",
       "  <thead>\n",
       "    <tr style=\"text-align: right;\">\n",
       "      <th></th>\n",
       "      <th>LABEL</th>\n",
       "      <th>DOC_ID</th>\n",
       "      <th>OCCURANCE</th>\n",
       "      <th>WORD_ID</th>\n",
       "    </tr>\n",
       "  </thead>\n",
       "  <tbody>\n",
       "    <tr>\n",
       "      <th>0</th>\n",
       "      <td>0</td>\n",
       "      <td>2890</td>\n",
       "      <td>1</td>\n",
       "      <td>971</td>\n",
       "    </tr>\n",
       "    <tr>\n",
       "      <th>1</th>\n",
       "      <td>0</td>\n",
       "      <td>2890</td>\n",
       "      <td>1</td>\n",
       "      <td>76</td>\n",
       "    </tr>\n",
       "    <tr>\n",
       "      <th>2</th>\n",
       "      <td>0</td>\n",
       "      <td>2890</td>\n",
       "      <td>1</td>\n",
       "      <td>767</td>\n",
       "    </tr>\n",
       "    <tr>\n",
       "      <th>3</th>\n",
       "      <td>0</td>\n",
       "      <td>2890</td>\n",
       "      <td>1</td>\n",
       "      <td>328</td>\n",
       "    </tr>\n",
       "    <tr>\n",
       "      <th>4</th>\n",
       "      <td>0</td>\n",
       "      <td>2890</td>\n",
       "      <td>1</td>\n",
       "      <td>767</td>\n",
       "    </tr>\n",
       "    <tr>\n",
       "      <th>...</th>\n",
       "      <td>...</td>\n",
       "      <td>...</td>\n",
       "      <td>...</td>\n",
       "      <td>...</td>\n",
       "    </tr>\n",
       "    <tr>\n",
       "      <th>429213</th>\n",
       "      <td>1</td>\n",
       "      <td>860</td>\n",
       "      <td>1</td>\n",
       "      <td>47</td>\n",
       "    </tr>\n",
       "    <tr>\n",
       "      <th>429214</th>\n",
       "      <td>1</td>\n",
       "      <td>860</td>\n",
       "      <td>1</td>\n",
       "      <td>1430</td>\n",
       "    </tr>\n",
       "    <tr>\n",
       "      <th>429215</th>\n",
       "      <td>1</td>\n",
       "      <td>860</td>\n",
       "      <td>1</td>\n",
       "      <td>26</td>\n",
       "    </tr>\n",
       "    <tr>\n",
       "      <th>429216</th>\n",
       "      <td>1</td>\n",
       "      <td>860</td>\n",
       "      <td>1</td>\n",
       "      <td>21</td>\n",
       "    </tr>\n",
       "    <tr>\n",
       "      <th>429217</th>\n",
       "      <td>1</td>\n",
       "      <td>860</td>\n",
       "      <td>1</td>\n",
       "      <td>126</td>\n",
       "    </tr>\n",
       "  </tbody>\n",
       "</table>\n",
       "<p>429218 rows × 4 columns</p>\n",
       "</div>"
      ],
      "text/plain": [
       "        LABEL  DOC_ID  OCCURANCE  WORD_ID\n",
       "0           0    2890          1      971\n",
       "1           0    2890          1       76\n",
       "2           0    2890          1      767\n",
       "3           0    2890          1      328\n",
       "4           0    2890          1      767\n",
       "...       ...     ...        ...      ...\n",
       "429213      1     860          1       47\n",
       "429214      1     860          1     1430\n",
       "429215      1     860          1       26\n",
       "429216      1     860          1       21\n",
       "429217      1     860          1      126\n",
       "\n",
       "[429218 rows x 4 columns]"
      ]
     },
     "execution_count": 205,
     "metadata": {},
     "output_type": "execute_result"
    }
   ],
   "source": [
    "sparse_train_df = make_sparse_matrix(x_train, word_index, y_train)\n",
    "sparse_train_df"
   ]
  },
  {
   "cell_type": "code",
   "execution_count": 208,
   "id": "4fee12c2",
   "metadata": {},
   "outputs": [
    {
     "data": {
      "text/html": [
       "<div>\n",
       "<style scoped>\n",
       "    .dataframe tbody tr th:only-of-type {\n",
       "        vertical-align: middle;\n",
       "    }\n",
       "\n",
       "    .dataframe tbody tr th {\n",
       "        vertical-align: top;\n",
       "    }\n",
       "\n",
       "    .dataframe thead th {\n",
       "        text-align: right;\n",
       "    }\n",
       "</style>\n",
       "<table border=\"1\" class=\"dataframe\">\n",
       "  <thead>\n",
       "    <tr style=\"text-align: right;\">\n",
       "      <th></th>\n",
       "      <th></th>\n",
       "      <th></th>\n",
       "      <th>OCCURANCE</th>\n",
       "    </tr>\n",
       "    <tr>\n",
       "      <th>DOC_ID</th>\n",
       "      <th>WORD_ID</th>\n",
       "      <th>LABEL</th>\n",
       "      <th></th>\n",
       "    </tr>\n",
       "  </thead>\n",
       "  <tbody>\n",
       "    <tr>\n",
       "      <th rowspan=\"5\" valign=\"top\">0</th>\n",
       "      <th>2</th>\n",
       "      <th>1</th>\n",
       "      <td>1</td>\n",
       "    </tr>\n",
       "    <tr>\n",
       "      <th>3</th>\n",
       "      <th>1</th>\n",
       "      <td>2</td>\n",
       "    </tr>\n",
       "    <tr>\n",
       "      <th>4</th>\n",
       "      <th>1</th>\n",
       "      <td>1</td>\n",
       "    </tr>\n",
       "    <tr>\n",
       "      <th>7</th>\n",
       "      <th>1</th>\n",
       "      <td>3</td>\n",
       "    </tr>\n",
       "    <tr>\n",
       "      <th>11</th>\n",
       "      <th>1</th>\n",
       "      <td>1</td>\n",
       "    </tr>\n",
       "    <tr>\n",
       "      <th>...</th>\n",
       "      <th>...</th>\n",
       "      <th>...</th>\n",
       "      <td>...</td>\n",
       "    </tr>\n",
       "    <tr>\n",
       "      <th rowspan=\"5\" valign=\"top\">5796</th>\n",
       "      <th>2035</th>\n",
       "      <th>0</th>\n",
       "      <td>2</td>\n",
       "    </tr>\n",
       "    <tr>\n",
       "      <th>2038</th>\n",
       "      <th>0</th>\n",
       "      <td>1</td>\n",
       "    </tr>\n",
       "    <tr>\n",
       "      <th>2234</th>\n",
       "      <th>0</th>\n",
       "      <td>1</td>\n",
       "    </tr>\n",
       "    <tr>\n",
       "      <th>2328</th>\n",
       "      <th>0</th>\n",
       "      <td>1</td>\n",
       "    </tr>\n",
       "    <tr>\n",
       "      <th>2381</th>\n",
       "      <th>0</th>\n",
       "      <td>1</td>\n",
       "    </tr>\n",
       "  </tbody>\n",
       "</table>\n",
       "<p>258802 rows × 1 columns</p>\n",
       "</div>"
      ],
      "text/plain": [
       "                      OCCURANCE\n",
       "DOC_ID WORD_ID LABEL           \n",
       "0      2       1              1\n",
       "       3       1              2\n",
       "       4       1              1\n",
       "       7       1              3\n",
       "       11      1              1\n",
       "...                         ...\n",
       "5796   2035    0              2\n",
       "       2038    0              1\n",
       "       2234    0              1\n",
       "       2328    0              1\n",
       "       2381    0              1\n",
       "\n",
       "[258802 rows x 1 columns]"
      ]
     },
     "execution_count": 208,
     "metadata": {},
     "output_type": "execute_result"
    }
   ],
   "source": [
    "train_grouped = sparse_train_df.groupby(['DOC_ID', 'WORD_ID', 'LABEL']).sum()\n",
    "train_grouped"
   ]
  },
  {
   "cell_type": "code",
   "execution_count": 209,
   "id": "d346e9b8",
   "metadata": {},
   "outputs": [
    {
     "data": {
      "text/html": [
       "<div>\n",
       "<style scoped>\n",
       "    .dataframe tbody tr th:only-of-type {\n",
       "        vertical-align: middle;\n",
       "    }\n",
       "\n",
       "    .dataframe tbody tr th {\n",
       "        vertical-align: top;\n",
       "    }\n",
       "\n",
       "    .dataframe thead th {\n",
       "        text-align: right;\n",
       "    }\n",
       "</style>\n",
       "<table border=\"1\" class=\"dataframe\">\n",
       "  <thead>\n",
       "    <tr style=\"text-align: right;\">\n",
       "      <th></th>\n",
       "      <th>DOC_ID</th>\n",
       "      <th>WORD_ID</th>\n",
       "      <th>LABEL</th>\n",
       "      <th>OCCURANCE</th>\n",
       "    </tr>\n",
       "  </thead>\n",
       "  <tbody>\n",
       "    <tr>\n",
       "      <th>0</th>\n",
       "      <td>0</td>\n",
       "      <td>2</td>\n",
       "      <td>1</td>\n",
       "      <td>1</td>\n",
       "    </tr>\n",
       "    <tr>\n",
       "      <th>1</th>\n",
       "      <td>0</td>\n",
       "      <td>3</td>\n",
       "      <td>1</td>\n",
       "      <td>2</td>\n",
       "    </tr>\n",
       "    <tr>\n",
       "      <th>2</th>\n",
       "      <td>0</td>\n",
       "      <td>4</td>\n",
       "      <td>1</td>\n",
       "      <td>1</td>\n",
       "    </tr>\n",
       "    <tr>\n",
       "      <th>3</th>\n",
       "      <td>0</td>\n",
       "      <td>7</td>\n",
       "      <td>1</td>\n",
       "      <td>3</td>\n",
       "    </tr>\n",
       "    <tr>\n",
       "      <th>4</th>\n",
       "      <td>0</td>\n",
       "      <td>11</td>\n",
       "      <td>1</td>\n",
       "      <td>1</td>\n",
       "    </tr>\n",
       "    <tr>\n",
       "      <th>...</th>\n",
       "      <td>...</td>\n",
       "      <td>...</td>\n",
       "      <td>...</td>\n",
       "      <td>...</td>\n",
       "    </tr>\n",
       "    <tr>\n",
       "      <th>258797</th>\n",
       "      <td>5796</td>\n",
       "      <td>2035</td>\n",
       "      <td>0</td>\n",
       "      <td>2</td>\n",
       "    </tr>\n",
       "    <tr>\n",
       "      <th>258798</th>\n",
       "      <td>5796</td>\n",
       "      <td>2038</td>\n",
       "      <td>0</td>\n",
       "      <td>1</td>\n",
       "    </tr>\n",
       "    <tr>\n",
       "      <th>258799</th>\n",
       "      <td>5796</td>\n",
       "      <td>2234</td>\n",
       "      <td>0</td>\n",
       "      <td>1</td>\n",
       "    </tr>\n",
       "    <tr>\n",
       "      <th>258800</th>\n",
       "      <td>5796</td>\n",
       "      <td>2328</td>\n",
       "      <td>0</td>\n",
       "      <td>1</td>\n",
       "    </tr>\n",
       "    <tr>\n",
       "      <th>258801</th>\n",
       "      <td>5796</td>\n",
       "      <td>2381</td>\n",
       "      <td>0</td>\n",
       "      <td>1</td>\n",
       "    </tr>\n",
       "  </tbody>\n",
       "</table>\n",
       "<p>258802 rows × 4 columns</p>\n",
       "</div>"
      ],
      "text/plain": [
       "        DOC_ID  WORD_ID  LABEL  OCCURANCE\n",
       "0            0        2      1          1\n",
       "1            0        3      1          2\n",
       "2            0        4      1          1\n",
       "3            0        7      1          3\n",
       "4            0       11      1          1\n",
       "...        ...      ...    ...        ...\n",
       "258797    5796     2035      0          2\n",
       "258798    5796     2038      0          1\n",
       "258799    5796     2234      0          1\n",
       "258800    5796     2328      0          1\n",
       "258801    5796     2381      0          1\n",
       "\n",
       "[258802 rows x 4 columns]"
      ]
     },
     "execution_count": 209,
     "metadata": {},
     "output_type": "execute_result"
    }
   ],
   "source": [
    "train_grouped = train_grouped.reset_index()\n",
    "train_grouped"
   ]
  },
  {
   "cell_type": "code",
   "execution_count": 210,
   "id": "33f075f6",
   "metadata": {},
   "outputs": [],
   "source": [
    "TRAINING_DATA_FILE = 'SpamData/02_Training/train_data.txt'\n",
    "np.savetxt(TRAINING_DATA_FILE, train_grouped,  fmt='%.18e')"
   ]
  },
  {
   "cell_type": "code",
   "execution_count": 211,
   "id": "7721c315",
   "metadata": {
    "scrolled": true
   },
   "outputs": [
    {
     "data": {
      "text/html": [
       "<div>\n",
       "<style scoped>\n",
       "    .dataframe tbody tr th:only-of-type {\n",
       "        vertical-align: middle;\n",
       "    }\n",
       "\n",
       "    .dataframe tbody tr th {\n",
       "        vertical-align: top;\n",
       "    }\n",
       "\n",
       "    .dataframe thead th {\n",
       "        text-align: right;\n",
       "    }\n",
       "</style>\n",
       "<table border=\"1\" class=\"dataframe\">\n",
       "  <thead>\n",
       "    <tr style=\"text-align: right;\">\n",
       "      <th></th>\n",
       "      <th>LABEL</th>\n",
       "      <th>DOC_ID</th>\n",
       "      <th>OCCURANCE</th>\n",
       "      <th>WORD_ID</th>\n",
       "    </tr>\n",
       "  </thead>\n",
       "  <tbody>\n",
       "    <tr>\n",
       "      <th>0</th>\n",
       "      <td>0</td>\n",
       "      <td>3733</td>\n",
       "      <td>1</td>\n",
       "      <td>109</td>\n",
       "    </tr>\n",
       "    <tr>\n",
       "      <th>1</th>\n",
       "      <td>0</td>\n",
       "      <td>3733</td>\n",
       "      <td>1</td>\n",
       "      <td>0</td>\n",
       "    </tr>\n",
       "    <tr>\n",
       "      <th>2</th>\n",
       "      <td>0</td>\n",
       "      <td>3733</td>\n",
       "      <td>1</td>\n",
       "      <td>76</td>\n",
       "    </tr>\n",
       "    <tr>\n",
       "      <th>3</th>\n",
       "      <td>0</td>\n",
       "      <td>3733</td>\n",
       "      <td>1</td>\n",
       "      <td>339</td>\n",
       "    </tr>\n",
       "    <tr>\n",
       "      <th>4</th>\n",
       "      <td>0</td>\n",
       "      <td>3733</td>\n",
       "      <td>1</td>\n",
       "      <td>614</td>\n",
       "    </tr>\n",
       "    <tr>\n",
       "      <th>...</th>\n",
       "      <td>...</td>\n",
       "      <td>...</td>\n",
       "      <td>...</td>\n",
       "      <td>...</td>\n",
       "    </tr>\n",
       "    <tr>\n",
       "      <th>203430</th>\n",
       "      <td>0</td>\n",
       "      <td>3375</td>\n",
       "      <td>1</td>\n",
       "      <td>250</td>\n",
       "    </tr>\n",
       "    <tr>\n",
       "      <th>203431</th>\n",
       "      <td>0</td>\n",
       "      <td>3375</td>\n",
       "      <td>1</td>\n",
       "      <td>0</td>\n",
       "    </tr>\n",
       "    <tr>\n",
       "      <th>203432</th>\n",
       "      <td>0</td>\n",
       "      <td>3375</td>\n",
       "      <td>1</td>\n",
       "      <td>5</td>\n",
       "    </tr>\n",
       "    <tr>\n",
       "      <th>203433</th>\n",
       "      <td>0</td>\n",
       "      <td>3375</td>\n",
       "      <td>1</td>\n",
       "      <td>2</td>\n",
       "    </tr>\n",
       "    <tr>\n",
       "      <th>203434</th>\n",
       "      <td>0</td>\n",
       "      <td>3375</td>\n",
       "      <td>1</td>\n",
       "      <td>0</td>\n",
       "    </tr>\n",
       "  </tbody>\n",
       "</table>\n",
       "<p>203435 rows × 4 columns</p>\n",
       "</div>"
      ],
      "text/plain": [
       "        LABEL  DOC_ID  OCCURANCE  WORD_ID\n",
       "0           0    3733          1      109\n",
       "1           0    3733          1        0\n",
       "2           0    3733          1       76\n",
       "3           0    3733          1      339\n",
       "4           0    3733          1      614\n",
       "...       ...     ...        ...      ...\n",
       "203430      0    3375          1      250\n",
       "203431      0    3375          1        0\n",
       "203432      0    3375          1        5\n",
       "203433      0    3375          1        2\n",
       "203434      0    3375          1        0\n",
       "\n",
       "[203435 rows x 4 columns]"
      ]
     },
     "execution_count": 211,
     "metadata": {},
     "output_type": "execute_result"
    }
   ],
   "source": [
    "sparse_test_df = make_sparse_matrix(x_test, word_index, y_test)\n",
    "sparse_test_df"
   ]
  },
  {
   "cell_type": "code",
   "execution_count": 217,
   "id": "75191872",
   "metadata": {},
   "outputs": [
    {
     "data": {
      "text/html": [
       "<div>\n",
       "<style scoped>\n",
       "    .dataframe tbody tr th:only-of-type {\n",
       "        vertical-align: middle;\n",
       "    }\n",
       "\n",
       "    .dataframe tbody tr th {\n",
       "        vertical-align: top;\n",
       "    }\n",
       "\n",
       "    .dataframe thead th {\n",
       "        text-align: right;\n",
       "    }\n",
       "</style>\n",
       "<table border=\"1\" class=\"dataframe\">\n",
       "  <thead>\n",
       "    <tr style=\"text-align: right;\">\n",
       "      <th></th>\n",
       "      <th>DOC_ID</th>\n",
       "      <th>WORD_ID</th>\n",
       "      <th>LABEL</th>\n",
       "      <th>index</th>\n",
       "      <th>OCCURANCE</th>\n",
       "    </tr>\n",
       "  </thead>\n",
       "  <tbody>\n",
       "    <tr>\n",
       "      <th>0</th>\n",
       "      <td>8</td>\n",
       "      <td>2</td>\n",
       "      <td>1</td>\n",
       "      <td>31206</td>\n",
       "      <td>1</td>\n",
       "    </tr>\n",
       "    <tr>\n",
       "      <th>1</th>\n",
       "      <td>8</td>\n",
       "      <td>3</td>\n",
       "      <td>1</td>\n",
       "      <td>124771</td>\n",
       "      <td>4</td>\n",
       "    </tr>\n",
       "    <tr>\n",
       "      <th>2</th>\n",
       "      <td>8</td>\n",
       "      <td>4</td>\n",
       "      <td>1</td>\n",
       "      <td>62224</td>\n",
       "      <td>2</td>\n",
       "    </tr>\n",
       "    <tr>\n",
       "      <th>3</th>\n",
       "      <td>8</td>\n",
       "      <td>5</td>\n",
       "      <td>1</td>\n",
       "      <td>31219</td>\n",
       "      <td>1</td>\n",
       "    </tr>\n",
       "    <tr>\n",
       "      <th>4</th>\n",
       "      <td>8</td>\n",
       "      <td>6</td>\n",
       "      <td>1</td>\n",
       "      <td>62171</td>\n",
       "      <td>2</td>\n",
       "    </tr>\n",
       "    <tr>\n",
       "      <th>...</th>\n",
       "      <td>...</td>\n",
       "      <td>...</td>\n",
       "      <td>...</td>\n",
       "      <td>...</td>\n",
       "      <td>...</td>\n",
       "    </tr>\n",
       "    <tr>\n",
       "      <th>117380</th>\n",
       "      <td>5791</td>\n",
       "      <td>1354</td>\n",
       "      <td>0</td>\n",
       "      <td>6719</td>\n",
       "      <td>1</td>\n",
       "    </tr>\n",
       "    <tr>\n",
       "      <th>117381</th>\n",
       "      <td>5791</td>\n",
       "      <td>1597</td>\n",
       "      <td>0</td>\n",
       "      <td>6715</td>\n",
       "      <td>1</td>\n",
       "    </tr>\n",
       "    <tr>\n",
       "      <th>117382</th>\n",
       "      <td>5791</td>\n",
       "      <td>1664</td>\n",
       "      <td>0</td>\n",
       "      <td>6738</td>\n",
       "      <td>1</td>\n",
       "    </tr>\n",
       "    <tr>\n",
       "      <th>117383</th>\n",
       "      <td>5791</td>\n",
       "      <td>2086</td>\n",
       "      <td>0</td>\n",
       "      <td>6774</td>\n",
       "      <td>1</td>\n",
       "    </tr>\n",
       "    <tr>\n",
       "      <th>117384</th>\n",
       "      <td>5791</td>\n",
       "      <td>2196</td>\n",
       "      <td>0</td>\n",
       "      <td>6739</td>\n",
       "      <td>1</td>\n",
       "    </tr>\n",
       "  </tbody>\n",
       "</table>\n",
       "<p>117385 rows × 5 columns</p>\n",
       "</div>"
      ],
      "text/plain": [
       "        DOC_ID  WORD_ID  LABEL   index  OCCURANCE\n",
       "0            8        2      1   31206          1\n",
       "1            8        3      1  124771          4\n",
       "2            8        4      1   62224          2\n",
       "3            8        5      1   31219          1\n",
       "4            8        6      1   62171          2\n",
       "...        ...      ...    ...     ...        ...\n",
       "117380    5791     1354      0    6719          1\n",
       "117381    5791     1597      0    6715          1\n",
       "117382    5791     1664      0    6738          1\n",
       "117383    5791     2086      0    6774          1\n",
       "117384    5791     2196      0    6739          1\n",
       "\n",
       "[117385 rows x 5 columns]"
      ]
     },
     "execution_count": 217,
     "metadata": {},
     "output_type": "execute_result"
    }
   ],
   "source": [
    "test_grouped = sparse_test_df.groupby(['DOC_ID', 'WORD_ID', 'LABEL']).sum().reset_index()\n",
    "test_grouped"
   ]
  },
  {
   "cell_type": "code",
   "execution_count": 218,
   "id": "6c6ad367",
   "metadata": {},
   "outputs": [],
   "source": [
    "TEST_DATA_FILE = 'SpamData/02_Training/test_data.txt'\n",
    "np.savetxt(TEST_DATA_FILE, test_grouped, fmt='%.18e')"
   ]
  },
  {
   "cell_type": "code",
   "execution_count": 220,
   "id": "32f45797",
   "metadata": {},
   "outputs": [
    {
     "data": {
      "text/plain": [
       "1725"
      ]
     },
     "execution_count": 220,
     "metadata": {},
     "output_type": "execute_result"
    }
   ],
   "source": [
    "len(test_grouped.DOC_ID.unique())"
   ]
  },
  {
   "cell_type": "code",
   "execution_count": 221,
   "id": "ea8b2992",
   "metadata": {},
   "outputs": [
    {
     "data": {
      "text/plain": [
       "1740"
      ]
     },
     "execution_count": 221,
     "metadata": {},
     "output_type": "execute_result"
    }
   ],
   "source": [
    "len(x_test)"
   ]
  },
  {
   "cell_type": "code",
   "execution_count": 222,
   "id": "54a1f52b",
   "metadata": {},
   "outputs": [
    {
     "data": {
      "text/plain": [
       "15"
      ]
     },
     "execution_count": 222,
     "metadata": {},
     "output_type": "execute_result"
    }
   ],
   "source": [
    "no_of_test_mails_lost = len(x_test) - len(test_grouped.DOC_ID.unique())\n",
    "no_of_test_mails_lost"
   ]
  },
  {
   "cell_type": "code",
   "execution_count": 223,
   "id": "9db33427",
   "metadata": {},
   "outputs": [
    {
     "data": {
      "text/plain": [
       "4013"
      ]
     },
     "execution_count": 223,
     "metadata": {},
     "output_type": "execute_result"
    }
   ],
   "source": [
    "len(train_grouped.DOC_ID.unique())"
   ]
  },
  {
   "cell_type": "code",
   "execution_count": 224,
   "id": "906fb1f4",
   "metadata": {},
   "outputs": [
    {
     "data": {
      "text/plain": [
       "4057"
      ]
     },
     "execution_count": 224,
     "metadata": {},
     "output_type": "execute_result"
    }
   ],
   "source": [
    "len(x_train)"
   ]
  },
  {
   "cell_type": "code",
   "execution_count": 225,
   "id": "37a29434",
   "metadata": {},
   "outputs": [
    {
     "data": {
      "text/plain": [
       "44"
      ]
     },
     "execution_count": 225,
     "metadata": {},
     "output_type": "execute_result"
    }
   ],
   "source": [
    "no_of_train_mails_lost = len(x_train) - len(train_grouped.DOC_ID.unique())\n",
    "no_of_train_mails_lost"
   ]
  },
  {
   "cell_type": "code",
   "execution_count": null,
   "id": "1c95b62c",
   "metadata": {},
   "outputs": [],
   "source": []
  }
 ],
 "metadata": {
  "kernelspec": {
   "display_name": "Python 3 (ipykernel)",
   "language": "python",
   "name": "python3"
  },
  "language_info": {
   "codemirror_mode": {
    "name": "ipython",
    "version": 3
   },
   "file_extension": ".py",
   "mimetype": "text/x-python",
   "name": "python",
   "nbconvert_exporter": "python",
   "pygments_lexer": "ipython3",
   "version": "3.9.7"
  }
 },
 "nbformat": 4,
 "nbformat_minor": 5
}
